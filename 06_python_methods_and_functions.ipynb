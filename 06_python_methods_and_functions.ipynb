{
 "cells": [
  {
   "cell_type": "markdown",
   "metadata": {},
   "source": [
    "# Python Methods & Functions\n",
    "\n",
    "![python logo](https://www.python.org/static/community_logos/python-logo-inkscape.svg)\n",
    "\n",
    "\n",
    "## Section coverage\n",
    "- 6.01 Object methods in Python\n",
    "- 6.02 Functions in Python\n",
    "- 6.03 `*args` & `**kwargs` in Python\n",
    "- 6.04 map & filter in Python"
   ]
  },
  {
   "cell_type": "markdown",
   "metadata": {},
   "source": [
    "## 6.01 - Object methods in Python"
   ]
  },
  {
   "cell_type": "markdown",
   "metadata": {},
   "source": [
    "Built-in objects have a variety of methods that can be used. When we're coding within an editor such as vim, vscode, sublime the language runtime comes with a form of intellisense that is activated when you access the `dot` separator of an object. What that means is that in declaring an object when you reference it with a `dot` as the postfix you will typically be presented with an intellisense list of associated methods and functions which are contextually applicable to the object."
   ]
  },
  {
   "cell_type": "markdown",
   "metadata": {},
   "source": [
    "#### Methods and recovering ground"
   ]
  },
  {
   "cell_type": "markdown",
   "metadata": {},
   "source": [
    "We have seen some methods already, but let's cover the concept of object methods. "
   ]
  },
  {
   "cell_type": "code",
   "execution_count": 13,
   "metadata": {},
   "outputs": [],
   "source": [
    "# create a utility function to call to display the \n",
    "# length and content of an object passed to it.\n",
    "\n",
    "def show_details(name, source):\n",
    "    print(f\"{name} length: {len(source)}\")\n",
    "    print(f\"{name}: {source}\")"
   ]
  },
  {
   "cell_type": "code",
   "execution_count": 14,
   "metadata": {},
   "outputs": [
    {
     "name": "stdout",
     "output_type": "stream",
     "text": [
      "my_list length: 5\n",
      "my_list: [1, 2, 3, 4, 5]\n"
     ]
    }
   ],
   "source": [
    "# create a list object\n",
    "my_list = [1,2,3,4,5]\n",
    "\n",
    "# show the length of our structure, and the list itself\n",
    "show_details(\"my_list\", my_list)\n"
   ]
  },
  {
   "cell_type": "code",
   "execution_count": 15,
   "metadata": {},
   "outputs": [
    {
     "name": "stdout",
     "output_type": "stream",
     "text": [
      "my_list length: 6\n",
      "my_list: [1, 2, 3, 4, 5, 'once I caught a fish alive']\n"
     ]
    }
   ],
   "source": [
    "# use the append method to add a new element \n",
    "# to the end of our list. \n",
    "my_list.append(\"once I caught a fish alive\")\n",
    "\n",
    "show_details(\"my_list\", my_list)"
   ]
  },
  {
   "cell_type": "code",
   "execution_count": 16,
   "metadata": {},
   "outputs": [
    {
     "name": "stdout",
     "output_type": "stream",
     "text": [
      "my_list length: 5\n",
      "my_list: [1, 2, 3, 4, 5]\n"
     ]
    }
   ],
   "source": [
    "# pop the last element (the one we just added) off the list\n",
    "my_list.pop()\n",
    "\n",
    "# et voila, we're back to a beautiful list of \n",
    "# integer values once again. \n",
    "show_details(\"my_list\", my_list)"
   ]
  },
  {
   "cell_type": "markdown",
   "metadata": {},
   "source": [
    "#### Don't try to memorise everything, it wont work! \n",
    "\n",
    "It becomes fairly clear that there's no way to remember all the methods and functions that are open to a programmer contextually for all the types and therefore it makes sense to remember how to get access to these lists rather than try to memorise them. \n",
    "- As noted above, if you're in jupyter you can apply the dot operator to your object and hit the tab  key to present a list of available options.\n",
    "- Once you have selected a method or function to apply, if you need help you can press `shift & tab` to access some inline documentation known as a `docstring`.\n",
    "- You can also wrap the `object.method` in a call to `help()` and it will return that same `docstring` when you run the cell.\n",
    "- Use the official python documentation https://docs.python.org/3/"
   ]
  },
  {
   "cell_type": "markdown",
   "metadata": {},
   "source": [
    "## 6.02 - Functions in Python"
   ]
  },
  {
   "cell_type": "code",
   "execution_count": null,
   "metadata": {},
   "outputs": [],
   "source": []
  },
  {
   "cell_type": "code",
   "execution_count": null,
   "metadata": {},
   "outputs": [],
   "source": []
  },
  {
   "cell_type": "code",
   "execution_count": null,
   "metadata": {},
   "outputs": [],
   "source": []
  },
  {
   "cell_type": "code",
   "execution_count": null,
   "metadata": {},
   "outputs": [],
   "source": []
  },
  {
   "cell_type": "code",
   "execution_count": null,
   "metadata": {},
   "outputs": [],
   "source": []
  },
  {
   "cell_type": "code",
   "execution_count": null,
   "metadata": {},
   "outputs": [],
   "source": []
  },
  {
   "cell_type": "markdown",
   "metadata": {},
   "source": [
    "## 6.03 - `*args` & `**kwargs` in Python"
   ]
  },
  {
   "cell_type": "code",
   "execution_count": null,
   "metadata": {},
   "outputs": [],
   "source": []
  },
  {
   "cell_type": "code",
   "execution_count": null,
   "metadata": {},
   "outputs": [],
   "source": []
  },
  {
   "cell_type": "markdown",
   "metadata": {},
   "source": [
    "## 6.04 - `map` & `filter` in Python"
   ]
  },
  {
   "cell_type": "code",
   "execution_count": null,
   "metadata": {},
   "outputs": [],
   "source": []
  },
  {
   "cell_type": "code",
   "execution_count": null,
   "metadata": {},
   "outputs": [],
   "source": []
  }
 ],
 "metadata": {
  "kernelspec": {
   "display_name": "pykit",
   "language": "python",
   "name": "pykit"
  },
  "language_info": {
   "codemirror_mode": {
    "name": "ipython",
    "version": 3
   },
   "file_extension": ".py",
   "mimetype": "text/x-python",
   "name": "python",
   "nbconvert_exporter": "python",
   "pygments_lexer": "ipython3",
   "version": "3.8.3"
  }
 },
 "nbformat": 4,
 "nbformat_minor": 4
}
