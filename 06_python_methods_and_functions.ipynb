{
 "cells": [
  {
   "cell_type": "markdown",
   "metadata": {},
   "source": [
    "# Python Methods & Functions\n",
    "\n",
    "![python logo](https://www.python.org/static/community_logos/python-logo-inkscape.svg)\n",
    "\n",
    "\n",
    "## Section coverage\n",
    "- 6.01 Object methods in Python\n",
    "- 6.02 Functions in Python\n",
    "- 6.03 `*args` & `**kwargs` in Python\n",
    "- 6.04 map & filter in Python"
   ]
  },
  {
   "cell_type": "markdown",
   "metadata": {},
   "source": [
    "## 6.01 - Object methods in Python"
   ]
  },
  {
   "cell_type": "markdown",
   "metadata": {},
   "source": [
    "Built-in objects have a variety of methods that can be used. When we're coding within an editor such as vim, vscode, sublime the language runtime comes with a form of intellisense that is activated when you access the `dot` separator of an object. What that means is that in declaring an object when you reference it with a `dot` as the postfix you will typically be presented with an intellisense list of associated methods and functions which are contextually applicable to the object."
   ]
  },
  {
   "cell_type": "markdown",
   "metadata": {},
   "source": [
    "#### Methods and recovering ground"
   ]
  },
  {
   "cell_type": "markdown",
   "metadata": {},
   "source": [
    "We have seen some methods already, but let's cover the concept of object methods. "
   ]
  },
  {
   "cell_type": "code",
   "execution_count": 13,
   "metadata": {},
   "outputs": [],
   "source": [
    "# create a utility function to call to display the \n",
    "# length and content of an object passed to it.\n",
    "\n",
    "def show_details(name, source):\n",
    "    print(f\"{name} length: {len(source)}\")\n",
    "    print(f\"{name}: {source}\")"
   ]
  },
  {
   "cell_type": "code",
   "execution_count": 14,
   "metadata": {},
   "outputs": [
    {
     "name": "stdout",
     "output_type": "stream",
     "text": [
      "my_list length: 5\n",
      "my_list: [1, 2, 3, 4, 5]\n"
     ]
    }
   ],
   "source": [
    "# create a list object\n",
    "my_list = [1,2,3,4,5]\n",
    "\n",
    "# show the length of our structure, and the list itself\n",
    "show_details(\"my_list\", my_list)\n"
   ]
  },
  {
   "cell_type": "code",
   "execution_count": 15,
   "metadata": {},
   "outputs": [
    {
     "name": "stdout",
     "output_type": "stream",
     "text": [
      "my_list length: 6\n",
      "my_list: [1, 2, 3, 4, 5, 'once I caught a fish alive']\n"
     ]
    }
   ],
   "source": [
    "# use the append method to add a new element \n",
    "# to the end of our list. \n",
    "my_list.append(\"once I caught a fish alive\")\n",
    "\n",
    "show_details(\"my_list\", my_list)"
   ]
  },
  {
   "cell_type": "code",
   "execution_count": 16,
   "metadata": {},
   "outputs": [
    {
     "name": "stdout",
     "output_type": "stream",
     "text": [
      "my_list length: 5\n",
      "my_list: [1, 2, 3, 4, 5]\n"
     ]
    }
   ],
   "source": [
    "# pop the last element (the one we just added) off the list\n",
    "my_list.pop()\n",
    "\n",
    "# et voila, we're back to a beautiful list of \n",
    "# integer values once again. \n",
    "show_details(\"my_list\", my_list)"
   ]
  },
  {
   "cell_type": "markdown",
   "metadata": {},
   "source": [
    "#### Don't try to memorise everything, it wont work! \n",
    "\n",
    "It becomes fairly clear that there's no way to remember all the methods and functions that are open to a programmer contextually for all the types and therefore it makes sense to remember how to get access to these lists rather than try to memorise them. \n",
    "- As noted above, if you're in jupyter you can apply the dot operator to your object and hit the tab  key to present a list of available options.\n",
    "- Once you have selected a method or function to apply, if you need help you can press `shift & tab` to access some inline documentation known as a `docstring`.\n",
    "- You can also wrap the `object.method` in a call to `help()` and it will return that same `docstring` when you run the cell.\n",
    "- Use the official python documentation https://docs.python.org/3/"
   ]
  },
  {
   "cell_type": "markdown",
   "metadata": {},
   "source": [
    "## 6.02 - Functions in Python"
   ]
  },
  {
   "cell_type": "markdown",
   "metadata": {},
   "source": [
    "Why functions? Well, creating clean and repeatable code is a key and primary part of being a good programmer. You'll encounter industry terms like the `DRY principle` which means don't repeat yourself. Sounds great, buy why? Well, if you are simply cutting and pasting code and repeating the same actions these can become fragile because if the core logic changes and you don't apply it to all instances, in error, you may now have skewed results and this can have effects from trivial to absolutely critical. \n",
    "\n",
    "cue, functions... functions allow us to create blocks of code that can be reused and therefore housing repeatable areas of functionality in a single location and avoiding the need to rewrite that same logic elsewhere.\n",
    "\n",
    "**Syntax:** \n",
    "```python\n",
    "def function_name(parameters):\n",
    "    '''\n",
    "    The text of the docstring that is pertinent to the function\n",
    "    '''\n",
    "    function_body\n",
    "    return value\n",
    "\n",
    "# to call the function we\n",
    "# can do the following:\n",
    "result = function_name(params)\n",
    "\n",
    "# if the function has an inline \n",
    "# operation, or returns no value \n",
    "# and behaves more like\n",
    "# a procedure then we can \n",
    "# call it directly\n",
    "function_name(params)\n",
    "```\n",
    "\n",
    "Let's look at some real example of functions, albeit with a trivial purpose just for learning and demonstration purposes."
   ]
  },
  {
   "cell_type": "code",
   "execution_count": 24,
   "metadata": {},
   "outputs": [],
   "source": [
    "# adds two numbers together\n",
    "def add_two_nums(x,y):\n",
    "    return x+y"
   ]
  },
  {
   "cell_type": "code",
   "execution_count": 23,
   "metadata": {},
   "outputs": [
    {
     "data": {
      "text/plain": [
       "101"
      ]
     },
     "execution_count": 23,
     "metadata": {},
     "output_type": "execute_result"
    }
   ],
   "source": [
    "res = add_two_nums(1, 100)\n",
    "res"
   ]
  },
  {
   "cell_type": "code",
   "execution_count": 25,
   "metadata": {},
   "outputs": [],
   "source": [
    "# checks if a divisor goes evenly into a number\n",
    "def is_divisible_by(divisor, number):\n",
    "    return number % divisor == 0 "
   ]
  },
  {
   "cell_type": "code",
   "execution_count": 26,
   "metadata": {},
   "outputs": [
    {
     "data": {
      "text/plain": [
       "True"
      ]
     },
     "execution_count": 26,
     "metadata": {},
     "output_type": "execute_result"
    }
   ],
   "source": [
    "res = is_divisible_by(2, 10)\n",
    "res"
   ]
  },
  {
   "cell_type": "code",
   "execution_count": 27,
   "metadata": {},
   "outputs": [
    {
     "data": {
      "text/plain": [
       "False"
      ]
     },
     "execution_count": 27,
     "metadata": {},
     "output_type": "execute_result"
    }
   ],
   "source": [
    "res = is_divisible_by(4, 11)\n",
    "res"
   ]
  },
  {
   "cell_type": "markdown",
   "metadata": {},
   "source": [
    "#### Function construction\n",
    "Worth noting with functions is that the expressive style of a function can be dictated by the programmer in that the aim is to do the maximum in the minimum, we can be expressive with code without being verbose, but we should not sacrifice readability and code comprehension just to have fewer lines of code.\n",
    "\n",
    "Let's look at the above example for `is_divisible_by()` it's entirely possible we could have composed the function like:\n",
    "```python\n",
    "def is_divisible_by(div, num):\n",
    "    result = num % div\n",
    "    if result == 0:\n",
    "        return True\n",
    "    return False\n",
    "```\n",
    "\n",
    "In our version we've managed to combine operations to a single line meaning our `return number % divisor == 0` translates as return the result of evaluating whether number modulo divisor is equal to zero. The modulo operation grab the remainder of a division operation, so if the modulus is zero then the division was clean and equal. If there is a remainder the modulo operation will not equal zero and therefor the `== 0` test on our expression will equate to False and that is what will be returned.    \n",
    "\n",
    "#### Simple efficiencies to reduce needless code inclusion\n",
    "\n",
    "Worth noting is the multiple return statements. In Python when a return statement is encountered that is it for the function, it will not continue inside that function body, it will exit to the parent level of code. So in the most explicit terms we could have rewritten that function as:\n",
    "```python\n",
    "def is_divisible_by(div, num):\n",
    "    result = num % div\n",
    "    if result == 0:\n",
    "        return True\n",
    "    else:\n",
    "        return False\n",
    "```\n",
    "\n",
    "Now we have an extra like to denote the `else` case, in our one above we used an implicit else, because if the result of the `if` statement is False the next line encountered is `return False`. The point being notice how we've managed to triple the length of the function and achieve the same result. This one is harder to read because we have to traverse 6 lines of code instead of 2, the cognitive load of our function has increased and we have no payoff from increasing to load on the engineer. \n",
    "\n",
    "It is best to find the most succinct way of expressing the functionality without compromising clarity.  "
   ]
  },
  {
   "cell_type": "markdown",
   "metadata": {},
   "source": [
    "#### Mindful of the typing"
   ]
  },
  {
   "cell_type": "markdown",
   "metadata": {},
   "source": [
    "We know that Python is a dynamically typed language, this has both up and downsides. Of course we can be very succinct with our add function from above, but let's demonstrate some unexpected and largely unwanted possibilities."
   ]
  },
  {
   "cell_type": "code",
   "execution_count": 28,
   "metadata": {},
   "outputs": [],
   "source": [
    "def add_two_nums(x, y):\n",
    "    return x+y"
   ]
  },
  {
   "cell_type": "code",
   "execution_count": 33,
   "metadata": {},
   "outputs": [
    {
     "name": "stdout",
     "output_type": "stream",
     "text": [
      "15\n",
      "ABCDE\n",
      "10101\n"
     ]
    }
   ],
   "source": [
    "res1 = add_two_nums(5,10)\n",
    "res2 = add_two_nums(\"ABC\", \"DE\")\n",
    "res3 = add_two_nums('10', '101')\n",
    "\n",
    "print(res1)\n",
    "print(res2)\n",
    "print(res3)"
   ]
  },
  {
   "cell_type": "markdown",
   "metadata": {},
   "source": [
    "We will see how to apply stricter controls in time but for the moment we can do some tightening of operations. "
   ]
  },
  {
   "cell_type": "code",
   "execution_count": 40,
   "metadata": {},
   "outputs": [],
   "source": [
    "def add_two_nums(x = 0, y=0):\n",
    "    return int(x + y)"
   ]
  },
  {
   "cell_type": "code",
   "execution_count": 43,
   "metadata": {},
   "outputs": [
    {
     "name": "stdout",
     "output_type": "stream",
     "text": [
      "15\n",
      "10101\n"
     ]
    }
   ],
   "source": [
    "res1 = add_two_nums(5,10)\n",
    "# res2 = add_two_nums(\"ABC\", \"DE\") # will crash the program with a ValueError\n",
    "res3 = add_two_nums('10', '101')\n",
    "\n",
    "print(res1)\n",
    "print(res3)"
   ]
  },
  {
   "cell_type": "markdown",
   "metadata": {},
   "source": [
    "**Note** that `res3` still works and we have a fragility in our function in that if two strings are passed that contain numeric characters then can, and will successfully, be converted to an int and returned. "
   ]
  },
  {
   "cell_type": "markdown",
   "metadata": {},
   "source": [
    "#### Working with more than one value\n",
    "\n",
    "We can also work with multiple values, or lists of values."
   ]
  },
  {
   "cell_type": "code",
   "execution_count": 45,
   "metadata": {},
   "outputs": [],
   "source": [
    "def all_evens(nums):\n",
    "    for num in nums:\n",
    "        if num % 2 != 0:\n",
    "            return False\n",
    "    return True"
   ]
  },
  {
   "cell_type": "code",
   "execution_count": 47,
   "metadata": {},
   "outputs": [
    {
     "name": "stdout",
     "output_type": "stream",
     "text": [
      "True\n",
      "False\n",
      "False\n",
      "True\n"
     ]
    }
   ],
   "source": [
    "print(all_evens([2,4,6,8]))\n",
    "print(all_evens([2,6,8,9]))\n",
    "print(all_evens([100,101]))\n",
    "print(all_evens([500, 1024, 256, 16384]))"
   ]
  },
  {
   "cell_type": "markdown",
   "metadata": {},
   "source": [
    "If we want to refine the above to work on element by element basis we can use function logic and also list comprehension from the previous notebook lessons to combine a response to returning a list of `odd` or `even` responses to the nums passed to the function "
   ]
  },
  {
   "cell_type": "code",
   "execution_count": 55,
   "metadata": {},
   "outputs": [],
   "source": [
    "def odds_or_evens(nums):\n",
    "    return ['Even' if x % 2 == 0 else 'Odd' for x in nums]"
   ]
  },
  {
   "cell_type": "code",
   "execution_count": 56,
   "metadata": {},
   "outputs": [
    {
     "data": {
      "text/plain": [
       "['Odd', 'Even', 'Odd', 'Even', 'Odd', 'Even']"
      ]
     },
     "execution_count": 56,
     "metadata": {},
     "output_type": "execute_result"
    }
   ],
   "source": [
    "odds_or_evens([1,2,3,4,5,6])"
   ]
  },
  {
   "cell_type": "code",
   "execution_count": null,
   "metadata": {},
   "outputs": [],
   "source": []
  },
  {
   "cell_type": "markdown",
   "metadata": {},
   "source": [
    "## 6.03 - `*args` & `**kwargs` in Python"
   ]
  },
  {
   "cell_type": "code",
   "execution_count": null,
   "metadata": {},
   "outputs": [],
   "source": []
  },
  {
   "cell_type": "code",
   "execution_count": null,
   "metadata": {},
   "outputs": [],
   "source": []
  },
  {
   "cell_type": "markdown",
   "metadata": {},
   "source": [
    "## 6.04 - `map` & `filter` in Python"
   ]
  },
  {
   "cell_type": "code",
   "execution_count": null,
   "metadata": {},
   "outputs": [],
   "source": []
  },
  {
   "cell_type": "code",
   "execution_count": null,
   "metadata": {},
   "outputs": [],
   "source": []
  }
 ],
 "metadata": {
  "kernelspec": {
   "display_name": "pykit",
   "language": "python",
   "name": "pykit"
  },
  "language_info": {
   "codemirror_mode": {
    "name": "ipython",
    "version": 3
   },
   "file_extension": ".py",
   "mimetype": "text/x-python",
   "name": "python",
   "nbconvert_exporter": "python",
   "pygments_lexer": "ipython3",
   "version": "3.8.3"
  }
 },
 "nbformat": 4,
 "nbformat_minor": 4
}
