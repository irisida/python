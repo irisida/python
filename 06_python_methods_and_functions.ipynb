{
 "cells": [
  {
   "cell_type": "markdown",
   "metadata": {},
   "source": [
    "# Python Methods & Functions\n",
    "\n",
    "![python logo](https://www.python.org/static/community_logos/python-logo-inkscape.svg)\n",
    "\n",
    "\n",
    "## Section coverage\n",
    "- 6.01 Object methods in Python\n",
    "- 6.02 Functions in Python\n",
    "- 6.03 `*args` & `**kwargs` in Python\n",
    "- 6.04 map & filter in Python"
   ]
  },
  {
   "cell_type": "markdown",
   "metadata": {},
   "source": [
    "## 6.01 - Object methods in Python"
   ]
  },
  {
   "cell_type": "markdown",
   "metadata": {},
   "source": [
    "Built-in objects have a variety of methods that can be used. When we're coding within an editor such as vim, vscode, sublime the language runtime comes with a form of intellisense that is activated when you access the `dot` separator of an object. What that means is that in declaring an object when you reference it with a `dot` as the postfix you will typically be presented with an intellisense list of associated methods and functions which are contextually applicable to the object."
   ]
  },
  {
   "cell_type": "markdown",
   "metadata": {},
   "source": [
    "#### Methods and recovering ground"
   ]
  },
  {
   "cell_type": "markdown",
   "metadata": {},
   "source": [
    "We have seen some methods already, but let's cover the concept of object methods. "
   ]
  },
  {
   "cell_type": "code",
   "execution_count": 100,
   "metadata": {},
   "outputs": [],
   "source": [
    "# create a utility function to call to display the \n",
    "# length and content of an object passed to it.\n",
    "\n",
    "def show_details(name, source):\n",
    "    print(f\"{name} length: {len(source)}\")\n",
    "    print(f\"{name}: {source}\")"
   ]
  },
  {
   "cell_type": "code",
   "execution_count": 101,
   "metadata": {},
   "outputs": [
    {
     "name": "stdout",
     "output_type": "stream",
     "text": [
      "my_list length: 5\n",
      "my_list: [1, 2, 3, 4, 5]\n"
     ]
    }
   ],
   "source": [
    "# create a list object\n",
    "my_list = [1,2,3,4,5]\n",
    "\n",
    "# show the length of our structure, and the list itself\n",
    "show_details(\"my_list\", my_list)\n"
   ]
  },
  {
   "cell_type": "code",
   "execution_count": 102,
   "metadata": {},
   "outputs": [
    {
     "name": "stdout",
     "output_type": "stream",
     "text": [
      "my_list length: 6\n",
      "my_list: [1, 2, 3, 4, 5, 'once I caught a fish alive']\n"
     ]
    }
   ],
   "source": [
    "# use the append method to add a new element \n",
    "# to the end of our list. \n",
    "my_list.append(\"once I caught a fish alive\")\n",
    "\n",
    "show_details(\"my_list\", my_list)"
   ]
  },
  {
   "cell_type": "code",
   "execution_count": 103,
   "metadata": {},
   "outputs": [
    {
     "name": "stdout",
     "output_type": "stream",
     "text": [
      "my_list length: 5\n",
      "my_list: [1, 2, 3, 4, 5]\n"
     ]
    }
   ],
   "source": [
    "# pop the last element (the one we just added) off the list\n",
    "my_list.pop()\n",
    "\n",
    "# et voila, we're back to a beautiful list of \n",
    "# integer values once again. \n",
    "show_details(\"my_list\", my_list)"
   ]
  },
  {
   "cell_type": "markdown",
   "metadata": {},
   "source": [
    "#### Don't try to memorise everything, it wont work! \n",
    "\n",
    "It becomes fairly clear that there's no way to remember all the methods and functions that are open to a programmer contextually for all the types and therefore it makes sense to remember how to get access to these lists rather than try to memorise them. \n",
    "- As noted above, if you're in jupyter you can apply the dot operator to your object and hit the tab  key to present a list of available options.\n",
    "- Once you have selected a method or function to apply, if you need help you can press `shift & tab` to access some inline documentation known as a `docstring`.\n",
    "- You can also wrap the `object.method` in a call to `help()` and it will return that same `docstring` when you run the cell.\n",
    "- Use the official python documentation https://docs.python.org/3/"
   ]
  },
  {
   "cell_type": "markdown",
   "metadata": {},
   "source": [
    "## 6.02 - Functions in Python"
   ]
  },
  {
   "cell_type": "markdown",
   "metadata": {},
   "source": [
    "Why functions? Well, creating clean and repeatable code is a key and primary part of being a good programmer. You'll encounter industry terms like the `DRY principle` which means don't repeat yourself. Sounds great, buy why? Well, if you are simply cutting and pasting code and repeating the same actions these can become fragile because if the core logic changes and you don't apply it to all instances, in error, you may now have skewed results and this can have effects from trivial to absolutely critical. \n",
    "\n",
    "cue, functions... functions allow us to create blocks of code that can be reused and therefore housing repeatable areas of functionality in a single location and avoiding the need to rewrite that same logic elsewhere.\n",
    "\n",
    "**Syntax:** \n",
    "```python\n",
    "def function_name(parameters):\n",
    "    '''\n",
    "    The text of the docstring that is pertinent to the function\n",
    "    '''\n",
    "    function_body\n",
    "    return value\n",
    "\n",
    "# to call the function we\n",
    "# can do the following:\n",
    "result = function_name(params)\n",
    "\n",
    "# if the function has an inline \n",
    "# operation, or returns no value \n",
    "# and behaves more like\n",
    "# a procedure then we can \n",
    "# call it directly\n",
    "function_name(params)\n",
    "```\n",
    "\n",
    "Let's look at some real example of functions, albeit with a trivial purpose just for learning and demonstration purposes."
   ]
  },
  {
   "cell_type": "code",
   "execution_count": 104,
   "metadata": {},
   "outputs": [],
   "source": [
    "# adds two numbers together\n",
    "def add_two_nums(x,y):\n",
    "    return x+y"
   ]
  },
  {
   "cell_type": "code",
   "execution_count": 105,
   "metadata": {},
   "outputs": [
    {
     "data": {
      "text/plain": [
       "101"
      ]
     },
     "execution_count": 105,
     "metadata": {},
     "output_type": "execute_result"
    }
   ],
   "source": [
    "res = add_two_nums(1, 100)\n",
    "res"
   ]
  },
  {
   "cell_type": "code",
   "execution_count": 106,
   "metadata": {},
   "outputs": [],
   "source": [
    "# checks if a divisor goes evenly into a number\n",
    "def is_divisible_by(divisor, number):\n",
    "    return number % divisor == 0 "
   ]
  },
  {
   "cell_type": "code",
   "execution_count": 107,
   "metadata": {},
   "outputs": [
    {
     "data": {
      "text/plain": [
       "True"
      ]
     },
     "execution_count": 107,
     "metadata": {},
     "output_type": "execute_result"
    }
   ],
   "source": [
    "res = is_divisible_by(2, 10)\n",
    "res"
   ]
  },
  {
   "cell_type": "code",
   "execution_count": 108,
   "metadata": {},
   "outputs": [
    {
     "data": {
      "text/plain": [
       "False"
      ]
     },
     "execution_count": 108,
     "metadata": {},
     "output_type": "execute_result"
    }
   ],
   "source": [
    "res = is_divisible_by(4, 11)\n",
    "res"
   ]
  },
  {
   "cell_type": "markdown",
   "metadata": {},
   "source": [
    "#### Function construction\n",
    "Worth noting with functions is that the expressive style of a function can be dictated by the programmer in that the aim is to do the maximum in the minimum, we can be expressive with code without being verbose, but we should not sacrifice readability and code comprehension just to have fewer lines of code.\n",
    "\n",
    "Let's look at the above example for `is_divisible_by()` it's entirely possible we could have composed the function like:\n",
    "```python\n",
    "def is_divisible_by(div, num):\n",
    "    result = num % div\n",
    "    if result == 0:\n",
    "        return True\n",
    "    return False\n",
    "```\n",
    "\n",
    "In our version we've managed to combine operations to a single line meaning our `return number % divisor == 0` translates as return the result of evaluating whether number modulo divisor is equal to zero. The modulo operation grab the remainder of a division operation, so if the modulus is zero then the division was clean and equal. If there is a remainder the modulo operation will not equal zero and therefor the `== 0` test on our expression will equate to False and that is what will be returned.    \n",
    "\n",
    "#### Simple efficiencies to reduce needless code inclusion\n",
    "\n",
    "Worth noting is the multiple return statements. In Python when a return statement is encountered that is it for the function, it will not continue inside that function body, it will exit to the parent level of code. So in the most explicit terms we could have rewritten that function as:\n",
    "```python\n",
    "def is_divisible_by(div, num):\n",
    "    result = num % div\n",
    "    if result == 0:\n",
    "        return True\n",
    "    else:\n",
    "        return False\n",
    "```\n",
    "\n",
    "Now we have an extra like to denote the `else` case, in our one above we used an implicit else, because if the result of the `if` statement is False the next line encountered is `return False`. The point being notice how we've managed to triple the length of the function and achieve the same result. This one is harder to read because we have to traverse 6 lines of code instead of 2, the cognitive load of our function has increased and we have no payoff from increasing to load on the engineer. \n",
    "\n",
    "It is best to find the most succinct way of expressing the functionality without compromising clarity.  "
   ]
  },
  {
   "cell_type": "markdown",
   "metadata": {},
   "source": [
    "#### Mindful of the typing"
   ]
  },
  {
   "cell_type": "markdown",
   "metadata": {},
   "source": [
    "We know that Python is a dynamically typed language, this has both up and downsides. Of course we can be very succinct with our add function from above, but let's demonstrate some unexpected and largely unwanted possibilities."
   ]
  },
  {
   "cell_type": "code",
   "execution_count": 109,
   "metadata": {},
   "outputs": [],
   "source": [
    "def add_two_nums(x, y):\n",
    "    return x+y"
   ]
  },
  {
   "cell_type": "code",
   "execution_count": 110,
   "metadata": {},
   "outputs": [
    {
     "name": "stdout",
     "output_type": "stream",
     "text": [
      "15\n",
      "ABCDE\n",
      "10101\n"
     ]
    }
   ],
   "source": [
    "res1 = add_two_nums(5,10)\n",
    "res2 = add_two_nums(\"ABC\", \"DE\")\n",
    "res3 = add_two_nums('10', '101')\n",
    "\n",
    "print(res1)\n",
    "print(res2)\n",
    "print(res3)"
   ]
  },
  {
   "cell_type": "markdown",
   "metadata": {},
   "source": [
    "We will see how to apply stricter controls in time but for the moment we can do some tightening of operations. "
   ]
  },
  {
   "cell_type": "code",
   "execution_count": 111,
   "metadata": {},
   "outputs": [],
   "source": [
    "def add_two_nums(x = 0, y=0):\n",
    "    return int(x + y)"
   ]
  },
  {
   "cell_type": "code",
   "execution_count": 112,
   "metadata": {},
   "outputs": [
    {
     "name": "stdout",
     "output_type": "stream",
     "text": [
      "15\n",
      "10101\n"
     ]
    }
   ],
   "source": [
    "res1 = add_two_nums(5,10)\n",
    "# res2 = add_two_nums(\"ABC\", \"DE\") # will crash the program with a ValueError\n",
    "res3 = add_two_nums('10', '101')\n",
    "\n",
    "print(res1)\n",
    "print(res3)"
   ]
  },
  {
   "cell_type": "markdown",
   "metadata": {},
   "source": [
    "**Note** that `res3` still works and we have a fragility in our function in that if two strings are passed that contain numeric characters then can, and will successfully, be converted to an int and returned. "
   ]
  },
  {
   "cell_type": "markdown",
   "metadata": {},
   "source": [
    "#### Working with more than one value\n",
    "\n",
    "We can also work with multiple values, or lists of values."
   ]
  },
  {
   "cell_type": "code",
   "execution_count": 113,
   "metadata": {},
   "outputs": [],
   "source": [
    "def all_evens(nums):\n",
    "    for num in nums:\n",
    "        if num % 2 != 0:\n",
    "            return False\n",
    "    return True"
   ]
  },
  {
   "cell_type": "code",
   "execution_count": 114,
   "metadata": {},
   "outputs": [
    {
     "name": "stdout",
     "output_type": "stream",
     "text": [
      "True\n",
      "False\n",
      "False\n",
      "True\n"
     ]
    }
   ],
   "source": [
    "print(all_evens([2,4,6,8]))\n",
    "print(all_evens([2,6,8,9]))\n",
    "print(all_evens([100,101]))\n",
    "print(all_evens([500, 1024, 256, 16384]))"
   ]
  },
  {
   "cell_type": "markdown",
   "metadata": {},
   "source": [
    "If we want to refine the above to work on element by element basis we can use function logic and also list comprehension from the previous notebook lessons to combine a response to returning a list of `odd` or `even` responses to the nums passed to the function "
   ]
  },
  {
   "cell_type": "code",
   "execution_count": 115,
   "metadata": {},
   "outputs": [],
   "source": [
    "def odds_or_evens(nums):\n",
    "    return ['Even' if x % 2 == 0 else 'Odd' for x in nums]"
   ]
  },
  {
   "cell_type": "code",
   "execution_count": 116,
   "metadata": {},
   "outputs": [
    {
     "data": {
      "text/plain": [
       "['Odd', 'Even', 'Odd', 'Even', 'Odd', 'Even']"
      ]
     },
     "execution_count": 116,
     "metadata": {},
     "output_type": "execute_result"
    }
   ],
   "source": [
    "odds_or_evens([1,2,3,4,5,6])"
   ]
  },
  {
   "cell_type": "markdown",
   "metadata": {},
   "source": [
    "Let's say we wanted to adjust, or change our function and what we now want to achieve is the return of a list object containing just the even numbers from our original source list "
   ]
  },
  {
   "cell_type": "code",
   "execution_count": 117,
   "metadata": {},
   "outputs": [],
   "source": [
    "def keep_the_evens(source):\n",
    "    return [x for x in source if x % 2 == 0]"
   ]
  },
  {
   "cell_type": "code",
   "execution_count": 118,
   "metadata": {},
   "outputs": [
    {
     "data": {
      "text/plain": [
       "[2, 4, 6, 8, 10]"
      ]
     },
     "execution_count": 118,
     "metadata": {},
     "output_type": "execute_result"
    }
   ],
   "source": [
    "keep_the_evens([1,2,3,4,5,6,7,8,9,10])"
   ]
  },
  {
   "cell_type": "markdown",
   "metadata": {},
   "source": [
    "#### Functions and tuple unpacking \n",
    "\n",
    "Let's have a look at situations where we want to return multiple items from a function."
   ]
  },
  {
   "cell_type": "code",
   "execution_count": 119,
   "metadata": {},
   "outputs": [],
   "source": [
    "def table_separator(width):\n",
    "    print(\"-\" * width)"
   ]
  },
  {
   "cell_type": "code",
   "execution_count": 120,
   "metadata": {},
   "outputs": [],
   "source": [
    "# create a loist of tuples\n",
    "stocks = [(\"APPL\", 1000), (\"GOOG\", 890), (\"MS\", 425), (\"CCL\", 14.50), (\"BTC\", 18000)]"
   ]
  },
  {
   "cell_type": "code",
   "execution_count": 121,
   "metadata": {},
   "outputs": [
    {
     "name": "stdout",
     "output_type": "stream",
     "text": [
      "('APPL', 1000)\n",
      "('GOOG', 890)\n",
      "('MS', 425)\n",
      "('CCL', 14.5)\n",
      "('BTC', 18000)\n"
     ]
    }
   ],
   "source": [
    "for stock in stocks:\n",
    "    print(stock)"
   ]
  },
  {
   "cell_type": "code",
   "execution_count": 122,
   "metadata": {},
   "outputs": [
    {
     "name": "stdout",
     "output_type": "stream",
     "text": [
      "Company                  Price            10% hike\n",
      "------------------------------------------------------------\n",
      "APPL                   1000.00             1100.00\n",
      "GOOG                    890.00              979.00\n",
      "MS                      425.00              467.50\n",
      "CCL                      14.50               15.95\n",
      "BTC                   18000.00            19800.00\n"
     ]
    }
   ],
   "source": [
    "# print out our unpacked tuples, perform operations on \n",
    "# unpacked tuples in the form of the +10% calculation\n",
    "# and a basics of string formatting and presentation. \n",
    "\n",
    "print(f\"{'Company':<10}{'Price':>20}{'10% hike':>20}\")\n",
    "table_separator(60)\n",
    "for ticker, price in stocks:\n",
    "    print(f\"{ticker:10}{price:20.2f}{price * 1.1:20.2f}\")"
   ]
  },
  {
   "cell_type": "markdown",
   "metadata": {},
   "source": [
    "We can also do some conditional operations with unpacked tuples. As a scenario we will pass a list of employees and the number of hours worked for the month and return the employee who has worked the most hours"
   ]
  },
  {
   "cell_type": "code",
   "execution_count": 126,
   "metadata": {},
   "outputs": [],
   "source": [
    "hours = [(\"Aliya\", 160), (\"Bea\", 176), (\"Corra\", 190), (\"Darcy\", 202), (\"Ellie\", 168), (\"Fran\", 174)]"
   ]
  },
  {
   "cell_type": "code",
   "execution_count": 127,
   "metadata": {},
   "outputs": [],
   "source": [
    "def highest_working_hours(vals):\n",
    "    current_emp = \"\"\n",
    "    current_highest_hours = 0\n",
    "    total_hours = 0\n",
    "    total_emps = 0\n",
    "    for staffname, hours_worked in hours:\n",
    "        total_hours += hours_worked\n",
    "        total_emps += 1\n",
    "        if hours_worked > current_highest_hours:\n",
    "            current_emp = staffname\n",
    "            current_highest_hours = hours_worked\n",
    "    \n",
    "    print(f\"Total monthly hours: {total_hours}\")\n",
    "    print(f\"Total employees: {total_emps}\")\n",
    "    print(f\"Most hours worked: {current_highest_hours} by {current_emp}\")"
   ]
  },
  {
   "cell_type": "code",
   "execution_count": 128,
   "metadata": {},
   "outputs": [
    {
     "name": "stdout",
     "output_type": "stream",
     "text": [
      "Total monthly hours: 1070\n",
      "Total employees: 6\n",
      "Most hours worked: 202 by Darcy\n"
     ]
    }
   ],
   "source": [
    "highest_working_hours(hours)"
   ]
  },
  {
   "cell_type": "markdown",
   "metadata": {},
   "source": [
    "#### Three cups example"
   ]
  },
  {
   "cell_type": "code",
   "execution_count": 129,
   "metadata": {},
   "outputs": [],
   "source": [
    "from random import shuffle"
   ]
  },
  {
   "cell_type": "code",
   "execution_count": 130,
   "metadata": {},
   "outputs": [],
   "source": [
    "example = [1,2,3,4,5,6,7]\n",
    "\n",
    "shuffle(example)"
   ]
  },
  {
   "cell_type": "code",
   "execution_count": 131,
   "metadata": {},
   "outputs": [
    {
     "data": {
      "text/plain": [
       "[7, 6, 2, 3, 1, 5, 4]"
      ]
     },
     "execution_count": 131,
     "metadata": {},
     "output_type": "execute_result"
    }
   ],
   "source": [
    "example"
   ]
  },
  {
   "cell_type": "markdown",
   "metadata": {},
   "source": [
    "Note the shuffle function operates inline, meaning it has no real return type. It operates on the operand and does not return a new value, merely a new state of the original value is persisted inline. THe return type of the function is None."
   ]
  },
  {
   "cell_type": "code",
   "execution_count": 132,
   "metadata": {},
   "outputs": [],
   "source": [
    "# create a wrappper around the random shuffle function\n",
    "# to enable a return value. \n",
    "def list_shuffle(mylist):\n",
    "    shuffle(mylist)\n",
    "    return mylist"
   ]
  },
  {
   "cell_type": "code",
   "execution_count": 133,
   "metadata": {},
   "outputs": [],
   "source": [
    "example = [1,2,3,4,5]\n"
   ]
  },
  {
   "cell_type": "code",
   "execution_count": 134,
   "metadata": {},
   "outputs": [
    {
     "data": {
      "text/plain": [
       "[5, 4, 1, 2, 3]"
      ]
     },
     "execution_count": 134,
     "metadata": {},
     "output_type": "execute_result"
    }
   ],
   "source": [
    "example = list_shuffle(example)\n",
    "example"
   ]
  },
  {
   "cell_type": "markdown",
   "metadata": {},
   "source": [
    "Now that we have setup the shuffling mechanism we can continue with the three cups example"
   ]
  },
  {
   "cell_type": "code",
   "execution_count": 135,
   "metadata": {},
   "outputs": [],
   "source": [
    "my_list = ['', '0', '']"
   ]
  },
  {
   "cell_type": "code",
   "execution_count": 148,
   "metadata": {},
   "outputs": [
    {
     "data": {
      "text/plain": [
       "['0', '', '']"
      ]
     },
     "execution_count": 148,
     "metadata": {},
     "output_type": "execute_result"
    }
   ],
   "source": [
    "list_shuffle(my_list)"
   ]
  },
  {
   "cell_type": "code",
   "execution_count": 149,
   "metadata": {},
   "outputs": [],
   "source": [
    "def take_guess():\n",
    "    guess = None\n",
    "    while guess not in ['0', '1', '2']:\n",
    "        guess = input(\"pick 0, 1 or 2 : \")\n",
    "        \n",
    "    return int(guess)"
   ]
  },
  {
   "cell_type": "code",
   "execution_count": 150,
   "metadata": {},
   "outputs": [
    {
     "name": "stdin",
     "output_type": "stream",
     "text": [
      "pick 0, 1 or 2 :  2\n"
     ]
    },
    {
     "data": {
      "text/plain": [
       "2"
      ]
     },
     "execution_count": 150,
     "metadata": {},
     "output_type": "execute_result"
    }
   ],
   "source": [
    "take_guess()"
   ]
  },
  {
   "cell_type": "code",
   "execution_count": 161,
   "metadata": {},
   "outputs": [],
   "source": [
    "def check_guess(my_list, guess):\n",
    "    if my_list[guess] == 'O':\n",
    "        print(\"Correct!\")\n",
    "    else:\n",
    "        print(\"You lose!\")\n",
    "        print(my_list)"
   ]
  },
  {
   "cell_type": "code",
   "execution_count": 167,
   "metadata": {},
   "outputs": [
    {
     "name": "stdin",
     "output_type": "stream",
     "text": [
      "pick 0, 1 or 2 :  w\n",
      "pick 0, 1 or 2 :  0\n"
     ]
    },
    {
     "name": "stdout",
     "output_type": "stream",
     "text": [
      "You lose!\n",
      "['', 'O', '']\n"
     ]
    }
   ],
   "source": [
    "my_list = ['', 'O', '']\n",
    "my_list = list_shuffle(my_list)\n",
    "guess = take_guess()\n",
    "check_guess(my_list, guess)\n"
   ]
  },
  {
   "cell_type": "code",
   "execution_count": null,
   "metadata": {},
   "outputs": [],
   "source": []
  },
  {
   "cell_type": "markdown",
   "metadata": {},
   "source": [
    "## 6.03 - `*args` & `**kwargs` in Python"
   ]
  },
  {
   "cell_type": "code",
   "execution_count": null,
   "metadata": {},
   "outputs": [],
   "source": []
  },
  {
   "cell_type": "code",
   "execution_count": null,
   "metadata": {},
   "outputs": [],
   "source": []
  },
  {
   "cell_type": "code",
   "execution_count": null,
   "metadata": {},
   "outputs": [],
   "source": []
  },
  {
   "cell_type": "code",
   "execution_count": null,
   "metadata": {},
   "outputs": [],
   "source": []
  },
  {
   "cell_type": "code",
   "execution_count": null,
   "metadata": {},
   "outputs": [],
   "source": []
  },
  {
   "cell_type": "markdown",
   "metadata": {},
   "source": [
    "## 6.04 - `map` & `filter` in Python"
   ]
  },
  {
   "cell_type": "code",
   "execution_count": null,
   "metadata": {},
   "outputs": [],
   "source": []
  },
  {
   "cell_type": "code",
   "execution_count": null,
   "metadata": {},
   "outputs": [],
   "source": []
  }
 ],
 "metadata": {
  "kernelspec": {
   "display_name": "pykit",
   "language": "python",
   "name": "pykit"
  },
  "language_info": {
   "codemirror_mode": {
    "name": "ipython",
    "version": 3
   },
   "file_extension": ".py",
   "mimetype": "text/x-python",
   "name": "python",
   "nbconvert_exporter": "python",
   "pygments_lexer": "ipython3",
   "version": "3.8.3"
  }
 },
 "nbformat": 4,
 "nbformat_minor": 4
}
