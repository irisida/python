{
 "cells": [
  {
   "cell_type": "markdown",
   "metadata": {},
   "source": [
    "# Python Statements\n",
    "\n",
    "![python logo](https://www.python.org/static/community_logos/python-logo-inkscape.svg)\n",
    "\n",
    "\n",
    "## Section coverage\n",
    "- 5.01 `if, elif` & `else` statements in Python\n",
    "- 5.02 `for` loops in Python\n",
    "- 5.03 `while` loops in Python\n",
    "- 5.04 Useful operators in Python\n",
    "- 5.05 List comprehension"
   ]
  },
  {
   "cell_type": "markdown",
   "metadata": {},
   "source": [
    "## 5.01 If, Elif & Else statememts in Python"
   ]
  },
  {
   "cell_type": "markdown",
   "metadata": {},
   "source": [
    "If, elif & else are the stalwarts of control flow. Control flow is how we evaluate forks and choices in our program. If a value is equal to a condition we want to meet then do the following operation... else do some other operation. To enrich that basic construct we can add the `elif` option and subsequently allow if condition is True do some operation, elif (else if) some other condition is true do that operation instead, else do a default operation. You can see in the last example descriptor else becomes a default option and that's the else case's typical usage in a if, elif, else block, the last catching statement to do some default option/operation. \n",
    "\n",
    "In python we use the whitespace and indentation (typically 4 spaces) to lay out these statements. \n",
    "\n",
    "eg.\n",
    "```python\n",
    "if some_condition == True:  \n",
    "    do_this_operation  \n",
    "elif other_condition == True:  \n",
    "    do_this_one_instead  \n",
    "else:  \n",
    "    do_this_default_action  \n",
    "```\n",
    "\n",
    "However, we have some redundancy in this example, we don't need to add the `== True` checks to out conditional evaluations, the below example has exactly the same and is easier to read.\n",
    "\n",
    "```python\n",
    "if some_condition:\n",
    "    do_this_operation\n",
    "elif other_condition:\n",
    "    do_this_one_instead\n",
    "else:\n",
    "    do_this_default_Action\n",
    "```"
   ]
  },
  {
   "cell_type": "markdown",
   "metadata": {},
   "source": [
    "## 5.02 For loops in Python"
   ]
  },
  {
   "cell_type": "code",
   "execution_count": null,
   "metadata": {},
   "outputs": [],
   "source": []
  },
  {
   "cell_type": "markdown",
   "metadata": {},
   "source": [
    "## 5.03 While loops in Python"
   ]
  },
  {
   "cell_type": "code",
   "execution_count": null,
   "metadata": {},
   "outputs": [],
   "source": []
  },
  {
   "cell_type": "markdown",
   "metadata": {},
   "source": [
    "## 5.04 Useful operators in Python "
   ]
  },
  {
   "cell_type": "code",
   "execution_count": null,
   "metadata": {},
   "outputs": [],
   "source": []
  },
  {
   "cell_type": "markdown",
   "metadata": {},
   "source": [
    "## 5.05 List comprehension"
   ]
  },
  {
   "cell_type": "code",
   "execution_count": null,
   "metadata": {},
   "outputs": [],
   "source": []
  }
 ],
 "metadata": {
  "kernelspec": {
   "display_name": "pykit",
   "language": "python",
   "name": "pykit"
  },
  "language_info": {
   "codemirror_mode": {
    "name": "ipython",
    "version": 3
   },
   "file_extension": ".py",
   "mimetype": "text/x-python",
   "name": "python",
   "nbconvert_exporter": "python",
   "pygments_lexer": "ipython3",
   "version": "3.8.3"
  }
 },
 "nbformat": 4,
 "nbformat_minor": 4
}
