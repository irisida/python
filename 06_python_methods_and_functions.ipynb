{
 "cells": [
  {
   "cell_type": "markdown",
   "metadata": {},
   "source": [
    "# Python Methods & Functions\n",
    "\n",
    "![python logo](https://www.python.org/static/community_logos/python-logo-inkscape.svg)\n",
    "\n",
    "\n",
    "## Section coverage\n",
    "- 6.01 Object methods in Python\n",
    "- 6.02 Functions in Python\n",
    "- 6.03 `*args` & `**kwargs` in Python\n",
    "- 6.04 map & filter in Python"
   ]
  },
  {
   "cell_type": "markdown",
   "metadata": {},
   "source": [
    "## 6.01 - Object methods in Python"
   ]
  },
  {
   "cell_type": "markdown",
   "metadata": {},
   "source": [
    "Built-in objects have a variety of methods that can be used. When we're coding within an editor such as vim, vscode, sublime the language runtime comes with a form of intellisense that is activated when you access the `dot` separator of an object. What that means is that in declaring an object when you reference it with a `dot` as the postfix you will typically be presented with an intellisense list of associated methods and functions which are contextually applicable to the object."
   ]
  },
  {
   "cell_type": "markdown",
   "metadata": {},
   "source": [
    "#### Methods and recovering ground"
   ]
  },
  {
   "cell_type": "markdown",
   "metadata": {},
   "source": [
    "We have seen some methods already, but let's cover the concept of object methods. "
   ]
  },
  {
   "cell_type": "code",
   "execution_count": 1,
   "metadata": {},
   "outputs": [],
   "source": [
    "# create a utility function to call to display the \n",
    "# length and content of an object passed to it.\n",
    "\n",
    "def show_details(name, source):\n",
    "    print(f\"{name} length: {len(source)}\")\n",
    "    print(f\"{name}: {source}\")"
   ]
  },
  {
   "cell_type": "code",
   "execution_count": 2,
   "metadata": {},
   "outputs": [
    {
     "name": "stdout",
     "output_type": "stream",
     "text": [
      "my_list length: 5\n",
      "my_list: [1, 2, 3, 4, 5]\n"
     ]
    }
   ],
   "source": [
    "# create a list object\n",
    "my_list = [1,2,3,4,5]\n",
    "\n",
    "# show the length of our structure, and the list itself\n",
    "show_details(\"my_list\", my_list)\n"
   ]
  },
  {
   "cell_type": "code",
   "execution_count": 3,
   "metadata": {},
   "outputs": [
    {
     "name": "stdout",
     "output_type": "stream",
     "text": [
      "my_list length: 6\n",
      "my_list: [1, 2, 3, 4, 5, 'once I caught a fish alive']\n"
     ]
    }
   ],
   "source": [
    "# use the append method to add a new element \n",
    "# to the end of our list. \n",
    "my_list.append(\"once I caught a fish alive\")\n",
    "\n",
    "show_details(\"my_list\", my_list)"
   ]
  },
  {
   "cell_type": "code",
   "execution_count": 4,
   "metadata": {},
   "outputs": [
    {
     "name": "stdout",
     "output_type": "stream",
     "text": [
      "my_list length: 5\n",
      "my_list: [1, 2, 3, 4, 5]\n"
     ]
    }
   ],
   "source": [
    "# pop the last element (the one we just added) off the list\n",
    "my_list.pop()\n",
    "\n",
    "# et voila, we're back to a beautiful list of \n",
    "# integer values once again. \n",
    "show_details(\"my_list\", my_list)"
   ]
  },
  {
   "cell_type": "markdown",
   "metadata": {},
   "source": [
    "#### Don't try to memorise everything, it wont work! \n",
    "\n",
    "It becomes fairly clear that there's no way to remember all the methods and functions that are open to a programmer contextually for all the types and therefore it makes sense to remember how to get access to these lists rather than try to memorise them. \n",
    "- As noted above, if you're in jupyter you can apply the dot operator to your object and hit the tab  key to present a list of available options.\n",
    "- Once you have selected a method or function to apply, if you need help you can press `shift & tab` to access some inline documentation known as a `docstring`.\n",
    "- You can also wrap the `object.method` in a call to `help()` and it will return that same `docstring` when you run the cell.\n",
    "- Use the official python documentation https://docs.python.org/3/"
   ]
  },
  {
   "cell_type": "markdown",
   "metadata": {},
   "source": [
    "## 6.02 - Functions in Python"
   ]
  },
  {
   "cell_type": "markdown",
   "metadata": {},
   "source": [
    "Why functions? Well, creating clean and repeatable code is a key and primary part of being a good programmer. You'll encounter industry terms like the `DRY principle` which means don't repeat yourself. Sounds great, buy why? Well, if you are simply cutting and pasting code and repeating the same actions these can become fragile because if the core logic changes and you don't apply it to all instances, in error, you may now have skewed results and this can have effects from trivial to absolutely critical. \n",
    "\n",
    "cue, functions... functions allow us to create blocks of code that can be reused and therefore housing repeatable areas of functionality in a single location and avoiding the need to rewrite that same logic elsewhere.\n",
    "\n",
    "**Syntax:** \n",
    "```python\n",
    "def function_name(parameters):\n",
    "    '''\n",
    "    The text of the docstring that is pertinent to the function\n",
    "    '''\n",
    "    function_body\n",
    "    return value\n",
    "\n",
    "# to call the function we\n",
    "# can do the following:\n",
    "result = function_name(params)\n",
    "\n",
    "# if the function has an inline \n",
    "# operation, or returns no value \n",
    "# and behaves more like\n",
    "# a procedure then we can \n",
    "# call it directly\n",
    "function_name(params)\n",
    "```\n",
    "\n",
    "Let's look at some real example of functions, albeit with a trivial purpose just for learning and demonstration purposes."
   ]
  },
  {
   "cell_type": "code",
   "execution_count": 5,
   "metadata": {},
   "outputs": [],
   "source": [
    "# adds two numbers together\n",
    "def add_two_nums(x,y):\n",
    "    return x+y"
   ]
  },
  {
   "cell_type": "code",
   "execution_count": 6,
   "metadata": {},
   "outputs": [
    {
     "data": {
      "text/plain": [
       "101"
      ]
     },
     "execution_count": 6,
     "metadata": {},
     "output_type": "execute_result"
    }
   ],
   "source": [
    "res = add_two_nums(1, 100)\n",
    "res"
   ]
  },
  {
   "cell_type": "code",
   "execution_count": 7,
   "metadata": {},
   "outputs": [],
   "source": [
    "# checks if a divisor goes evenly into a number\n",
    "def is_divisible_by(divisor, number):\n",
    "    return number % divisor == 0 "
   ]
  },
  {
   "cell_type": "code",
   "execution_count": 8,
   "metadata": {},
   "outputs": [
    {
     "data": {
      "text/plain": [
       "True"
      ]
     },
     "execution_count": 8,
     "metadata": {},
     "output_type": "execute_result"
    }
   ],
   "source": [
    "res = is_divisible_by(2, 10)\n",
    "res"
   ]
  },
  {
   "cell_type": "code",
   "execution_count": 9,
   "metadata": {},
   "outputs": [
    {
     "data": {
      "text/plain": [
       "False"
      ]
     },
     "execution_count": 9,
     "metadata": {},
     "output_type": "execute_result"
    }
   ],
   "source": [
    "res = is_divisible_by(4, 11)\n",
    "res"
   ]
  },
  {
   "cell_type": "markdown",
   "metadata": {},
   "source": [
    "#### Function construction\n",
    "Worth noting with functions is that the expressive style of a function can be dictated by the programmer in that the aim is to do the maximum in the minimum, we can be expressive with code without being verbose, but we should not sacrifice readability and code comprehension just to have fewer lines of code.\n",
    "\n",
    "Let's look at the above example for `is_divisible_by()` it's entirely possible we could have composed the function like:\n",
    "```python\n",
    "def is_divisible_by(div, num):\n",
    "    result = num % div\n",
    "    if result == 0:\n",
    "        return True\n",
    "    return False\n",
    "```\n",
    "\n",
    "In our version we've managed to combine operations to a single line meaning our `return number % divisor == 0` translates as return the result of evaluating whether number modulo divisor is equal to zero. The modulo operation grab the remainder of a division operation, so if the modulus is zero then the division was clean and equal. If there is a remainder the modulo operation will not equal zero and therefor the `== 0` test on our expression will equate to False and that is what will be returned.    \n",
    "\n",
    "#### Simple efficiencies to reduce needless code inclusion\n",
    "\n",
    "Worth noting is the multiple return statements. In Python when a return statement is encountered that is it for the function, it will not continue inside that function body, it will exit to the parent level of code. So in the most explicit terms we could have rewritten that function as:\n",
    "```python\n",
    "def is_divisible_by(div, num):\n",
    "    result = num % div\n",
    "    if result == 0:\n",
    "        return True\n",
    "    else:\n",
    "        return False\n",
    "```\n",
    "\n",
    "Now we have an extra like to denote the `else` case, in our one above we used an implicit else, because if the result of the `if` statement is False the next line encountered is `return False`. The point being notice how we've managed to triple the length of the function and achieve the same result. This one is harder to read because we have to traverse 6 lines of code instead of 2, the cognitive load of our function has increased and we have no payoff from increasing to load on the engineer. \n",
    "\n",
    "It is best to find the most succinct way of expressing the functionality without compromising clarity.  "
   ]
  },
  {
   "cell_type": "markdown",
   "metadata": {},
   "source": [
    "#### Mindful of the typing"
   ]
  },
  {
   "cell_type": "markdown",
   "metadata": {},
   "source": [
    "We know that Python is a dynamically typed language, this has both up and downsides. Of course we can be very succinct with our add function from above, but let's demonstrate some unexpected and largely unwanted possibilities."
   ]
  },
  {
   "cell_type": "code",
   "execution_count": 10,
   "metadata": {},
   "outputs": [],
   "source": [
    "def add_two_nums(x, y):\n",
    "    return x+y"
   ]
  },
  {
   "cell_type": "code",
   "execution_count": 11,
   "metadata": {},
   "outputs": [
    {
     "name": "stdout",
     "output_type": "stream",
     "text": [
      "15\n",
      "ABCDE\n",
      "10101\n"
     ]
    }
   ],
   "source": [
    "res1 = add_two_nums(5,10)\n",
    "res2 = add_two_nums(\"ABC\", \"DE\")\n",
    "res3 = add_two_nums('10', '101')\n",
    "\n",
    "print(res1)\n",
    "print(res2)\n",
    "print(res3)"
   ]
  },
  {
   "cell_type": "markdown",
   "metadata": {},
   "source": [
    "We will see how to apply stricter controls in time but for the moment we can do some tightening of operations. "
   ]
  },
  {
   "cell_type": "code",
   "execution_count": 12,
   "metadata": {},
   "outputs": [],
   "source": [
    "def add_two_nums(x = 0, y=0):\n",
    "    return int(x + y)"
   ]
  },
  {
   "cell_type": "code",
   "execution_count": 13,
   "metadata": {},
   "outputs": [
    {
     "name": "stdout",
     "output_type": "stream",
     "text": [
      "15\n",
      "10101\n"
     ]
    }
   ],
   "source": [
    "res1 = add_two_nums(5,10)\n",
    "# res2 = add_two_nums(\"ABC\", \"DE\") # will crash the program with a ValueError\n",
    "res3 = add_two_nums('10', '101')\n",
    "\n",
    "print(res1)\n",
    "print(res3)"
   ]
  },
  {
   "cell_type": "markdown",
   "metadata": {},
   "source": [
    "**Note** that `res3` still works and we have a fragility in our function in that if two strings are passed that contain numeric characters then can, and will successfully, be converted to an int and returned. "
   ]
  },
  {
   "cell_type": "markdown",
   "metadata": {},
   "source": [
    "#### Working with more than one value\n",
    "\n",
    "We can also work with multiple values, or lists of values."
   ]
  },
  {
   "cell_type": "code",
   "execution_count": 14,
   "metadata": {},
   "outputs": [],
   "source": [
    "def all_evens(nums):\n",
    "    for num in nums:\n",
    "        if num % 2 != 0:\n",
    "            return False\n",
    "    return True"
   ]
  },
  {
   "cell_type": "code",
   "execution_count": 15,
   "metadata": {},
   "outputs": [
    {
     "name": "stdout",
     "output_type": "stream",
     "text": [
      "True\n",
      "False\n",
      "False\n",
      "True\n"
     ]
    }
   ],
   "source": [
    "print(all_evens([2,4,6,8]))\n",
    "print(all_evens([2,6,8,9]))\n",
    "print(all_evens([100,101]))\n",
    "print(all_evens([500, 1024, 256, 16384]))"
   ]
  },
  {
   "cell_type": "markdown",
   "metadata": {},
   "source": [
    "If we want to refine the above to work on element by element basis we can use function logic and also list comprehension from the previous notebook lessons to combine a response to returning a list of `odd` or `even` responses to the nums passed to the function "
   ]
  },
  {
   "cell_type": "code",
   "execution_count": 16,
   "metadata": {},
   "outputs": [],
   "source": [
    "def odds_or_evens(nums):\n",
    "    return ['Even' if x % 2 == 0 else 'Odd' for x in nums]"
   ]
  },
  {
   "cell_type": "code",
   "execution_count": 17,
   "metadata": {},
   "outputs": [
    {
     "data": {
      "text/plain": [
       "['Odd', 'Even', 'Odd', 'Even', 'Odd', 'Even']"
      ]
     },
     "execution_count": 17,
     "metadata": {},
     "output_type": "execute_result"
    }
   ],
   "source": [
    "odds_or_evens([1,2,3,4,5,6])"
   ]
  },
  {
   "cell_type": "markdown",
   "metadata": {},
   "source": [
    "Let's say we wanted to adjust, or change our function and what we now want to achieve is the return of a list object containing just the even numbers from our original source list "
   ]
  },
  {
   "cell_type": "code",
   "execution_count": 18,
   "metadata": {},
   "outputs": [],
   "source": [
    "def keep_the_evens(source):\n",
    "    return [x for x in source if x % 2 == 0]"
   ]
  },
  {
   "cell_type": "code",
   "execution_count": 19,
   "metadata": {},
   "outputs": [
    {
     "data": {
      "text/plain": [
       "[2, 4, 6, 8, 10]"
      ]
     },
     "execution_count": 19,
     "metadata": {},
     "output_type": "execute_result"
    }
   ],
   "source": [
    "keep_the_evens([1,2,3,4,5,6,7,8,9,10])"
   ]
  },
  {
   "cell_type": "markdown",
   "metadata": {},
   "source": [
    "#### Functions and tuple unpacking \n",
    "\n",
    "Let's have a look at situations where we want to return multiple items from a function."
   ]
  },
  {
   "cell_type": "code",
   "execution_count": 20,
   "metadata": {},
   "outputs": [],
   "source": [
    "def table_separator(width):\n",
    "    print(\"-\" * width)"
   ]
  },
  {
   "cell_type": "code",
   "execution_count": 21,
   "metadata": {},
   "outputs": [],
   "source": [
    "# create a loist of tuples\n",
    "stocks = [(\"APPL\", 1000), (\"GOOG\", 890), (\"MS\", 425), (\"CCL\", 14.50), (\"BTC\", 18000)]"
   ]
  },
  {
   "cell_type": "code",
   "execution_count": 22,
   "metadata": {},
   "outputs": [
    {
     "name": "stdout",
     "output_type": "stream",
     "text": [
      "('APPL', 1000)\n",
      "('GOOG', 890)\n",
      "('MS', 425)\n",
      "('CCL', 14.5)\n",
      "('BTC', 18000)\n"
     ]
    }
   ],
   "source": [
    "for stock in stocks:\n",
    "    print(stock)"
   ]
  },
  {
   "cell_type": "code",
   "execution_count": 23,
   "metadata": {},
   "outputs": [
    {
     "name": "stdout",
     "output_type": "stream",
     "text": [
      "Company                  Price            10% hike\n",
      "------------------------------------------------------------\n",
      "APPL                   1000.00             1100.00\n",
      "GOOG                    890.00              979.00\n",
      "MS                      425.00              467.50\n",
      "CCL                      14.50               15.95\n",
      "BTC                   18000.00            19800.00\n"
     ]
    }
   ],
   "source": [
    "# print out our unpacked tuples, perform operations on \n",
    "# unpacked tuples in the form of the +10% calculation\n",
    "# and a basics of string formatting and presentation. \n",
    "\n",
    "print(f\"{'Company':<10}{'Price':>20}{'10% hike':>20}\")\n",
    "table_separator(60)\n",
    "for ticker, price in stocks:\n",
    "    print(f\"{ticker:10}{price:20.2f}{price * 1.1:20.2f}\")"
   ]
  },
  {
   "cell_type": "markdown",
   "metadata": {},
   "source": [
    "We can also do some conditional operations with unpacked tuples. As a scenario we will pass a list of employees and the number of hours worked for the month and return the employee who has worked the most hours"
   ]
  },
  {
   "cell_type": "code",
   "execution_count": 24,
   "metadata": {},
   "outputs": [],
   "source": [
    "hours = [(\"Aliya\", 160), (\"Bea\", 176), (\"Corra\", 190), (\"Darcy\", 202), (\"Ellie\", 168), (\"Fran\", 174)]"
   ]
  },
  {
   "cell_type": "code",
   "execution_count": 25,
   "metadata": {},
   "outputs": [],
   "source": [
    "def highest_working_hours(vals):\n",
    "    current_emp = \"\"\n",
    "    current_highest_hours = 0\n",
    "    total_hours = 0\n",
    "    total_emps = 0\n",
    "    for staffname, hours_worked in hours:\n",
    "        total_hours += hours_worked\n",
    "        total_emps += 1\n",
    "        if hours_worked > current_highest_hours:\n",
    "            current_emp = staffname\n",
    "            current_highest_hours = hours_worked\n",
    "    \n",
    "    print(f\"Total monthly hours: {total_hours}\")\n",
    "    print(f\"Total employees: {total_emps}\")\n",
    "    print(f\"Most hours worked: {current_highest_hours} by {current_emp}\")"
   ]
  },
  {
   "cell_type": "code",
   "execution_count": 26,
   "metadata": {},
   "outputs": [
    {
     "name": "stdout",
     "output_type": "stream",
     "text": [
      "Total monthly hours: 1070\n",
      "Total employees: 6\n",
      "Most hours worked: 202 by Darcy\n"
     ]
    }
   ],
   "source": [
    "highest_working_hours(hours)"
   ]
  },
  {
   "cell_type": "markdown",
   "metadata": {},
   "source": [
    "#### Three cups example"
   ]
  },
  {
   "cell_type": "code",
   "execution_count": 27,
   "metadata": {},
   "outputs": [],
   "source": [
    "from random import shuffle"
   ]
  },
  {
   "cell_type": "code",
   "execution_count": 28,
   "metadata": {},
   "outputs": [],
   "source": [
    "example = [1,2,3,4,5,6,7]\n",
    "\n",
    "shuffle(example)"
   ]
  },
  {
   "cell_type": "code",
   "execution_count": 29,
   "metadata": {},
   "outputs": [
    {
     "data": {
      "text/plain": [
       "[4, 3, 2, 6, 7, 1, 5]"
      ]
     },
     "execution_count": 29,
     "metadata": {},
     "output_type": "execute_result"
    }
   ],
   "source": [
    "example"
   ]
  },
  {
   "cell_type": "markdown",
   "metadata": {},
   "source": [
    "Note the shuffle function operates inline, meaning it has no real return type. It operates on the operand and does not return a new value, merely a new state of the original value is persisted inline. THe return type of the function is None."
   ]
  },
  {
   "cell_type": "code",
   "execution_count": 30,
   "metadata": {},
   "outputs": [],
   "source": [
    "# create a wrappper around the random shuffle function\n",
    "# to enable a return value. \n",
    "def list_shuffle(mylist):\n",
    "    shuffle(mylist)\n",
    "    return mylist"
   ]
  },
  {
   "cell_type": "code",
   "execution_count": 31,
   "metadata": {},
   "outputs": [],
   "source": [
    "example = [1,2,3,4,5]\n"
   ]
  },
  {
   "cell_type": "code",
   "execution_count": 32,
   "metadata": {},
   "outputs": [
    {
     "data": {
      "text/plain": [
       "[5, 4, 2, 1, 3]"
      ]
     },
     "execution_count": 32,
     "metadata": {},
     "output_type": "execute_result"
    }
   ],
   "source": [
    "example = list_shuffle(example)\n",
    "example"
   ]
  },
  {
   "cell_type": "markdown",
   "metadata": {},
   "source": [
    "Now that we have setup the shuffling mechanism we can continue with the three cups example"
   ]
  },
  {
   "cell_type": "code",
   "execution_count": 33,
   "metadata": {},
   "outputs": [],
   "source": [
    "my_list = ['', '0', '']"
   ]
  },
  {
   "cell_type": "code",
   "execution_count": 34,
   "metadata": {},
   "outputs": [
    {
     "data": {
      "text/plain": [
       "['', '0', '']"
      ]
     },
     "execution_count": 34,
     "metadata": {},
     "output_type": "execute_result"
    }
   ],
   "source": [
    "list_shuffle(my_list)"
   ]
  },
  {
   "cell_type": "code",
   "execution_count": 35,
   "metadata": {},
   "outputs": [],
   "source": [
    "def take_guess():\n",
    "    guess = None\n",
    "    while guess not in ['0', '1', '2']:\n",
    "        guess = input(\"pick 0, 1 or 2 : \")\n",
    "        \n",
    "    return int(guess)"
   ]
  },
  {
   "cell_type": "code",
   "execution_count": 36,
   "metadata": {},
   "outputs": [
    {
     "name": "stdin",
     "output_type": "stream",
     "text": [
      "pick 0, 1 or 2 :  0\n"
     ]
    },
    {
     "data": {
      "text/plain": [
       "0"
      ]
     },
     "execution_count": 36,
     "metadata": {},
     "output_type": "execute_result"
    }
   ],
   "source": [
    "take_guess()"
   ]
  },
  {
   "cell_type": "code",
   "execution_count": 37,
   "metadata": {},
   "outputs": [],
   "source": [
    "def check_guess(my_list, guess):\n",
    "    if my_list[guess] == 'O':\n",
    "        print(\"Correct!\")\n",
    "    else:\n",
    "        print(\"You lose!\")\n",
    "        print(my_list)"
   ]
  },
  {
   "cell_type": "code",
   "execution_count": 39,
   "metadata": {},
   "outputs": [
    {
     "name": "stdin",
     "output_type": "stream",
     "text": [
      "pick 0, 1 or 2 :  2\n"
     ]
    },
    {
     "name": "stdout",
     "output_type": "stream",
     "text": [
      "You lose!\n",
      "['O', '', '']\n"
     ]
    }
   ],
   "source": [
    "my_list = ['', 'O', '']\n",
    "my_list = list_shuffle(my_list)\n",
    "guess = take_guess()\n",
    "check_guess(my_list, guess)\n"
   ]
  },
  {
   "cell_type": "code",
   "execution_count": null,
   "metadata": {},
   "outputs": [],
   "source": []
  },
  {
   "cell_type": "markdown",
   "metadata": {},
   "source": [
    "## 6.03 - `*args` & `**kwargs` in Python"
   ]
  },
  {
   "cell_type": "markdown",
   "metadata": {},
   "source": [
    "Once you have looked at enough python code, or you start looking at OSS libs in python you're going to sumble over the `*args` and `**kwargs` arguments.\n",
    "\n",
    "**so what are they?** arguments and keyword arguments is the short answer. "
   ]
  },
  {
   "cell_type": "code",
   "execution_count": 40,
   "metadata": {},
   "outputs": [],
   "source": [
    "# lets look at an example that demonstrates the good usecase for the \n",
    "# need/existence of the args functionality. \n",
    "# here we have a function that takes in two numbers and returns a \n",
    "# percentage of the summed total. In this model here we are seeing\n",
    "# what is called a positional arguments implementation and that\n",
    "# requires us to pass them as a tuple to the sum function\n",
    "\n",
    "def myfunc(a,b):\n",
    "    # retutns 5% of the sum of a + b \n",
    "    return sum((a,b)) * 0.05"
   ]
  },
  {
   "cell_type": "code",
   "execution_count": 41,
   "metadata": {},
   "outputs": [
    {
     "data": {
      "text/plain": [
       "5.0"
      ]
     },
     "execution_count": 41,
     "metadata": {},
     "output_type": "execute_result"
    }
   ],
   "source": [
    "myfunc(40,60)"
   ]
  },
  {
   "cell_type": "markdown",
   "metadata": {},
   "source": [
    "So, what happens when we need 3 parameters, or 4, or 10? We could add defaulted to zero parameters to make inclusion optional without affecting the function too much. That might work out for a 3rd or even 4th parameter, but by 10 our code would be a mess. \n",
    "\n",
    "```python\n",
    "def myfunc(a, b, c=0, d=0, e=0, f=0, g=0, h=0, i=0, j=0):\n",
    "    return sum((a,b,c,d,e,f,g,h,i,j)) * 0.05\n",
    "```\n",
    "As you can see, this is truly horrible. Don't do this! "
   ]
  },
  {
   "cell_type": "markdown",
   "metadata": {},
   "source": [
    "### How to use *args"
   ]
  },
  {
   "cell_type": "code",
   "execution_count": 42,
   "metadata": {},
   "outputs": [],
   "source": [
    "# this is treated as a tuple of params being passed in.\n",
    "def myfunc(*args):\n",
    "    return sum(args) * 0.05"
   ]
  },
  {
   "cell_type": "code",
   "execution_count": 43,
   "metadata": {},
   "outputs": [
    {
     "data": {
      "text/plain": [
       "5.0"
      ]
     },
     "execution_count": 43,
     "metadata": {},
     "output_type": "execute_result"
    }
   ],
   "source": [
    "myfunc(10,30,40,20)"
   ]
  },
  {
   "cell_type": "markdown",
   "metadata": {},
   "source": [
    "See, now it's beautiful! Do this! \n",
    "\n",
    "**How does it work?** Python adds all the arguments passed into a tuple and the sum function is applied to the tuple and the multiplier is performed and result returned. Fabulous."
   ]
  },
  {
   "cell_type": "markdown",
   "metadata": {},
   "source": [
    "### How to use **kwargs"
   ]
  },
  {
   "cell_type": "code",
   "execution_count": 44,
   "metadata": {},
   "outputs": [],
   "source": [
    "def myfunc(**kwargs):\n",
    "    if 'fruit' in kwargs:\n",
    "        print('my fruit of choice is {}'.format(kwargs['fruit']))\n",
    "    else:\n",
    "        print('I did not find any fruit')"
   ]
  },
  {
   "cell_type": "code",
   "execution_count": 45,
   "metadata": {},
   "outputs": [
    {
     "name": "stdout",
     "output_type": "stream",
     "text": [
      "I did not find any fruit\n"
     ]
    }
   ],
   "source": [
    "myfunc(grub='dinner')"
   ]
  },
  {
   "cell_type": "markdown",
   "metadata": {},
   "source": [
    "The `kwargs` is interpreted as a dictionary. The identifier name and value are passed in and internally stored as dictionary entries. We can see that with a print example."
   ]
  },
  {
   "cell_type": "code",
   "execution_count": 46,
   "metadata": {},
   "outputs": [],
   "source": [
    "def kwarghandler(**kwargs):\n",
    "    print(kwargs)"
   ]
  },
  {
   "cell_type": "code",
   "execution_count": 47,
   "metadata": {},
   "outputs": [
    {
     "name": "stdout",
     "output_type": "stream",
     "text": [
      "{'fruit': 'apple', 'name': 'Tom', 'ba_ba_black_Sheep': 'Have you any wool'}\n"
     ]
    }
   ],
   "source": [
    "kwarghandler(fruit=\"apple\", name=\"Tom\", ba_ba_black_Sheep=\"Have you any wool\")"
   ]
  },
  {
   "cell_type": "markdown",
   "metadata": {},
   "source": [
    "#### How to use *args & **kwargs together"
   ]
  },
  {
   "cell_type": "code",
   "execution_count": 48,
   "metadata": {},
   "outputs": [],
   "source": [
    "def myfunc(*args, **kwargs):\n",
    "    print(\"I would like {} {}\".format(args[0], kwargs['food']))"
   ]
  },
  {
   "cell_type": "code",
   "execution_count": 49,
   "metadata": {},
   "outputs": [
    {
     "name": "stdout",
     "output_type": "stream",
     "text": [
      "I would like 10 kebabs\n"
     ]
    }
   ],
   "source": [
    "myfunc(10, food=\"kebabs\")"
   ]
  },
  {
   "cell_type": "markdown",
   "metadata": {},
   "source": [
    "## 6.04 - Lambda expressions `map` & `filter` in Python"
   ]
  },
  {
   "cell_type": "markdown",
   "metadata": {},
   "source": [
    "Lambda functions are typically anonymous one-time usage functions. They are grouped together with the `map` and `filter` functions because it makes sense and gives string context to the use case for lambdas by doing so."
   ]
  },
  {
   "cell_type": "markdown",
   "metadata": {},
   "source": [
    "#### The `map` function\n",
    "\n",
    "The `map` function expects a function and an iterable to be passed to it. "
   ]
  },
  {
   "cell_type": "code",
   "execution_count": 50,
   "metadata": {},
   "outputs": [],
   "source": [
    "def square(num):\n",
    "    return num**2"
   ]
  },
  {
   "cell_type": "code",
   "execution_count": 51,
   "metadata": {},
   "outputs": [],
   "source": [
    "nums = [1,2,3,4,5,6,7,8,9,10]"
   ]
  },
  {
   "cell_type": "code",
   "execution_count": 52,
   "metadata": {},
   "outputs": [
    {
     "name": "stdout",
     "output_type": "stream",
     "text": [
      "1\n",
      "4\n",
      "9\n",
      "16\n",
      "25\n",
      "36\n",
      "49\n",
      "64\n",
      "81\n",
      "100\n"
     ]
    }
   ],
   "source": [
    "# simple for loop example\n",
    "for num in nums:\n",
    "    print(square(num))"
   ]
  },
  {
   "cell_type": "markdown",
   "metadata": {},
   "source": [
    "If we want to run the square function for each number in or nums list we can use a for loop but it's inefficient and it's a code heavy way to do it. This is where the `map` function comes into play."
   ]
  },
  {
   "cell_type": "code",
   "execution_count": 53,
   "metadata": {},
   "outputs": [
    {
     "data": {
      "text/plain": [
       "<map at 0x7f4fa0b814f0>"
      ]
     },
     "execution_count": 53,
     "metadata": {},
     "output_type": "execute_result"
    }
   ],
   "source": [
    "map(square, nums)"
   ]
  },
  {
   "cell_type": "markdown",
   "metadata": {},
   "source": [
    "We can see we have created a map object which by itself is not that useful, but we can iterate over that to make it useful."
   ]
  },
  {
   "cell_type": "code",
   "execution_count": 54,
   "metadata": {},
   "outputs": [
    {
     "name": "stdout",
     "output_type": "stream",
     "text": [
      "1\n",
      "4\n",
      "9\n",
      "16\n",
      "25\n",
      "36\n",
      "49\n",
      "64\n",
      "81\n",
      "100\n"
     ]
    }
   ],
   "source": [
    "# using the map function example\n",
    "for item in map(square, nums):\n",
    "    print(item)"
   ]
  },
  {
   "cell_type": "markdown",
   "metadata": {},
   "source": [
    "If we simply wanted a list of results, we can see how to do that below. ..and now we can see some code efficiency emerging."
   ]
  },
  {
   "cell_type": "code",
   "execution_count": 55,
   "metadata": {},
   "outputs": [
    {
     "data": {
      "text/plain": [
       "[1, 4, 9, 16, 25, 36, 49, 64, 81, 100]"
      ]
     },
     "execution_count": 55,
     "metadata": {},
     "output_type": "execute_result"
    }
   ],
   "source": [
    "list(map(square, nums))"
   ]
  },
  {
   "cell_type": "code",
   "execution_count": 56,
   "metadata": {},
   "outputs": [],
   "source": [
    "def splicer(mystring):\n",
    "    if len(mystring) % 2 == 0:\n",
    "        return 'Even'\n",
    "    return 'Odd'"
   ]
  },
  {
   "cell_type": "code",
   "execution_count": 57,
   "metadata": {},
   "outputs": [
    {
     "data": {
      "text/plain": [
       "['Even', 'Even', 'Odd', 'Even']"
      ]
     },
     "execution_count": 57,
     "metadata": {},
     "output_type": "execute_result"
    }
   ],
   "source": [
    "names = ['Ed', \"Meglet\", \"Ida\", \"Iris\"]\n",
    "\n",
    "list(map(splicer, names))"
   ]
  },
  {
   "cell_type": "markdown",
   "metadata": {},
   "source": [
    "**note** the map function takes as parameters the references to the function and iterator. In the example above note that the `splicer` function does not present the function call syntax `splicer()` because the map function will control the calling. "
   ]
  },
  {
   "cell_type": "markdown",
   "metadata": {},
   "source": [
    "#### The `filter` function\n",
    "\n",
    "Similar to the map functional in its approach the filter takes a function and and iterator, however, there is a caveat in that the function must return a boolean because the filter works on the premise of filtering based on the result of a boolean evaluation for each case under assessment.\n"
   ]
  },
  {
   "cell_type": "code",
   "execution_count": 62,
   "metadata": {},
   "outputs": [],
   "source": [
    "# create a function that returns a boolean based on the supplied\n",
    "# number being even (True) or not (False)\n",
    "def check_even(num):\n",
    "    return num % 2 == 0"
   ]
  },
  {
   "cell_type": "code",
   "execution_count": 63,
   "metadata": {},
   "outputs": [],
   "source": [
    "nums = [1,2,3,4,5,6,7,8,9,10]"
   ]
  },
  {
   "cell_type": "code",
   "execution_count": 64,
   "metadata": {},
   "outputs": [
    {
     "data": {
      "text/plain": [
       "[2, 4, 6, 8, 10]"
      ]
     },
     "execution_count": 64,
     "metadata": {},
     "output_type": "execute_result"
    }
   ],
   "source": [
    "# filter itself will return an object like we seen \n",
    "# for the map function and the typical use-case is\n",
    "# to have these as a list. \n",
    "list(filter(check_even, nums))"
   ]
  },
  {
   "cell_type": "markdown",
   "metadata": {},
   "source": [
    "#### Lambda expressions\n",
    "\n",
    "now we have a grasp of what map and filter are, and can do, we can look at lambda expressions."
   ]
  },
  {
   "cell_type": "code",
   "execution_count": 65,
   "metadata": {},
   "outputs": [],
   "source": [
    "# lets take the square from earlier\n",
    "def square(num):\n",
    "    return num**2"
   ]
  },
  {
   "cell_type": "code",
   "execution_count": 67,
   "metadata": {},
   "outputs": [],
   "source": [
    "# for the purpose of comprehension, we have take the square function\n",
    "# converted it to lambda syntax. To demonstrate usage we have assigned\n",
    "# it to the variable square... \n",
    "square = lambda num: num ** 2"
   ]
  },
  {
   "cell_type": "markdown",
   "metadata": {},
   "source": [
    "What we have above explains lambda and yet defeats the purpose of it because typically we will not name it. Typically it will be a much more inline operation we perform. Let us rework the map and filter examples using lambda expressions."
   ]
  },
  {
   "cell_type": "code",
   "execution_count": 69,
   "metadata": {},
   "outputs": [],
   "source": [
    "nums = [1,2,3,4,5,6,7,8,9,10]"
   ]
  },
  {
   "cell_type": "code",
   "execution_count": 70,
   "metadata": {},
   "outputs": [
    {
     "data": {
      "text/plain": [
       "[1, 4, 9, 16, 25, 36, 49, 64, 81, 100]"
      ]
     },
     "execution_count": 70,
     "metadata": {},
     "output_type": "execute_result"
    }
   ],
   "source": [
    "list(map(lambda x: x**2, nums))"
   ]
  },
  {
   "cell_type": "code",
   "execution_count": 71,
   "metadata": {},
   "outputs": [
    {
     "data": {
      "text/plain": [
       "[2, 4, 6, 8, 10]"
      ]
     },
     "execution_count": 71,
     "metadata": {},
     "output_type": "execute_result"
    }
   ],
   "source": [
    "list(filter(lambda x: x % 2 == 0, nums))"
   ]
  },
  {
   "cell_type": "code",
   "execution_count": null,
   "metadata": {},
   "outputs": [],
   "source": []
  }
 ],
 "metadata": {
  "kernelspec": {
   "display_name": "pykit",
   "language": "python",
   "name": "pykit"
  },
  "language_info": {
   "codemirror_mode": {
    "name": "ipython",
    "version": 3
   },
   "file_extension": ".py",
   "mimetype": "text/x-python",
   "name": "python",
   "nbconvert_exporter": "python",
   "pygments_lexer": "ipython3",
   "version": "3.8.3"
  }
 },
 "nbformat": 4,
 "nbformat_minor": 4
}
