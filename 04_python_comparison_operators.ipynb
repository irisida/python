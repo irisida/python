{
 "cells": [
  {
   "cell_type": "markdown",
   "metadata": {},
   "source": [
    "# Python Comparison Operators\n",
    "\n",
    "![python logo](https://www.python.org/static/community_logos/python-logo-inkscape.svg)\n",
    "\n",
    "\n",
    "## Section coverage\n",
    "- 4.01 Comparison operators in Python\n",
    "- 4.02 Chaining comparison operators in Python with logical operators"
   ]
  },
  {
   "cell_type": "markdown",
   "metadata": {},
   "source": [
    "## 4.01 Comparison operators in Python"
   ]
  },
  {
   "cell_type": "markdown",
   "metadata": {},
   "source": [
    "Comparison operators allow us to compare values and deduce a true of false outcome from the comparison. These aide logical flow and controlling the flow of programs. Typically they're very easy to understand if you have any math background at all. If you don't the good news is they are still easy. Essentially we're going to test the following conditional possibilities:\n",
    "\n",
    "- `==` is equal to\n",
    "- `!=` is not equal to\n",
    "- `>` is greater than\n",
    "- `>=` is greater than or equal to\n",
    "- `<` is less than\n",
    "- `<=` is less than or equal to\n",
    "\n",
    "Our operands go on either side of the comparison operator like in the following examples:\n",
    "\n",
    "- `5 == 4` - This will return False because, well, let's face it, 5 does not equal 4. \n",
    "- `5 != 4` - This will return True because 5 does not equal 4. Hurrah! \n",
    "- `5 > 4` - returns True because 5 is greater than 4\n",
    "- `5 >= 4` - returns True because 5 may not be equal to 4, but it is greater, so we see this has two possibilities. \n",
    "- `5 < 4` - returns False because 5 is greater than 4, not less than 4. \n",
    "- `5 <= 4` - returns False because 5 is neither less than, nor equal to 4.\n"
   ]
  },
  {
   "cell_type": "code",
   "execution_count": 1,
   "metadata": {},
   "outputs": [
    {
     "data": {
      "text/plain": [
       "False"
      ]
     },
     "execution_count": 1,
     "metadata": {},
     "output_type": "execute_result"
    }
   ],
   "source": [
    "# let's see some more demo code\n",
    "\n",
    "# set a value for x\n",
    "x = 32 \n",
    "\n",
    "# use the greater than comparison to check if our value is > 6*6 or 36. \n",
    "x > 6 * 6"
   ]
  },
  {
   "cell_type": "code",
   "execution_count": 2,
   "metadata": {},
   "outputs": [
    {
     "data": {
      "text/plain": [
       "True"
      ]
     },
     "execution_count": 2,
     "metadata": {},
     "output_type": "execute_result"
    }
   ],
   "source": [
    "# reset x\n",
    "x = 45\n",
    "\n",
    "# is it less than or equal to 5*9 or 45, yes. It is True\n",
    "x <= 5 * 9 "
   ]
  },
  {
   "cell_type": "code",
   "execution_count": 3,
   "metadata": {},
   "outputs": [
    {
     "data": {
      "text/plain": [
       "False"
      ]
     },
     "execution_count": 3,
     "metadata": {},
     "output_type": "execute_result"
    }
   ],
   "source": [
    "True == False"
   ]
  },
  {
   "cell_type": "code",
   "execution_count": 4,
   "metadata": {},
   "outputs": [
    {
     "data": {
      "text/plain": [
       "True"
      ]
     },
     "execution_count": 4,
     "metadata": {},
     "output_type": "execute_result"
    }
   ],
   "source": [
    "False != True"
   ]
  },
  {
   "cell_type": "code",
   "execution_count": 6,
   "metadata": {},
   "outputs": [
    {
     "data": {
      "text/plain": [
       "True"
      ]
     },
     "execution_count": 6,
     "metadata": {},
     "output_type": "execute_result"
    }
   ],
   "source": [
    "# an example of what we're doing next, multi comparison chaining..... \n",
    "6 > 5 and 6 < 8 "
   ]
  },
  {
   "cell_type": "markdown",
   "metadata": {},
   "source": [
    "## 4.02 Chaining comparison operators in Python with Logical operators"
   ]
  },
  {
   "cell_type": "markdown",
   "metadata": {},
   "source": [
    "The logical operators in Python are **and**, **or** & **not**. These can be used to chain together evaluations to facilitate a more complex or richer check scenario capability. Other languages typically use a syntactic approach to the same concept such as `&&`, `||` and `!` to provide the same language features but the use of English words here gives python a leg-up on ease of concept digestion. Let's see them in action."
   ]
  },
  {
   "cell_type": "code",
   "execution_count": 8,
   "metadata": {},
   "outputs": [
    {
     "data": {
      "text/plain": [
       "False"
      ]
     },
     "execution_count": 8,
     "metadata": {},
     "output_type": "execute_result"
    }
   ],
   "source": [
    "x = False\n",
    "y = True\n",
    "\n",
    "x and y"
   ]
  },
  {
   "cell_type": "code",
   "execution_count": 9,
   "metadata": {},
   "outputs": [
    {
     "data": {
      "text/plain": [
       "True"
      ]
     },
     "execution_count": 9,
     "metadata": {},
     "output_type": "execute_result"
    }
   ],
   "source": [
    "# using the or we can see that if either operand is True we will yield a True.\n",
    "x or y"
   ]
  },
  {
   "cell_type": "code",
   "execution_count": 10,
   "metadata": {},
   "outputs": [
    {
     "data": {
      "text/plain": [
       "True"
      ]
     },
     "execution_count": 10,
     "metadata": {},
     "output_type": "execute_result"
    }
   ],
   "source": [
    "# test for both sides of the boolean spectrum. \n",
    "not x and y"
   ]
  },
  {
   "cell_type": "code",
   "execution_count": null,
   "metadata": {},
   "outputs": [],
   "source": []
  }
 ],
 "metadata": {
  "kernelspec": {
   "display_name": "pykit",
   "language": "python",
   "name": "pykit"
  },
  "language_info": {
   "codemirror_mode": {
    "name": "ipython",
    "version": 3
   },
   "file_extension": ".py",
   "mimetype": "text/x-python",
   "name": "python",
   "nbconvert_exporter": "python",
   "pygments_lexer": "ipython3",
   "version": "3.8.3"
  }
 },
 "nbformat": 4,
 "nbformat_minor": 4
}
