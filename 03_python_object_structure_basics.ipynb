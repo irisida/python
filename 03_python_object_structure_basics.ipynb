{
 "cells": [
  {
   "cell_type": "markdown",
   "metadata": {},
   "source": [
    "# Python Object and Data Structure basics\n",
    "\n",
    "![python logo](https://www.python.org/static/community_logos/python-logo-inkscape.svg)\n",
    "\n",
    "\n",
    "## Section coverage\n",
    "- 3.01 Introduction to Python Data Types\n",
    "- 3.02 Python Numbers\n",
    "- 3.03 Variables and Variable assignment\n",
    "- 3.04 Introduction to Strings\n",
    "- 3.05 Strings: Indexing and Slicing\n",
    "- 3.06 String Methods\n",
    "- 3.07 Lists\n",
    "- 3.08 Dictionaries\n",
    "- 3.09 Tuples\n",
    "- 3.10 Booleans\n",
    "- 3.11 Basic file I/O"
   ]
  },
  {
   "cell_type": "markdown",
   "metadata": {},
   "source": [
    "## 3.01 Introduction to Python Data Types\n",
    "\n",
    "The following datatypes are supported in the python 3 language specification. These are known as primitives. \n",
    "\n",
    "- `int` : integers : whole numbers from within the real number set.\n",
    "- `float` : floating point : numbers with a decimal point from within the real numbers set.\n",
    "- `str` : Strings : ordered sequence characters, alphanumeric.\n",
    "- `list` : Lists : Ordered sequence of objects.\n",
    "- `dict` : Dictionaries : Unordered `key:value` pairings.\n",
    "- `tup` : tuple : ordered immutable sequence of objects.\n",
    "- `set` : Sets : unordered collection of unique objects. \n",
    "- `bool` : Booleans : logical values indicating True or False. \n",
    "\n",
    "We can also group our types as types of types. \n",
    "- Text Type : `str`\n",
    "- Numeric Types : `int`, `float` & `complex` (complex is for complex numbers as a math concept)\n",
    "- Sequence Types : `list`, `tuple`, `range`\n",
    "- Mapping Type : `dict`\n",
    "- Set Types : `set`, `frozenset`\n",
    "- Boolean Types : `bool`\n",
    "- Binary types : `bytes`, `bytearray`, `memoryview`\n",
    "\n",
    "In the second lost we have seen some that are extensions to later editions of the language specification and some that are not considered as a primitive of the language. We will cover all in good time. "
   ]
  },
  {
   "cell_type": "markdown",
   "metadata": {},
   "source": [
    "## 3.02 Python numbers\n",
    "\n",
    "Python numbers are the `int`, `float` & `complex` types. An int is a whole number, positive or negative. Any number without a decimal part. floats are decimal numbers. They can sometimes be scientific numbers using the `e` as indicator of a power of 10. eg `x = 35e5`. Next we have complex numbers, complex numbers are an entire mathematical concept and are numbers that contain an imaginary part, in python we denote that with a `j`. eg. `x = 3+5j`\n",
    "\n",
    "Python supports standard numbers operations of add, subtract, multiply divide. It also provides modulo operations and floor division. \n",
    "- `+` The addition operator\n",
    "- `-` The minus operator\n",
    "- `*` The multiplication operator\n",
    "- `/` The division operator\n",
    "- `%` The modulo operator "
   ]
  },
  {
   "cell_type": "code",
   "execution_count": 41,
   "metadata": {},
   "outputs": [
    {
     "data": {
      "text/plain": [
       "42"
      ]
     },
     "execution_count": 41,
     "metadata": {},
     "output_type": "execute_result"
    }
   ],
   "source": [
    "20 + 5 + 17"
   ]
  },
  {
   "cell_type": "code",
   "execution_count": 42,
   "metadata": {},
   "outputs": [
    {
     "data": {
      "text/plain": [
       "42"
      ]
     },
     "execution_count": 42,
     "metadata": {},
     "output_type": "execute_result"
    }
   ],
   "source": [
    "50 - 7 - 1"
   ]
  },
  {
   "cell_type": "code",
   "execution_count": 43,
   "metadata": {},
   "outputs": [
    {
     "data": {
      "text/plain": [
       "42"
      ]
     },
     "execution_count": 43,
     "metadata": {},
     "output_type": "execute_result"
    }
   ],
   "source": [
    "21 * 2 + 0"
   ]
  },
  {
   "cell_type": "code",
   "execution_count": 4,
   "metadata": {},
   "outputs": [
    {
     "data": {
      "text/plain": [
       "42.0"
      ]
     },
     "execution_count": 4,
     "metadata": {},
     "output_type": "execute_result"
    }
   ],
   "source": [
    "84 / 2 # Aha... note that we are returning a float here on the division operator"
   ]
  },
  {
   "cell_type": "code",
   "execution_count": 5,
   "metadata": {},
   "outputs": [
    {
     "data": {
      "text/plain": [
       "42"
      ]
     },
     "execution_count": 5,
     "metadata": {},
     "output_type": "execute_result"
    }
   ],
   "source": [
    "84 // 2 # floor division will always return the integer value"
   ]
  },
  {
   "cell_type": "code",
   "execution_count": 6,
   "metadata": {},
   "outputs": [
    {
     "data": {
      "text/plain": [
       "42"
      ]
     },
     "execution_count": 6,
     "metadata": {},
     "output_type": "execute_result"
    }
   ],
   "source": [
    "142 % 50"
   ]
  },
  {
   "cell_type": "markdown",
   "metadata": {},
   "source": [
    "## 3.03 Variables and variable assignment\n",
    "\n",
    "#### Variables as value references\n",
    "\n",
    "A variable is a name or a label that is used a reference to a value. That's it, it really is the simple. Think of it as a nickname or memorable title for a value you will make use of now or later.\n",
    "\n",
    "#### 3.03.01 The rules of naming a variable:\n",
    "- Does not allow spaces, underscores are preferred, or more `pythonic`\n",
    "- Does not start with a number, but may contain one.\n",
    "- pep8 (style guide) asks they be lowercase for variables where values may change, fully UPPERCASE for constants which don't. \n",
    "- May not be python reserved words, like list, str, int etc...\n",
    "\n",
    "#### 3.03.02 Python typing of variables\n",
    "Python has `dynamic typing`. What this means is that you can have a value `x` point to a string, then reassign that to an integer vale, then reassign that to a boolean and so on... Not all programming languages allow that. Static typed languages will not allow you to use the variable (named label) of an integer value for a boolean and so on, so in the static typed world once you have chosen what type a variable is, it must always remain that type. It's value may change, but not its value type.\n",
    "\n",
    "If you are unsure you can quickly check the type with the `type()` function. If you're new to programming then you may be thinking that this static typing is a bad thing and very restrictive. No, not really, it's actually preferred by a great many engineers because that control prevents easy errors. So, with that in mind it does well to remember that with great power comes a great responsibility. Python has power to jump types and therefore you, the engineer, must now manage that. "
   ]
  },
  {
   "cell_type": "code",
   "execution_count": 7,
   "metadata": {},
   "outputs": [
    {
     "data": {
      "text/plain": [
       "str"
      ]
     },
     "execution_count": 7,
     "metadata": {},
     "output_type": "execute_result"
    }
   ],
   "source": [
    "# eg.... \n",
    "\n",
    "x = \"string value\"\n",
    "type(x)"
   ]
  },
  {
   "cell_type": "code",
   "execution_count": 8,
   "metadata": {},
   "outputs": [
    {
     "data": {
      "text/plain": [
       "int"
      ]
     },
     "execution_count": 8,
     "metadata": {},
     "output_type": "execute_result"
    }
   ],
   "source": [
    "x = 10\n",
    "type(x)"
   ]
  },
  {
   "cell_type": "code",
   "execution_count": 9,
   "metadata": {},
   "outputs": [
    {
     "data": {
      "text/plain": [
       "bool"
      ]
     },
     "execution_count": 9,
     "metadata": {},
     "output_type": "execute_result"
    }
   ],
   "source": [
    "# getting ahead here we're using conditional checking.\n",
    "# if False is the same as x, not the double equals\n",
    "\n",
    "if False == x:\n",
    "    print(x)\n",
    "else:\n",
    "    x = False\n",
    "    \n",
    "type(x)\n",
    "\n",
    "# as an aside, re-run the cell after it has first been run.  :) "
   ]
  },
  {
   "cell_type": "markdown",
   "metadata": {},
   "source": [
    "## 3.04 Introduction to Python Strings\n",
    "\n",
    "A sequence of characters encased in single or double quotes. If you want to include a quote in a string you will have to escape it, or use the opposite quote type. ie, if your string is encased in double quotes you can use a single quote without escaping, if it's encased in single quotes a double quote can be used. \n",
    "\n",
    "#### String literals \n",
    "This means that `\"hello\"` is the same as `'hello'`. You can create multi-line strings by surrounding it in three pairs of quotes. eg: \n",
    "\n",
    "#### Multi-line string values\n",
    "\"\"\"\n",
    "This is a  \n",
    "multi-line string in python  \n",
    "that uses three  \n",
    "pairs of strings to   \n",
    "surround the string literal  \n",
    "\"\"\""
   ]
  },
  {
   "cell_type": "code",
   "execution_count": 66,
   "metadata": {},
   "outputs": [
    {
     "name": "stdout",
     "output_type": "stream",
     "text": [
      "Hello \n",
      "F\n",
      "R\n",
      "O\n",
      "M\n",
      "Python\n"
     ]
    }
   ],
   "source": [
    "# we can also include escaped characters\n",
    "x = \"Hello \\nF\\nR\\nO\\nM\\nPython\"\n",
    "print(x)\n"
   ]
  },
  {
   "cell_type": "markdown",
   "metadata": {},
   "source": [
    "## 3.05 Strings: Indexing and Slicing\n",
    "\n",
    "#### 3.05.01 String indexing\n",
    "\n",
    "A string is basically a collection of individual characters, it's an organised sequence and therefore because it's oirganised each element in that sequence has an index, or a place-marker. The index is a zero-based counter that indicates a characters position. \n",
    "\n",
    "An example of this would be: \n",
    "- \"Hello, World\"\n",
    "We can see that in that example:\n",
    "- 'H' would be index 0\n",
    "- 'e' would be index 1\n",
    "- ',' would be index 5\n",
    "- 'o' would be index 8  ..and so on..."
   ]
  },
  {
   "cell_type": "code",
   "execution_count": 38,
   "metadata": {},
   "outputs": [
    {
     "data": {
      "text/plain": [
       "'o'"
      ]
     },
     "execution_count": 38,
     "metadata": {},
     "output_type": "execute_result"
    }
   ],
   "source": [
    "x = \"You say goodbye, but I say Hello, hello, hello, I don't know why you say goodbye I say hello\"\n",
    "\n",
    "# indexing, let's start with negative index to get the last character. \n",
    "y = x[-1]\n",
    "y"
   ]
  },
  {
   "cell_type": "code",
   "execution_count": 39,
   "metadata": {},
   "outputs": [
    {
     "data": {
      "text/plain": [
       "21"
      ]
     },
     "execution_count": 39,
     "metadata": {},
     "output_type": "execute_result"
    }
   ],
   "source": [
    "# lets grab the index of the first 'I' and check the position\n",
    "z = x.index(\"I\")\n",
    "z"
   ]
  },
  {
   "cell_type": "markdown",
   "metadata": {},
   "source": [
    "#### 3.05.02 String Slicing\n",
    "\n",
    "Slicing a string is the art of selecting a sub-string, or a partial value of the whole, like slicing a cake, how big is a slice is determined by where you place the knife cuts, just as in python it is determined by where you define it should start and stop. \n",
    "\n",
    "So, lets say we want I say Hello. note we must remember the inclusive, exclusive rule for slicing so we start at 21 which is inclusive and set the end index, which is excluded to one beyond the desired value, in our case here 32. "
   ]
  },
  {
   "cell_type": "code",
   "execution_count": 67,
   "metadata": {},
   "outputs": [
    {
     "data": {
      "text/plain": [
       "''"
      ]
     },
     "execution_count": 67,
     "metadata": {},
     "output_type": "execute_result"
    }
   ],
   "source": [
    "z = x[21:32]\n",
    "z"
   ]
  },
  {
   "cell_type": "code",
   "execution_count": 14,
   "metadata": {},
   "outputs": [
    {
     "data": {
      "text/plain": [
       "'You say goodbye, but I say Hello'"
      ]
     },
     "execution_count": 14,
     "metadata": {},
     "output_type": "execute_result"
    }
   ],
   "source": [
    "# lets say we want to take the whole string but only up \n",
    "# to a certain value, so we want to stop at 32. \n",
    "z = x[:32]\n",
    "z"
   ]
  },
  {
   "cell_type": "markdown",
   "metadata": {},
   "source": [
    "We use the colon to separate the start, end and step values nothing specified for the start and then the colon means take everything. so we have everything up until character 32, as no step was prescribed, take everything. "
   ]
  },
  {
   "cell_type": "code",
   "execution_count": 45,
   "metadata": {},
   "outputs": [
    {
     "data": {
      "text/plain": [
       "'Yusygobe u  a el'"
      ]
     },
     "execution_count": 45,
     "metadata": {},
     "output_type": "execute_result"
    }
   ],
   "source": [
    "# lets demo steps\n",
    "z = x [:32:2]\n",
    "z\n",
    "\n",
    "\n",
    "# Now we're only taking every second letter. "
   ]
  },
  {
   "cell_type": "code",
   "execution_count": 46,
   "metadata": {},
   "outputs": [
    {
     "data": {
      "text/plain": [
       "\", hello, hello, I don't know why you say goodbye I say hello\""
      ]
     },
     "execution_count": 46,
     "metadata": {},
     "output_type": "execute_result"
    }
   ],
   "source": [
    "# default values works for each segment\n",
    "# lets grab everything after the first Hello\n",
    "z = x[32:]\n",
    "z"
   ]
  },
  {
   "cell_type": "code",
   "execution_count": 17,
   "metadata": {},
   "outputs": [
    {
     "data": {
      "text/plain": [
       "'hello'"
      ]
     },
     "execution_count": 17,
     "metadata": {},
     "output_type": "execute_result"
    }
   ],
   "source": [
    "# Lets see more negative indexing to grab just the last word. \n",
    "z = x[-5:]\n",
    "z"
   ]
  },
  {
   "cell_type": "markdown",
   "metadata": {},
   "source": [
    "***Point to remember** strings are immutable, reassignment of a string is creating a new strig, because you can't reassign to a string"
   ]
  },
  {
   "cell_type": "code",
   "execution_count": 18,
   "metadata": {},
   "outputs": [
    {
     "data": {
      "text/plain": [
       "\"Iou say goodbye, but I say Hello, hello, hello, I don't know why you say goodbye I say hello\""
      ]
     },
     "execution_count": 18,
     "metadata": {},
     "output_type": "execute_result"
    }
   ],
   "source": [
    "# This would fail\n",
    "# x[0] = \"I\"\n",
    "\n",
    "# to achieve that we need to we cold use\n",
    "x = \"I\" + x[1:]\n",
    "x\n",
    "\n",
    "# Note the result doesn't make much sense grammatically but the point \n",
    "# is to see we have to create a new string as we cannot mutate the old. "
   ]
  },
  {
   "cell_type": "markdown",
   "metadata": {},
   "source": [
    "\n",
    "\n",
    "***Important reminder** Strings use an `overloaded` operator to allow concatenation, so we see the + syntax used and it joins them. This can be confusing with numbers that are strings"
   ]
  },
  {
   "cell_type": "code",
   "execution_count": 47,
   "metadata": {},
   "outputs": [
    {
     "data": {
      "text/plain": [
       "'253'"
      ]
     },
     "execution_count": 47,
     "metadata": {},
     "output_type": "execute_result"
    }
   ],
   "source": [
    "\"2\" + \"5\" + \"3\" #should be ten, right?"
   ]
  },
  {
   "cell_type": "markdown",
   "metadata": {},
   "source": [
    "So be aware of types when adding/concatenating. In short the `+` syntax does not always mean `+` the way you expect it to."
   ]
  },
  {
   "cell_type": "markdown",
   "metadata": {},
   "source": [
    "## 3.06 String Methods\n",
    "\n",
    "#### String casing\n",
    "\n",
    "The methods: \n",
    "- upper()\n",
    "- lower()"
   ]
  },
  {
   "cell_type": "code",
   "execution_count": 20,
   "metadata": {},
   "outputs": [
    {
     "data": {
      "text/plain": [
       "'hello'"
      ]
     },
     "execution_count": 20,
     "metadata": {},
     "output_type": "execute_result"
    }
   ],
   "source": [
    "\"HELLO\".lower()"
   ]
  },
  {
   "cell_type": "code",
   "execution_count": 21,
   "metadata": {},
   "outputs": [
    {
     "data": {
      "text/plain": [
       "'I WANT TO SHOUT'"
      ]
     },
     "execution_count": 21,
     "metadata": {},
     "output_type": "execute_result"
    }
   ],
   "source": [
    "\"i want to shout\".upper()"
   ]
  },
  {
   "cell_type": "markdown",
   "metadata": {},
   "source": [
    "#### 3.06.01 Splitting & joining Strings "
   ]
  },
  {
   "cell_type": "code",
   "execution_count": 22,
   "metadata": {},
   "outputs": [
    {
     "data": {
      "text/plain": [
       "['This', 'is', 'the', 'source', 'string', 'for', 'splitting', 'and', 'joining']"
      ]
     },
     "execution_count": 22,
     "metadata": {},
     "output_type": "execute_result"
    }
   ],
   "source": [
    "source = \"This is the source string for splitting and joining\"\n",
    "words = source.split()\n",
    "words"
   ]
  },
  {
   "cell_type": "markdown",
   "metadata": {},
   "source": [
    "We have split the words into a python list that separated them by a space between each word in the source."
   ]
  },
  {
   "cell_type": "code",
   "execution_count": 23,
   "metadata": {},
   "outputs": [
    {
     "data": {
      "text/plain": [
       "['Th', 's ', 's the source str', 'ng for spl', 'tt', 'ng and jo', 'n', 'ng']"
      ]
     },
     "execution_count": 23,
     "metadata": {},
     "output_type": "execute_result"
    }
   ],
   "source": [
    "# Lets split on the letter i\n",
    "nonsense = source.split(\"i\")\n",
    "nonsense"
   ]
  },
  {
   "cell_type": "markdown",
   "metadata": {},
   "source": [
    "#### 3.06.02 Print formatting with Python Strings\n",
    "\n",
    "- f-strings  - after python 3.7\n",
    "- .format method - more traditional python3 method"
   ]
  },
  {
   "cell_type": "code",
   "execution_count": 24,
   "metadata": {},
   "outputs": [
    {
     "name": "stdout",
     "output_type": "stream",
     "text": [
      "Hey there, Your name\n",
      "Hey there, Your name\n"
     ]
    }
   ],
   "source": [
    "x = \"Your name\"\n",
    "\n",
    "print(f\"Hey there, {x}\")\n",
    "print(\"Hey there, {}\".format(x))\n",
    "    "
   ]
  },
  {
   "cell_type": "code",
   "execution_count": 25,
   "metadata": {},
   "outputs": [
    {
     "name": "stdout",
     "output_type": "stream",
     "text": [
      "5.68\n",
      "5.68\n"
     ]
    }
   ],
   "source": [
    "# lets see some numeric formatting \n",
    "x = 5.67565989\n",
    "\n",
    "print(f\"{x:.2f}\")\n",
    "print(\"{:.2f}\".format(x))\n"
   ]
  },
  {
   "cell_type": "markdown",
   "metadata": {},
   "source": [
    "## 3.07 Python Lists\n",
    "\n",
    "A list is just a collection of objects types. Objects can be of the same type of different types. The caveat being that it's easier to work with the same types if you're intending to iterate over them .\n"
   ]
  },
  {
   "cell_type": "code",
   "execution_count": 57,
   "metadata": {},
   "outputs": [],
   "source": [
    "# a list of 10 integers\n",
    "my_list = [1,2,3,4,5,6,7,8,9,10]\n",
    "\n",
    "# A list of 7 strings \n",
    "my_list = [\"once\", \"upon\", \"a\", \"time\", \"in\", \"python\", \"land\"]\n",
    "\n",
    "# a list of floats as racetrack times\n",
    "my_list = [112.56, 116.21, 111.94, 112.52, 113.11, 112.08]"
   ]
  },
  {
   "cell_type": "markdown",
   "metadata": {},
   "source": [
    "#### 3.07.01 Adding lists together\n",
    "\n",
    "Lists can be concatenated. This uses an overloaded `+` operator. Where we would normally assume that the `+` operator had two numbers opposite of it to be a numeric addition, we can use it within python with two lists to add the two lists together."
   ]
  },
  {
   "cell_type": "code",
   "execution_count": 58,
   "metadata": {},
   "outputs": [
    {
     "data": {
      "text/plain": [
       "[1, 2, 3, 4, 5, 6, 7, 8, 9, 10]"
      ]
     },
     "execution_count": 58,
     "metadata": {},
     "output_type": "execute_result"
    }
   ],
   "source": [
    "my_nums = [1,2,3,4,5]\n",
    "more_nums = [6,7,8,9,10]\n",
    "\n",
    "# Note we use a shortened operator here `+=` this is just to shorten the \n",
    "# line of code and it's exactly the same as my_nums = my_nums + more_nums\n",
    "my_nums += more_nums\n",
    "\n",
    "my_nums"
   ]
  },
  {
   "cell_type": "markdown",
   "metadata": {},
   "source": [
    "#### 3.07.02 Mutating Values in Python lists\n",
    "\n",
    "Lists are a mutable structure, this means the objects within a list can be reassigned to new values. Taking our list above, imagine we want to change a single value. Let's say we want the first value in our list to be a zero because we want it to reflect python indexing (which starts at zero)"
   ]
  },
  {
   "cell_type": "code",
   "execution_count": 59,
   "metadata": {},
   "outputs": [
    {
     "data": {
      "text/plain": [
       "[0, 2, 3, 4, 5, 6, 7, 8, 9, 10]"
      ]
     },
     "execution_count": 59,
     "metadata": {},
     "output_type": "execute_result"
    }
   ],
   "source": [
    "# change loist elemengt zero to be a zero\n",
    "my_nums[0] = 0\n",
    "\n",
    "# show the updated list\n",
    "my_nums"
   ]
  },
  {
   "cell_type": "markdown",
   "metadata": {},
   "source": [
    "Now let's say that because we have updated that first element at position zero we now want to update all to reflect their index (equivalent to minus 1 of the value for each value between position 1 and the end of the list). We can do that with a series of statements, or we can have a loop run across it. As a sneak peak into loops which are coming later I'll use a loop just now to complete this operation."
   ]
  },
  {
   "cell_type": "code",
   "execution_count": 60,
   "metadata": {},
   "outputs": [
    {
     "data": {
      "text/plain": [
       "[0, 1, 2, 3, 4, 5, 6, 7, 8, 9]"
      ]
     },
     "execution_count": 60,
     "metadata": {},
     "output_type": "execute_result"
    }
   ],
   "source": [
    "for i in range(1, len(my_nums)):\n",
    "    my_nums[i] = i\n",
    "    \n",
    "# show updated list\n",
    "my_nums"
   ]
  },
  {
   "cell_type": "markdown",
   "metadata": {},
   "source": [
    "If you're thinking: \n",
    "- What the hell is a range?\n",
    "- If index starts at zero and list is 10 elements long, the last index is 9, so why did we go to len(my_nums), which is ten?\n",
    "\n",
    "Good, great questions and they will be covered in the loops and iteration section. for now we had a sneak peak into using a loop to prevent a long series of repetitive operations."
   ]
  },
  {
   "cell_type": "markdown",
   "metadata": {},
   "source": [
    "#### 3.07.03 Extending or removing elements from lists\n",
    "\n",
    "The list, as said before, is a mutable structure. Therefore, it is possible for us to add new elements to an existing list. It is also possible to remove elements from a list."
   ]
  },
  {
   "cell_type": "code",
   "execution_count": 61,
   "metadata": {},
   "outputs": [
    {
     "data": {
      "text/plain": [
       "[0, 1, 2, 3, 4, 5, 6, 7, 8, 9, 11]"
      ]
     },
     "execution_count": 61,
     "metadata": {},
     "output_type": "execute_result"
    }
   ],
   "source": [
    "my_nums.append(11)\n",
    "my_nums"
   ]
  },
  {
   "cell_type": "code",
   "execution_count": 62,
   "metadata": {},
   "outputs": [
    {
     "data": {
      "text/plain": [
       "[0, 1, 2, 3, 5, 6, 7, 8, 9, 11]"
      ]
     },
     "execution_count": 62,
     "metadata": {},
     "output_type": "execute_result"
    }
   ],
   "source": [
    "# lets remove the element with the value of 4. Note we have\n",
    "# not specified an index, we have specified the value to be\n",
    "# removed from our list. \n",
    "my_nums.remove(4)\n",
    "my_nums"
   ]
  },
  {
   "cell_type": "code",
   "execution_count": 63,
   "metadata": {},
   "outputs": [
    {
     "data": {
      "text/plain": [
       "[1, 2, 3, 5, 6, 7, 8, 9, 11]"
      ]
     },
     "execution_count": 63,
     "metadata": {},
     "output_type": "execute_result"
    }
   ],
   "source": [
    "# note that in this example we have passed an index in to the remove function\n",
    "my_nums.remove(my_nums[0])\n",
    "my_nums"
   ]
  },
  {
   "cell_type": "markdown",
   "metadata": {},
   "source": [
    "#### 3.07.04 Popping a list\n",
    "\n",
    "Popping is terminology used in stacks, the typical example is plates in a restaurant, you'll notice a stack of plates and the first one off the top of the stack is actually the last one that was placed on the stack. This is known as a LIFO structure. (Last In First Out)"
   ]
  },
  {
   "cell_type": "code",
   "execution_count": 64,
   "metadata": {},
   "outputs": [
    {
     "data": {
      "text/plain": [
       "11"
      ]
     },
     "execution_count": 64,
     "metadata": {},
     "output_type": "execute_result"
    }
   ],
   "source": [
    "# lets grab and see the result of a call to pop()\n",
    "popped = my_nums.pop()\n",
    "popped"
   ]
  },
  {
   "cell_type": "code",
   "execution_count": 65,
   "metadata": {},
   "outputs": [
    {
     "data": {
      "text/plain": [
       "[1, 2, 3, 5, 6, 7, 8, 9]"
      ]
     },
     "execution_count": 65,
     "metadata": {},
     "output_type": "execute_result"
    }
   ],
   "source": [
    "# note our structure has changed too, therefor the call to pop()\n",
    "# caused a change that is persisted. \n",
    "my_nums"
   ]
  },
  {
   "cell_type": "markdown",
   "metadata": {},
   "source": [
    "#### 3.07.05 Sorting a list\n",
    "\n",
    "The .sort() is what's called an inplace method, this means it has an active operation upon our list but it has no return, it makes its changes in place and returns nothing. You can check this by trying to assign the list to another variable `sorted_list = source_list.sort()` if you attempt something like this you will see upon inspection of what went wrong that the type of `sorted_list` is `NoneType` so we should remember that application of a sort is not an assignment operation but an inplace operation.  "
   ]
  },
  {
   "cell_type": "code",
   "execution_count": 71,
   "metadata": {},
   "outputs": [
    {
     "data": {
      "text/plain": [
       "['b', 'f', 'h', 'c', 'a', 'e', 'd', 'g']"
      ]
     },
     "execution_count": 71,
     "metadata": {},
     "output_type": "execute_result"
    }
   ],
   "source": [
    "# create a list of letters that are not in a 'correct' ordered sequence\n",
    "letters = ['b', 'f', 'h', 'c', 'a', 'e', 'd', 'g']\n",
    "\n",
    "# let's see the list for berevity. \n",
    "letters"
   ]
  },
  {
   "cell_type": "code",
   "execution_count": 72,
   "metadata": {},
   "outputs": [
    {
     "data": {
      "text/plain": [
       "['a', 'b', 'c', 'd', 'e', 'f', 'g', 'h']"
      ]
     },
     "execution_count": 72,
     "metadata": {},
     "output_type": "execute_result"
    }
   ],
   "source": [
    "# apply the sort and checkout the list\n",
    "letters.sort()\n",
    "letters"
   ]
  },
  {
   "cell_type": "code",
   "execution_count": 75,
   "metadata": {},
   "outputs": [
    {
     "data": {
      "text/plain": [
       "[1, 5, 6, 2, 8, 3, 7, 4, 10, 9]"
      ]
     },
     "execution_count": 75,
     "metadata": {},
     "output_type": "execute_result"
    }
   ],
   "source": [
    "# create a list of incorrectly sequenced numbers \n",
    "numbers = [1,5,6,2,8,3,7,4,10,9]\n",
    "numbers"
   ]
  },
  {
   "cell_type": "code",
   "execution_count": 76,
   "metadata": {},
   "outputs": [
    {
     "data": {
      "text/plain": [
       "[1, 2, 3, 4, 5, 6, 7, 8, 9, 10]"
      ]
     },
     "execution_count": 76,
     "metadata": {},
     "output_type": "execute_result"
    }
   ],
   "source": [
    "# Apply the sort and check the output\n",
    "numbers.sort()\n",
    "numbers"
   ]
  },
  {
   "cell_type": "code",
   "execution_count": 77,
   "metadata": {},
   "outputs": [
    {
     "data": {
      "text/plain": [
       "[10, 9, 8, 7, 6, 5, 4, 3, 2, 1]"
      ]
     },
     "execution_count": 77,
     "metadata": {},
     "output_type": "execute_result"
    }
   ],
   "source": [
    "# reverse the order. \n",
    "numbers.reverse()\n",
    "numbers"
   ]
  },
  {
   "cell_type": "code",
   "execution_count": null,
   "metadata": {},
   "outputs": [],
   "source": []
  },
  {
   "cell_type": "markdown",
   "metadata": {},
   "source": [
    "## 3.08 Python Dictionaries\n",
    "\n",
    "Dictionaries in Python store unordered key:value pairs. In lists we saw how they were ordered and indexed, dictionaries are different in that it is the key that acts as an identifier and window to the value. Key value pairs allow us to grab an object without knowing, or caring, about an index value. A user of a dictionary calls the key and it returns the value. \n",
    "\n",
    "#### Dictionary syntax \n",
    "A dictionary in python uses curly braces and colon separated values. \n",
    "\n",
    "eg.  x = { \"name\" : \"Ed\", \"age\" : 24 }\n",
    "\n",
    "#### 3.08.01 Dictionary Vs a List - what to choose and when.\n",
    "So, why would you choose a dictionary over a list? In what condition is one `better` than the other? Dictionaries are objects retrieved by key-name, they are unordered and cannot be sorted, whereas lists are indexed and can be sorted or sliced. So, if you need to lookup a value without needing to know its precise location a dictionary would be a good choice. \n",
    "\n",
    "The _downside_ to using a dictionary is that because it cannot be sorted, the location of a dictionary is decided by python itself and inserting new key:value pairs is going to placed where python deems as most efficient, not at a given index as with lists. "
   ]
  },
  {
   "cell_type": "code",
   "execution_count": 80,
   "metadata": {},
   "outputs": [
    {
     "data": {
      "text/plain": [
       "{'name': 'Ed', 'age': 24}"
      ]
     },
     "execution_count": 80,
     "metadata": {},
     "output_type": "execute_result"
    }
   ],
   "source": [
    "# Example 1\n",
    "\n",
    "# create a dict of personal data \n",
    "my_dict = {'name':'Ed', 'age':24}\n",
    "\n",
    "# reclall the dictionary\n",
    "my_dict"
   ]
  },
  {
   "cell_type": "code",
   "execution_count": 81,
   "metadata": {},
   "outputs": [
    {
     "data": {
      "text/plain": [
       "'Ed'"
      ]
     },
     "execution_count": 81,
     "metadata": {},
     "output_type": "execute_result"
    }
   ],
   "source": [
    "# to lookup based on key\n",
    "my_dict['name']"
   ]
  },
  {
   "cell_type": "code",
   "execution_count": 106,
   "metadata": {},
   "outputs": [
    {
     "name": "stdout",
     "output_type": "stream",
     "text": [
      "60\n",
      "85\n",
      "59\n"
     ]
    }
   ],
   "source": [
    "# Example 2\n",
    "\n",
    "# create a dictionary to store prices of items, we use the item name\n",
    "# as the key and the price as the value in this dictionary. \n",
    "price_lookup = {'coke' : 60, 'cheese' : 90, 'salt': 59, 'pepper' : 73, 'toilet_tissue' : 85, }\n",
    "\n",
    "# lookup some items, using print function as we're looking up multiple \n",
    "# examples within a single juptyer cell.\n",
    "print(price_lookup['coke'])\n",
    "print(price_lookup['toilet_tissue'])\n",
    "print(price_lookup['salt'])"
   ]
  },
  {
   "cell_type": "markdown",
   "metadata": {},
   "source": [
    "#### 3.08.02 Nested structures in a dictionary\n",
    "\n",
    "It's also possible to nest structures within a dictionary. We could therefore next a list of indeed another dictionary within a dictionary. Let's see some examples of this nesting and how to access from nested structures. \n"
   ]
  },
  {
   "cell_type": "code",
   "execution_count": 98,
   "metadata": {},
   "outputs": [],
   "source": [
    "# create a dictionary of condiments\n",
    "# for each, the `value` will be a nested dictionary with \n",
    "# muktiple brand:price options\n",
    "my_dict = { \"salt\" : { \"saxa\" : 79, \"sarsons\" : 84, \"stoneywall\" : 65},\n",
    "            \"pepper\" : { \"pfizz\": 99, \"foremans\": 1.09, \"aldi\": 1.03, \"primo\": 1.24}} "
   ]
  },
  {
   "cell_type": "code",
   "execution_count": 95,
   "metadata": {},
   "outputs": [
    {
     "data": {
      "text/plain": [
       "{'salt': {'saxa': 79, 'sarsons': 84, 'stoneywall': 65},\n",
       " 'pepper': {'pfizz': 99, 'foremans': 1.09, 'aldi': 1.03, 'primo': 1.24}}"
      ]
     },
     "execution_count": 95,
     "metadata": {},
     "output_type": "execute_result"
    }
   ],
   "source": [
    "# view the whole dictionary structure \n",
    "my_dict"
   ]
  },
  {
   "cell_type": "code",
   "execution_count": 96,
   "metadata": {},
   "outputs": [
    {
     "data": {
      "text/plain": [
       "{'saxa': 79, 'sarsons': 84, 'stoneywall': 65}"
      ]
     },
     "execution_count": 96,
     "metadata": {},
     "output_type": "execute_result"
    }
   ],
   "source": [
    "# view for one of the condiment options \n",
    "my_dict['salt']"
   ]
  },
  {
   "cell_type": "code",
   "execution_count": 99,
   "metadata": {},
   "outputs": [
    {
     "data": {
      "text/plain": [
       "79"
      ]
     },
     "execution_count": 99,
     "metadata": {},
     "output_type": "execute_result"
    }
   ],
   "source": [
    "# peel out a specific value based on a two-tier key identification\n",
    "my_dict['salt']['saxa']"
   ]
  },
  {
   "cell_type": "code",
   "execution_count": 100,
   "metadata": {},
   "outputs": [
    {
     "data": {
      "text/plain": [
       "dict_keys(['salt', 'pepper'])"
      ]
     },
     "execution_count": 100,
     "metadata": {},
     "output_type": "execute_result"
    }
   ],
   "source": [
    "#### Dictionary methods\n",
    "\n",
    "# show the keys of a dictionary\n",
    "my_dict.keys()"
   ]
  },
  {
   "cell_type": "code",
   "execution_count": 102,
   "metadata": {},
   "outputs": [
    {
     "data": {
      "text/plain": [
       "dict_values([{'saxa': 79, 'sarsons': 84, 'stoneywall': 65}, {'pfizz': 99, 'foremans': 1.09, 'aldi': 1.03, 'primo': 1.24}])"
      ]
     },
     "execution_count": 102,
     "metadata": {},
     "output_type": "execute_result"
    }
   ],
   "source": [
    "# show the values of the items\n",
    "my_dict.values()"
   ]
  },
  {
   "cell_type": "code",
   "execution_count": 104,
   "metadata": {},
   "outputs": [
    {
     "data": {
      "text/plain": [
       "dict_items([('salt', {'saxa': 79, 'sarsons': 84, 'stoneywall': 65}), ('pepper', {'pfizz': 99, 'foremans': 1.09, 'aldi': 1.03, 'primo': 1.24})])"
      ]
     },
     "execution_count": 104,
     "metadata": {},
     "output_type": "execute_result"
    }
   ],
   "source": [
    "# show the dictionary items\n",
    "# this returns the contents of a dictionart as a list of tuples\n",
    "my_dict.items()"
   ]
  },
  {
   "cell_type": "markdown",
   "metadata": {},
   "source": [
    "## 3.09 Python Tuples\n",
    "\n",
    "Tuples are similar to lists in that they can hold one or more values with the bold exception that unlike lists a tuple is immutable. Once an element is assigned to an index position inside a tuple it cannot be changed.  Syntactically a tuple uses parentheses eg. `x = (10, 20)`.\n",
    "\n",
    "You can use standard methods similar to list for a tuple, eg `len` and `type`. It is also possible to mix types in the content of a tuple. A tuple can also be used with common slicing and indexing strategies as seen within the `list` section.   \n"
   ]
  },
  {
   "cell_type": "code",
   "execution_count": 108,
   "metadata": {},
   "outputs": [
    {
     "name": "stdout",
     "output_type": "stream",
     "text": [
      "checking type of: t ->  <class 'tuple'>\n",
      "checking type of: my_list ->  <class 'list'>\n"
     ]
    }
   ],
   "source": [
    "# create a tuple \n",
    "t = (1,2,3)\n",
    "\n",
    "# create a list (for comparison purposes)\n",
    "my_list = [1,2,3]\n",
    "\n",
    "# check the types \n",
    "print(\"checking type of: t -> \", type(t))\n",
    "print(\"checking type of: my_list -> \", type(my_list))"
   ]
  },
  {
   "cell_type": "markdown",
   "metadata": {},
   "source": [
    "#### 3.09.01 Tuple Slicing "
   ]
  },
  {
   "cell_type": "code",
   "execution_count": 111,
   "metadata": {},
   "outputs": [
    {
     "data": {
      "text/plain": [
       "(2, 3)"
      ]
     },
     "execution_count": 111,
     "metadata": {},
     "output_type": "execute_result"
    }
   ],
   "source": [
    "# take the tuple and return everything from index 1 (2nd position), onwards...\n",
    "x = t[1:]\n",
    "x"
   ]
  },
  {
   "cell_type": "code",
   "execution_count": 112,
   "metadata": {},
   "outputs": [
    {
     "data": {
      "text/plain": [
       "2"
      ]
     },
     "execution_count": 112,
     "metadata": {},
     "output_type": "execute_result"
    }
   ],
   "source": [
    "# get element at index one, or 2nd position in the tuple\n",
    "y = t[1]\n",
    "y"
   ]
  },
  {
   "cell_type": "markdown",
   "metadata": {},
   "source": [
    "#### 3.09.02 Other tuple methods\n",
    "\n",
    "Tuples have some structure specific methods in for the form of: \n",
    "- count\n",
    "- index\n",
    "\n",
    "count will count occurrences of the value under evaluation within a tuple, index will return the index of the value from within a tuple if found. If a value is not found for the count method it will return a zero, but, where a value is not found on the index method it will return a crashing `ValueError` such errors can be caught and handled in `try except` blocks which will be covered later in detail. At this stage we should just know that this test can cause a crashing error. "
   ]
  },
  {
   "cell_type": "code",
   "execution_count": 113,
   "metadata": {},
   "outputs": [
    {
     "data": {
      "text/plain": [
       "4"
      ]
     },
     "execution_count": 113,
     "metadata": {},
     "output_type": "execute_result"
    }
   ],
   "source": [
    "t = (5,2,5,6,8,5,4,5)\n",
    "\n",
    "# test the occurrence count of the value 5\n",
    "t.count(5)"
   ]
  },
  {
   "cell_type": "code",
   "execution_count": 117,
   "metadata": {},
   "outputs": [
    {
     "data": {
      "text/plain": [
       "0"
      ]
     },
     "execution_count": 117,
     "metadata": {},
     "output_type": "execute_result"
    }
   ],
   "source": [
    "t.count(11)"
   ]
  },
  {
   "cell_type": "code",
   "execution_count": 115,
   "metadata": {},
   "outputs": [
    {
     "data": {
      "text/plain": [
       "3"
      ]
     },
     "execution_count": 115,
     "metadata": {},
     "output_type": "execute_result"
    }
   ],
   "source": [
    "# show the index of the value 6\n",
    "t.index(6)"
   ]
  },
  {
   "cell_type": "code",
   "execution_count": 116,
   "metadata": {},
   "outputs": [
    {
     "ename": "ValueError",
     "evalue": "tuple.index(x): x not in tuple",
     "output_type": "error",
     "traceback": [
      "\u001b[0;31m---------------------------------------------------------------------------\u001b[0m",
      "\u001b[0;31mValueError\u001b[0m                                Traceback (most recent call last)",
      "\u001b[0;32m<ipython-input-116-8f57620e59f9>\u001b[0m in \u001b[0;36m<module>\u001b[0;34m\u001b[0m\n\u001b[1;32m      1\u001b[0m \u001b[0;31m# show index for an element no in the tuple\u001b[0m\u001b[0;34m\u001b[0m\u001b[0;34m\u001b[0m\u001b[0;34m\u001b[0m\u001b[0m\n\u001b[0;32m----> 2\u001b[0;31m \u001b[0mt\u001b[0m\u001b[0;34m.\u001b[0m\u001b[0mindex\u001b[0m\u001b[0;34m(\u001b[0m\u001b[0;34m-\u001b[0m\u001b[0;36m10\u001b[0m\u001b[0;34m)\u001b[0m\u001b[0;34m\u001b[0m\u001b[0;34m\u001b[0m\u001b[0m\n\u001b[0m",
      "\u001b[0;31mValueError\u001b[0m: tuple.index(x): x not in tuple"
     ]
    }
   ],
   "source": [
    "# show index for an element no in the tuple\n",
    "t.index(-10)"
   ]
  },
  {
   "cell_type": "markdown",
   "metadata": {},
   "source": [
    "A question at this stage from beginner programmers is if I cant change it and reassign it why would I use a tuple instead of a list? It's a fair question and early steps programming won't make too much use of tuples. As skills progress and you see the need to pass objects with a data integrity (insurance that it dies not or cannot change) then tuples can become a very welcome feature of the language. "
   ]
  },
  {
   "cell_type": "markdown",
   "metadata": {},
   "source": [
    "## 3.10 Sets (Unique Collections) in Python"
   ]
  },
  {
   "cell_type": "markdown",
   "metadata": {},
   "source": [
    "A set is an unordered collection of unique elements. Duplicates are therefore not allowed within a set and assigning a collection that contains duplicates to a set will automatically remove the duplicates of those values."
   ]
  },
  {
   "cell_type": "code",
   "execution_count": 119,
   "metadata": {},
   "outputs": [
    {
     "data": {
      "text/plain": [
       "{78, 79, 80, 81, 83, 85}"
      ]
     },
     "execution_count": 119,
     "metadata": {},
     "output_type": "execute_result"
    }
   ],
   "source": [
    "# create a list of a mix of grade values with some \n",
    "# examples of duplication.\n",
    "grades = [78,80, 81, 83, 81, 79, 79, 80, 85, 85, 85]\n",
    "\n",
    "unique_grades = set(grades)\n",
    "unique_grades"
   ]
  },
  {
   "cell_type": "markdown",
   "metadata": {},
   "source": [
    "#### 3.10.01 Set methods\n",
    "Firstly we can see that we can use the `set()` method to create a set from another object source, our list in this occasion. We see that a `set` uses the same bracket notation as a `dictionary` but is not in the form of key:value pairs. In the most brutally simplistic terms it could be described as _a list of objects inside dictionary brackets that forbids any duplicates_. \n",
    "\n",
    "We can use the `.add()` method on a set. "
   ]
  },
  {
   "cell_type": "code",
   "execution_count": 121,
   "metadata": {},
   "outputs": [
    {
     "data": {
      "text/plain": [
       "{1}"
      ]
     },
     "execution_count": 121,
     "metadata": {},
     "output_type": "execute_result"
    }
   ],
   "source": [
    "# create a new, empty set. \n",
    "my_set = set()\n",
    "\n",
    "# use the .add() method to an an element\n",
    "my_set.add(1)\n",
    "\n",
    "# view the set\n",
    "my_set"
   ]
  },
  {
   "cell_type": "code",
   "execution_count": 122,
   "metadata": {},
   "outputs": [
    {
     "data": {
      "text/plain": [
       "{1}"
      ]
     },
     "execution_count": 122,
     "metadata": {},
     "output_type": "execute_result"
    }
   ],
   "source": [
    "# lets add 1 again\n",
    "my_set.add(1)\n",
    "\n",
    "# and view... \n",
    "my_set"
   ]
  },
  {
   "cell_type": "code",
   "execution_count": null,
   "metadata": {},
   "outputs": [],
   "source": []
  },
  {
   "cell_type": "markdown",
   "metadata": {},
   "source": [
    "## 3.11 Booleans in Python"
   ]
  },
  {
   "cell_type": "markdown",
   "metadata": {},
   "source": [
    "Boolean values are `True/False` values in python. Primarily used in control flow and logic because we will test values for True/False and guide the resulting actions based on the outcome of thee evaluations.  "
   ]
  },
  {
   "cell_type": "code",
   "execution_count": 123,
   "metadata": {},
   "outputs": [
    {
     "name": "stdout",
     "output_type": "stream",
     "text": [
      "<class 'bool'>\n",
      "<class 'bool'>\n"
     ]
    }
   ],
   "source": [
    "print(type(True))\n",
    "print(type(False))"
   ]
  },
  {
   "cell_type": "code",
   "execution_count": 124,
   "metadata": {},
   "outputs": [
    {
     "data": {
      "text/plain": [
       "True"
      ]
     },
     "execution_count": 124,
     "metadata": {},
     "output_type": "execute_result"
    }
   ],
   "source": [
    "x = True\n",
    "x"
   ]
  },
  {
   "cell_type": "code",
   "execution_count": 125,
   "metadata": {},
   "outputs": [
    {
     "data": {
      "text/plain": [
       "False"
      ]
     },
     "execution_count": 125,
     "metadata": {},
     "output_type": "execute_result"
    }
   ],
   "source": [
    "x = not x\n",
    "x"
   ]
  },
  {
   "cell_type": "code",
   "execution_count": 127,
   "metadata": {},
   "outputs": [
    {
     "data": {
      "text/plain": [
       "False"
      ]
     },
     "execution_count": 127,
     "metadata": {},
     "output_type": "execute_result"
    }
   ],
   "source": [
    "# set a to the value of 30\n",
    "a = 30\n",
    "\n",
    "# an expression evaluating a as greater than 50 (False)\n",
    "a > 50"
   ]
  },
  {
   "cell_type": "code",
   "execution_count": 128,
   "metadata": {},
   "outputs": [
    {
     "data": {
      "text/plain": [
       "True"
      ]
     },
     "execution_count": 128,
     "metadata": {},
     "output_type": "execute_result"
    }
   ],
   "source": [
    "# a as less than 50 (we expect a True here)\n",
    "a < 50"
   ]
  },
  {
   "cell_type": "code",
   "execution_count": null,
   "metadata": {},
   "outputs": [],
   "source": []
  },
  {
   "cell_type": "code",
   "execution_count": null,
   "metadata": {},
   "outputs": [],
   "source": []
  },
  {
   "cell_type": "markdown",
   "metadata": {},
   "source": [
    "## 3.12 Basic file I/O in Python"
   ]
  },
  {
   "cell_type": "markdown",
   "metadata": {},
   "source": [
    "Covering simple input and output with basic text files. "
   ]
  },
  {
   "cell_type": "code",
   "execution_count": 129,
   "metadata": {},
   "outputs": [
    {
     "ename": "FileNotFoundError",
     "evalue": "[Errno 2] No such file or directory: '%PATH_TO_FILE_TO_BE_OPENED%'",
     "output_type": "error",
     "traceback": [
      "\u001b[0;31m---------------------------------------------------------------------------\u001b[0m",
      "\u001b[0;31mFileNotFoundError\u001b[0m                         Traceback (most recent call last)",
      "\u001b[0;32m<ipython-input-129-50bb5ef199ba>\u001b[0m in \u001b[0;36m<module>\u001b[0;34m\u001b[0m\n\u001b[1;32m      1\u001b[0m \u001b[0;31m# opening a file\u001b[0m\u001b[0;34m\u001b[0m\u001b[0;34m\u001b[0m\u001b[0;34m\u001b[0m\u001b[0m\n\u001b[0;32m----> 2\u001b[0;31m \u001b[0mfh\u001b[0m \u001b[0;34m=\u001b[0m \u001b[0mopen\u001b[0m\u001b[0;34m(\u001b[0m\u001b[0;34m'%PATH_TO_FILE_TO_BE_OPENED%'\u001b[0m\u001b[0;34m)\u001b[0m\u001b[0;34m\u001b[0m\u001b[0;34m\u001b[0m\u001b[0m\n\u001b[0m",
      "\u001b[0;31mFileNotFoundError\u001b[0m: [Errno 2] No such file or directory: '%PATH_TO_FILE_TO_BE_OPENED%'"
     ]
    }
   ],
   "source": [
    "# opening a file \n",
    "fh = open('%PATH_TO_FILE_TO_BE_OPENED%')\n"
   ]
  },
  {
   "cell_type": "markdown",
   "metadata": {},
   "source": [
    "See \"FileNotFoundError\" above, there are two ways to achieve this error, either the filname is wrong, or the path to the file is incomplete or incorrect.\n",
    "\n",
    "Assuming we do not receive the error and have successfully opened the file, we can now: \n",
    "- `.read()` read file \n",
    "- `.readlines()` read file by lines \n",
    "- `.seek(index)` move to a line position of the file \n",
    "\n",
    "We can also use file modes, `r`, `a`, & `w` for read, append, write. Note: opening for write will overwrite the file so the append mode means to append the content to the existing content. "
   ]
  },
  {
   "cell_type": "code",
   "execution_count": null,
   "metadata": {},
   "outputs": [],
   "source": []
  }
 ],
 "metadata": {
  "kernelspec": {
   "display_name": "pykit",
   "language": "python",
   "name": "pykit"
  },
  "language_info": {
   "codemirror_mode": {
    "name": "ipython",
    "version": 3
   },
   "file_extension": ".py",
   "mimetype": "text/x-python",
   "name": "python",
   "nbconvert_exporter": "python",
   "pygments_lexer": "ipython3",
   "version": "3.8.3"
  }
 },
 "nbformat": 4,
 "nbformat_minor": 4
}
