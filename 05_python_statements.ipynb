{
 "cells": [
  {
   "cell_type": "markdown",
   "metadata": {},
   "source": [
    "# Python Statements\n",
    "\n",
    "![python logo](https://www.python.org/static/community_logos/python-logo-inkscape.svg)\n",
    "\n",
    "\n",
    "## Section coverage\n",
    "- 5.01 `if, elif` & `else` statements in Python\n",
    "- 5.02 `for` loops in Python\n",
    "- 5.03 `while` loops in Python\n",
    "- 5.04 Useful operators in Python\n",
    "- 5.05 List comprehension"
   ]
  },
  {
   "cell_type": "markdown",
   "metadata": {},
   "source": [
    "## 5.01 If, Elif & Else statements in Python"
   ]
  },
  {
   "cell_type": "markdown",
   "metadata": {},
   "source": [
    "If, elif & else are the stalwarts of control flow. Control flow is how we evaluate forks and choices in our program. If a value is equal to a condition we want to meet then do the following operation... else do some other operation. To enrich that basic construct we can add the `elif` option and subsequently allow if condition is True do some operation, elif (else if) some other condition is true do that operation instead, else do a default operation. You can see in the last example descriptor else becomes a default option and that's the else case's typical usage in a if, elif, else block, the last catching statement to do some default option/operation. \n",
    "\n",
    "In python we use the whitespace and indentation (typically 4 spaces) to lay out these statements. \n",
    "\n",
    "#### 5.01.01 if, elif, else example\n",
    "```python\n",
    "if some_condition == True:  \n",
    "    do_this_operation  \n",
    "elif other_condition == True:  \n",
    "    do_this_one_instead  \n",
    "else:  \n",
    "    do_this_default_action  \n",
    "```\n",
    "\n",
    "\n",
    "#### 5.01.02 if, elif, else pythonic example\n",
    "However, we have some redundancy in this example, we don't need to add the `== True` checks to out conditional evaluations, the below example has exactly the same and is easier to read.\n",
    "\n",
    "```python\n",
    "if some_condition:\n",
    "    do_this_operation\n",
    "elif other_condition:\n",
    "    do_this_one_instead\n",
    "else:\n",
    "    do_this_default_Action\n",
    "```"
   ]
  },
  {
   "cell_type": "markdown",
   "metadata": {},
   "source": [
    "We should also point out here that the `do_operations` part of a conditional flow can be a single operation, many operations and can even be a further `if, elif, else` nested evaluation.  "
   ]
  },
  {
   "cell_type": "code",
   "execution_count": 1,
   "metadata": {},
   "outputs": [
    {
     "name": "stdout",
     "output_type": "stream",
     "text": [
      "You did excellent\n"
     ]
    }
   ],
   "source": [
    "x = 10\n",
    "\n",
    "if x > 10:\n",
    "    print(\"These are the highest achievers\")\n",
    "elif x > 5:\n",
    "    if x < 9:\n",
    "        print(\"well done, good score\")\n",
    "    else:\n",
    "        print(\"You did excellent\")\n",
    "else:\n",
    "    print(\"This is a low score\")\n",
    "    \n",
    "\n"
   ]
  },
  {
   "cell_type": "markdown",
   "metadata": {},
   "source": [
    "The code above works but it looks like early steps programming loops, this is where we can match conditionals and chained logic to be more concise."
   ]
  },
  {
   "cell_type": "code",
   "execution_count": 2,
   "metadata": {},
   "outputs": [
    {
     "name": "stdout",
     "output_type": "stream",
     "text": [
      "These are the highest achievers\n",
      "These are the highest achievers\n"
     ]
    }
   ],
   "source": [
    "# set some arbitrary score value \n",
    "x = 11\n",
    "\n",
    "if x < 5: print(\"This is a low score\")\n",
    "elif x < 10: print(\"well done, good score\")\n",
    "elif x == 10: print(\"You did excellent\")\n",
    "else: print(\"These are the highest achievers\")\n",
    "    \n",
    "# You might see the compact form above in some python code, you may also see the \n",
    "# line separated layout \n",
    "\n",
    "if x < 5: \n",
    "    print(\"This is a low score\")\n",
    "elif x < 10: \n",
    "    print(\"well done, good score\")\n",
    "elif x == 10: \n",
    "    print(\"You did excellent\")\n",
    "else: \n",
    "    print(\"These are the highest achievers\")"
   ]
  },
  {
   "cell_type": "markdown",
   "metadata": {},
   "source": [
    "## 5.02 For loops in Python"
   ]
  },
  {
   "cell_type": "markdown",
   "metadata": {},
   "source": [
    "#### Iterables\n",
    "Many objects in Python are iterable, this means we can iterate over every element in that object. An example of that would be iterating over every element in a list, or indeed iterating over every character in a string. We can use a for loop to perform an action or group of action for every iteration of an iterable. \n",
    "\n",
    "#### 5.02.01 Examples of iterables\n",
    "- Every item in a python list\n",
    "- Every character in a string \n",
    "- Every key in a dictionary\n",
    "- Every item in a set. \n",
    "\n",
    "#### 5.02.02 Syntax of a for loop \n",
    "```python\n",
    "for identifier in iterable_object:\n",
    "    do_operation\n",
    "```"
   ]
  },
  {
   "cell_type": "code",
   "execution_count": 3,
   "metadata": {},
   "outputs": [
    {
     "name": "stdout",
     "output_type": "stream",
     "text": [
      "running a for loop, num = 1\n",
      "running a for loop, num = 2\n",
      "running a for loop, num = 3\n",
      "running a for loop, num = 4\n",
      "running a for loop, num = 5\n"
     ]
    }
   ],
   "source": [
    "# lets do some python examples \n",
    "my_list = [1,2,3,4,5]\n",
    "\n",
    "for num in my_list:\n",
    "    print(f\"running a for loop, num = {num}\")"
   ]
  },
  {
   "cell_type": "code",
   "execution_count": 4,
   "metadata": {},
   "outputs": [
    {
     "name": "stdout",
     "output_type": "stream",
     "text": [
      "Number was 2. 2 squared is : 4\n",
      "3 is the magic number, yes it is, it's the magic number!\n",
      "Number was 4. 4 squared is : 16\n",
      "Number was 6. 6 squared is : 36\n",
      "Number was 8. 8 squared is : 64\n",
      "Number was 10. 10 squared is : 100\n",
      "Number was 12. 12 squared is : 144\n",
      "Number was 14. 14 squared is : 196\n"
     ]
    }
   ],
   "source": [
    "# We can add multiple operations \n",
    "my_list = [1,2,3,4,5,6,7,8,9,10,11,12,13,14,15]\n",
    "\n",
    "for x in my_list:\n",
    "    if x % 2 == 0:\n",
    "        print(f\"Number was {x}. {x} squared is : {x * x}\")\n",
    "    else:\n",
    "        if x == 3:\n",
    "            print(f\"{x} is the magic number, yes it is, it's the magic number!\")\n",
    "        else:\n",
    "            # do nothing\n",
    "            pass"
   ]
  },
  {
   "cell_type": "markdown",
   "metadata": {},
   "source": [
    "We seen that we can use an identifier for each element in an iterable. If you do not need to make reference or act upon that element you can avoid specifying a useless, or confusing name for something unused by simply using an uderscore. "
   ]
  },
  {
   "cell_type": "code",
   "execution_count": 5,
   "metadata": {},
   "outputs": [
    {
     "ename": "NameError",
     "evalue": "name 'team' is not defined",
     "output_type": "error",
     "traceback": [
      "\u001b[0;31m---------------------------------------------------------------------------\u001b[0m",
      "\u001b[0;31mNameError\u001b[0m                                 Traceback (most recent call last)",
      "\u001b[0;32m<ipython-input-5-2c948f0c71cd>\u001b[0m in \u001b[0;36m<module>\u001b[0;34m\u001b[0m\n\u001b[1;32m      1\u001b[0m \u001b[0mteam_numbers\u001b[0m \u001b[0;34m=\u001b[0m \u001b[0;34m[\u001b[0m\u001b[0;36m1\u001b[0m\u001b[0;34m,\u001b[0m\u001b[0;36m2\u001b[0m\u001b[0;34m,\u001b[0m\u001b[0;36m3\u001b[0m\u001b[0;34m,\u001b[0m\u001b[0;36m4\u001b[0m\u001b[0;34m,\u001b[0m\u001b[0;36m5\u001b[0m\u001b[0;34m,\u001b[0m\u001b[0;36m6\u001b[0m\u001b[0;34m,\u001b[0m\u001b[0;36m7\u001b[0m\u001b[0;34m,\u001b[0m\u001b[0;36m8\u001b[0m\u001b[0;34m,\u001b[0m\u001b[0;36m9\u001b[0m\u001b[0;34m,\u001b[0m\u001b[0;36m10\u001b[0m\u001b[0;34m,\u001b[0m\u001b[0;36m11\u001b[0m\u001b[0;34m]\u001b[0m\u001b[0;34m\u001b[0m\u001b[0;34m\u001b[0m\u001b[0m\n\u001b[1;32m      2\u001b[0m \u001b[0;34m\u001b[0m\u001b[0m\n\u001b[0;32m----> 3\u001b[0;31m \u001b[0;32mfor\u001b[0m \u001b[0m_\u001b[0m \u001b[0;32min\u001b[0m \u001b[0mteam\u001b[0m\u001b[0;34m:\u001b[0m\u001b[0;34m\u001b[0m\u001b[0;34m\u001b[0m\u001b[0m\n\u001b[0m\u001b[1;32m      4\u001b[0m     \u001b[0mprint\u001b[0m\u001b[0;34m(\u001b[0m\u001b[0;34m\"counted\"\u001b[0m\u001b[0;34m)\u001b[0m\u001b[0;34m\u001b[0m\u001b[0;34m\u001b[0m\u001b[0m\n",
      "\u001b[0;31mNameError\u001b[0m: name 'team' is not defined"
     ]
    }
   ],
   "source": [
    "team_numbers = [1,2,3,4,5,6,7,8,9,10,11]\n",
    "\n",
    "for _ in team:\n",
    "    print(\"counted\")"
   ]
  },
  {
   "cell_type": "markdown",
   "metadata": {},
   "source": [
    "We can do the same type of looping over other structures. See examples of tuples and dictionaries below.\n",
    "\n",
    "#### 5.02.03 Looping with a tuple"
   ]
  },
  {
   "cell_type": "code",
   "execution_count": 6,
   "metadata": {},
   "outputs": [
    {
     "name": "stdout",
     "output_type": "stream",
     "text": [
      "1\n",
      "3\n",
      "5\n",
      "7\n",
      "9\n"
     ]
    }
   ],
   "source": [
    "tup = (1,3,5,7,9)\n",
    "\n",
    "for i in tup:\n",
    "    print(i)"
   ]
  },
  {
   "cell_type": "markdown",
   "metadata": {},
   "source": [
    "#### 5.02.04 Looping with a dictionary"
   ]
  },
  {
   "cell_type": "code",
   "execution_count": 7,
   "metadata": {},
   "outputs": [
    {
     "name": "stdout",
     "output_type": "stream",
     "text": [
      "name\n",
      "last_name\n",
      "age\n",
      "rap_style\n",
      "Shuggy\n",
      "McShugface\n",
      "108\n",
      "Thug\n",
      "name\n",
      "last_name\n",
      "age\n",
      "rap_style\n"
     ]
    }
   ],
   "source": [
    "my_dict = {\"name\" : \"Shuggy\", \"last_name\" : \"McShugface\", \"age\" : 108, \"rap_style\" : \"Thug\"}\n",
    "\n",
    "# typical layout\n",
    "for key in my_dict.keys():\n",
    "    print(key)\n",
    "    \n",
    "# to get values\n",
    "for val in my_dict.values():\n",
    "    print(val)\n",
    "    \n",
    "# note the possibility to use a more lax syntax here\n",
    "# because keys are the default in dicts\n",
    "for i in my_dict:\n",
    "    print(i)"
   ]
  },
  {
   "cell_type": "code",
   "execution_count": 8,
   "metadata": {},
   "outputs": [
    {
     "name": "stdout",
     "output_type": "stream",
     "text": [
      "k is: name & v is: Shuggy\n",
      "k is: last_name & v is: McShugface\n",
      "k is: age & v is: 108\n",
      "k is: rap_style & v is: Thug\n"
     ]
    }
   ],
   "source": [
    "# we can aso use the .items()\n",
    "for k, v in my_dict.items():\n",
    "    print(f\"k is: {k} & v is: {v}\")"
   ]
  },
  {
   "cell_type": "markdown",
   "metadata": {},
   "source": [
    "#### 5.02.05  Loops with nested structures\n",
    "\n",
    "Let's have a look at a concept called unpacking. This is where we have nested structures"
   ]
  },
  {
   "cell_type": "code",
   "execution_count": 9,
   "metadata": {},
   "outputs": [
    {
     "name": "stdout",
     "output_type": "stream",
     "text": [
      "(1, 2)\n",
      "(3, 4)\n",
      "(5, 6)\n",
      "(7, 8)\n",
      "(9, 10)\n",
      "(11, 12)\n"
     ]
    }
   ],
   "source": [
    "tuplist = [(1,2), (3,4), (5,6), (7,8), (9,10), (11,12)]\n",
    "\n",
    "# loop of list\n",
    "for i in tuplist:\n",
    "    print(i)"
   ]
  },
  {
   "cell_type": "code",
   "execution_count": 10,
   "metadata": {},
   "outputs": [
    {
     "name": "stdout",
     "output_type": "stream",
     "text": [
      "a = 1\n",
      "b = 2\n",
      "-> a * b = 2\n",
      "a = 3\n",
      "b = 4\n",
      "-> a * b = 12\n",
      "a = 5\n",
      "b = 6\n",
      "-> a * b = 30\n",
      "a = 7\n",
      "b = 8\n",
      "-> a * b = 56\n",
      "a = 9\n",
      "b = 10\n",
      "-> a * b = 90\n",
      "a = 11\n",
      "b = 12\n",
      "-> a * b = 132\n"
     ]
    }
   ],
   "source": [
    "# using tuple unpacking, which is very common in python\n",
    "# essentially you're recreting the tuple structure within\n",
    "# the loop controller and therefore unpacking them. This \n",
    "# allows the programmer to use them as desired. \n",
    "for (a,b) in tuplist:\n",
    "    print(f\"a = {a}\")\n",
    "    print(f\"b = {b}\")\n",
    "    print(f\"-> a * b = {a*b}\")"
   ]
  },
  {
   "cell_type": "code",
   "execution_count": 11,
   "metadata": {},
   "outputs": [
    {
     "name": "stdout",
     "output_type": "stream",
     "text": [
      "2\n",
      "4\n",
      "6\n",
      "8\n",
      "10\n",
      "12\n"
     ]
    }
   ],
   "source": [
    "# use same structure to get only the b-values of\n",
    "# each (a,b) tuple structure within our list.\n",
    "for a,b in tuplist:\n",
    "    print(b)"
   ]
  },
  {
   "cell_type": "code",
   "execution_count": null,
   "metadata": {},
   "outputs": [],
   "source": []
  },
  {
   "cell_type": "markdown",
   "metadata": {},
   "source": [
    "## 5.03 While loops in Python"
   ]
  },
  {
   "cell_type": "markdown",
   "metadata": {},
   "source": [
    "While loops are used to keep iterating while a controlling condition is met. This can be a case of `while condition = True` do something.. or `while condition = False` do something else, underneath you can see it's while a specific condition remain the case (true or false) keep repeating the set of actions. "
   ]
  },
  {
   "cell_type": "markdown",
   "metadata": {},
   "source": [
    "#### 5.03.01 while loop syntax and remembering iteration controller\n",
    "\n",
    "poor implementation of a while loop can easily lead to infinite loops. If the loop controller is not updated it means the original condition is never changed and the loop will run until the machine crashes from running out of memory, or another system error is triggered causing a crash. The sheer uncontrollable nature of infinite loops means they are truly undesirable in computer science. "
   ]
  },
  {
   "cell_type": "code",
   "execution_count": 12,
   "metadata": {},
   "outputs": [
    {
     "name": "stdout",
     "output_type": "stream",
     "text": [
      " x = 0\n",
      " x = 1\n",
      " x = 2\n",
      " x = 3\n",
      " x = 4\n",
      " x = 5\n",
      " x = 6\n",
      " x = 7\n"
     ]
    }
   ],
   "source": [
    "x = 0\n",
    "\n",
    "while x < 8:\n",
    "    print(f\" x = {x}\")\n",
    "    x += 1"
   ]
  },
  {
   "cell_type": "code",
   "execution_count": null,
   "metadata": {},
   "outputs": [],
   "source": []
  },
  {
   "cell_type": "markdown",
   "metadata": {},
   "source": [
    "## 5.04 Useful operators in Python "
   ]
  },
  {
   "cell_type": "code",
   "execution_count": null,
   "metadata": {},
   "outputs": [],
   "source": []
  },
  {
   "cell_type": "markdown",
   "metadata": {},
   "source": [
    "## 5.05 List comprehension"
   ]
  },
  {
   "cell_type": "code",
   "execution_count": null,
   "metadata": {},
   "outputs": [],
   "source": []
  }
 ],
 "metadata": {
  "kernelspec": {
   "display_name": "pykit",
   "language": "python",
   "name": "pykit"
  },
  "language_info": {
   "codemirror_mode": {
    "name": "ipython",
    "version": 3
   },
   "file_extension": ".py",
   "mimetype": "text/x-python",
   "name": "python",
   "nbconvert_exporter": "python",
   "pygments_lexer": "ipython3",
   "version": "3.8.3"
  }
 },
 "nbformat": 4,
 "nbformat_minor": 4
}
