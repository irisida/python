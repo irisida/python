{
 "cells": [
  {
   "cell_type": "markdown",
   "metadata": {},
   "source": [
    "# Python Methods & Functions\n",
    "\n",
    "![python logo](https://www.python.org/static/community_logos/python-logo-inkscape.svg)\n",
    "\n",
    "- 8.1.0 - OOP Introduction\n",
    "- 8.2.0 - OOP Attributes\n",
    "- 8.3.0 - OOP Class Objects\n",
    "- 8.4.0 - Inheritance\n",
    "- 8.5.0 - Special methods, dunders and Python idioms in OOP\n"
   ]
  },
  {
   "cell_type": "markdown",
   "metadata": {},
   "source": [
    "# 8.1.0 - OOP Introduction\n"
   ]
  },
  {
   "cell_type": "markdown",
   "metadata": {},
   "source": [
    "#### What is OOP?\n",
    "A: OOP allows programmers to create their own objects that have methods and attributes, or data and behaviours. Methods act as functions that use information about the object as well as the object itself to return results, or to even change the current object's data. While the initial concept might be confusing at first the use becomes clear when you think about it in terms of reusable code. \n",
    "\n",
    "#### OK, so what is an Object?\n",
    "a: Well, an object is a type, it has methods and data related to it. But, you're probably still confused so, imagine an Object is like a recipe, a dish (or what we call an instance) is the result of a chef having cooked that recipe. This means we have an example of that object definition that is actually holding data and and actually operating as per the behaviour methods defined.\n",
    "\n",
    "#### Where are they used?\n",
    "A: A lot of code strategy in larger projects is based around OOP languages and an OOP approach. Python is one of those languages. OOP is popular because it allows programmers to define reusable objects and control how they are implemented and used meaning controllable code, controllable object states being defined or encountered. Strict OOP is typically found in larger programs and projects.\n",
    "\n",
    "### What does an object look like? \n",
    "A: Typically an object will follow a syntax pattern approaching this:\n",
    "```python\n",
    "class nameOfCalss():\n",
    "    def __init__(self, param1, param2):\n",
    "        self.param1 = param1\n",
    "        self.param2 = param2\n",
    "    \n",
    "    def some_bahaviour_method(self):\n",
    "        # performs actions\n",
    "```\n",
    "Naturally larger and more complex objects will have larger and more complex implementations, however we will cover how to break down a large and complex object into smaller pieces to increase maintainability and further code reuse. \n",
    "\n"
   ]
  },
  {
   "cell_type": "code",
   "execution_count": null,
   "metadata": {},
   "outputs": [],
   "source": []
  },
  {
   "cell_type": "markdown",
   "metadata": {},
   "source": [
    "# 8.2.0 - OOP Attributes"
   ]
  },
  {
   "cell_type": "code",
   "execution_count": 5,
   "metadata": {},
   "outputs": [
    {
     "data": {
      "text/plain": [
       "(list, set)"
      ]
     },
     "execution_count": 5,
     "metadata": {},
     "output_type": "execute_result"
    }
   ],
   "source": [
    "# we can see some built-in object types here with examples \n",
    "# for list and set. \n",
    "mylist = [1,2,3,4,5]\n",
    "myset = {1,2,3,4,5}\n",
    "\n",
    "type(mylist), type(myset)"
   ]
  },
  {
   "cell_type": "code",
   "execution_count": 9,
   "metadata": {},
   "outputs": [],
   "source": [
    "# trivial class declaration\n",
    "# not useful because it holds no data and\n",
    "# has no bahaviours.\n",
    "class Sample():\n",
    "    pass"
   ]
  },
  {
   "cell_type": "code",
   "execution_count": 10,
   "metadata": {},
   "outputs": [],
   "source": [
    "# to create an instance we declare a variable to \n",
    "# equal a call to our created class type. \n",
    "sample = Sample()"
   ]
  },
  {
   "cell_type": "code",
   "execution_count": 11,
   "metadata": {},
   "outputs": [
    {
     "data": {
      "text/plain": [
       "__main__.Sample"
      ]
     },
     "execution_count": 11,
     "metadata": {},
     "output_type": "execute_result"
    }
   ],
   "source": [
    "# check with call to type()\n",
    "type(sample)"
   ]
  },
  {
   "cell_type": "code",
   "execution_count": 12,
   "metadata": {},
   "outputs": [],
   "source": [
    "class MusicalInstrument():\n",
    "    def __init__(self, sound):\n",
    "        self.sound = sound\n",
    "        \n",
    "    def play(self):\n",
    "        print(f\"Plays: {self.sound}\")"
   ]
  },
  {
   "cell_type": "code",
   "execution_count": 14,
   "metadata": {},
   "outputs": [
    {
     "name": "stdout",
     "output_type": "stream",
     "text": [
      "Plays: Twang\n",
      "Plays: Thump\n",
      "Plays: Howl\n",
      "Plays: Rat a tat-tat\n"
     ]
    }
   ],
   "source": [
    "guitar = MusicalInstrument(\"Twang\")\n",
    "bass = MusicalInstrument(\"Thump\")\n",
    "voice = MusicalInstrument(\"Howl\")\n",
    "drum = MusicalInstrument(\"Rat a tat-tat\")\n",
    "\n",
    "band = [guitar, bass, voice, drum]\n",
    "\n",
    "for instrument in band:\n",
    "    instrument.play()"
   ]
  },
  {
   "cell_type": "code",
   "execution_count": null,
   "metadata": {},
   "outputs": [],
   "source": []
  },
  {
   "cell_type": "code",
   "execution_count": null,
   "metadata": {},
   "outputs": [],
   "source": []
  },
  {
   "cell_type": "code",
   "execution_count": null,
   "metadata": {},
   "outputs": [],
   "source": []
  },
  {
   "cell_type": "markdown",
   "metadata": {},
   "source": [
    "# 8.3.0 - OOP Class Objects"
   ]
  },
  {
   "cell_type": "code",
   "execution_count": null,
   "metadata": {},
   "outputs": [],
   "source": []
  },
  {
   "cell_type": "code",
   "execution_count": null,
   "metadata": {},
   "outputs": [],
   "source": []
  },
  {
   "cell_type": "markdown",
   "metadata": {},
   "source": [
    "# 8.4.0 - Inheritance"
   ]
  },
  {
   "cell_type": "code",
   "execution_count": null,
   "metadata": {},
   "outputs": [],
   "source": []
  },
  {
   "cell_type": "code",
   "execution_count": null,
   "metadata": {},
   "outputs": [],
   "source": []
  },
  {
   "cell_type": "markdown",
   "metadata": {},
   "source": [
    "# 8.5.0 - Special methods, dunders and Python idioms in OOP"
   ]
  },
  {
   "cell_type": "code",
   "execution_count": null,
   "metadata": {},
   "outputs": [],
   "source": []
  },
  {
   "cell_type": "code",
   "execution_count": null,
   "metadata": {},
   "outputs": [],
   "source": []
  },
  {
   "cell_type": "code",
   "execution_count": null,
   "metadata": {},
   "outputs": [],
   "source": []
  }
 ],
 "metadata": {
  "kernelspec": {
   "display_name": "pykit",
   "language": "python",
   "name": "pykit"
  },
  "language_info": {
   "codemirror_mode": {
    "name": "ipython",
    "version": 3
   },
   "file_extension": ".py",
   "mimetype": "text/x-python",
   "name": "python",
   "nbconvert_exporter": "python",
   "pygments_lexer": "ipython3",
   "version": "3.8.3"
  }
 },
 "nbformat": 4,
 "nbformat_minor": 4
}
