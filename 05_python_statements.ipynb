{
 "cells": [
  {
   "cell_type": "markdown",
   "metadata": {},
   "source": [
    "# Python Statements\n",
    "\n",
    "![python logo](https://www.python.org/static/community_logos/python-logo-inkscape.svg)\n",
    "\n",
    "\n",
    "## Section coverage\n",
    "- 5.01 `if, elif` & `else` statements in Python\n",
    "- 5.02 `for` loops in Python\n",
    "- 5.03 `while` loops in Python\n",
    "- 5.04 break, continue & pass\n",
    "- 5.05 Useful operators in Python\n",
    "- 5.06 List comprehension"
   ]
  },
  {
   "cell_type": "markdown",
   "metadata": {},
   "source": [
    "## 5.01 If, Elif & Else statements in Python"
   ]
  },
  {
   "cell_type": "markdown",
   "metadata": {},
   "source": [
    "If, elif & else are the stalwarts of control flow. Control flow is how we evaluate forks and choices in our program. If a value is equal to a condition we want to meet then do the following operation... else do some other operation. To enrich that basic construct we can add the `elif` option and subsequently allow if condition is True do some operation, elif (else if) some other condition is true do that operation instead, else do a default operation. You can see in the last example descriptor else becomes a default option and that's the else case's typical usage in a if, elif, else block, the last catching statement to do some default option/operation. \n",
    "\n",
    "In python we use the whitespace and indentation (typically 4 spaces) to lay out these statements. \n",
    "\n",
    "#### 5.01.01 if, elif, else example\n",
    "```python\n",
    "if some_condition == True:  \n",
    "    do_this_operation  \n",
    "elif other_condition == True:  \n",
    "    do_this_one_instead  \n",
    "else:  \n",
    "    do_this_default_action  \n",
    "```\n",
    "\n",
    "\n",
    "#### 5.01.02 if, elif, else pythonic example\n",
    "However, we have some redundancy in this example, we don't need to add the `== True` checks to out conditional evaluations, the below example has exactly the same and is easier to read.\n",
    "\n",
    "```python\n",
    "if some_condition:\n",
    "    do_this_operation\n",
    "elif other_condition:\n",
    "    do_this_one_instead\n",
    "else:\n",
    "    do_this_default_Action\n",
    "```"
   ]
  },
  {
   "cell_type": "markdown",
   "metadata": {},
   "source": [
    "We should also point out here that the `do_operations` part of a conditional flow can be a single operation, many operations and can even be a further `if, elif, else` nested evaluation.  "
   ]
  },
  {
   "cell_type": "code",
   "execution_count": 1,
   "metadata": {},
   "outputs": [
    {
     "name": "stdout",
     "output_type": "stream",
     "text": [
      "You did excellent\n"
     ]
    }
   ],
   "source": [
    "x = 10\n",
    "\n",
    "if x > 10:\n",
    "    print(\"These are the highest achievers\")\n",
    "elif x > 5:\n",
    "    if x < 9:\n",
    "        print(\"well done, good score\")\n",
    "    else:\n",
    "        print(\"You did excellent\")\n",
    "else:\n",
    "    print(\"This is a low score\")\n",
    "    \n",
    "\n"
   ]
  },
  {
   "cell_type": "markdown",
   "metadata": {},
   "source": [
    "The code above works but it looks like early steps programming loops, this is where we can match conditionals and chained logic to be more concise."
   ]
  },
  {
   "cell_type": "code",
   "execution_count": 2,
   "metadata": {},
   "outputs": [
    {
     "name": "stdout",
     "output_type": "stream",
     "text": [
      "These are the highest achievers\n",
      "These are the highest achievers\n"
     ]
    }
   ],
   "source": [
    "# set some arbitrary score value \n",
    "x = 11\n",
    "\n",
    "if x < 5: print(\"This is a low score\")\n",
    "elif x < 10: print(\"well done, good score\")\n",
    "elif x == 10: print(\"You did excellent\")\n",
    "else: print(\"These are the highest achievers\")\n",
    "    \n",
    "# You might see the compact form above in some python code, you may also see the \n",
    "# line separated layout \n",
    "\n",
    "if x < 5: \n",
    "    print(\"This is a low score\")\n",
    "elif x < 10: \n",
    "    print(\"well done, good score\")\n",
    "elif x == 10: \n",
    "    print(\"You did excellent\")\n",
    "else: \n",
    "    print(\"These are the highest achievers\")"
   ]
  },
  {
   "cell_type": "markdown",
   "metadata": {},
   "source": [
    "## 5.02 For loops in Python"
   ]
  },
  {
   "cell_type": "markdown",
   "metadata": {},
   "source": [
    "#### Iterables\n",
    "Many objects in Python are iterable, this means we can iterate over every element in that object. An example of that would be iterating over every element in a list, or indeed iterating over every character in a string. We can use a for loop to perform an action or group of action for every iteration of an iterable. \n",
    "\n",
    "#### 5.02.01 Examples of iterables\n",
    "- Every item in a python list\n",
    "- Every character in a string \n",
    "- Every key in a dictionary\n",
    "- Every item in a set. \n",
    "\n",
    "#### 5.02.02 Syntax of a for loop \n",
    "```python\n",
    "for identifier in iterable_object:\n",
    "    do_operation\n",
    "```"
   ]
  },
  {
   "cell_type": "code",
   "execution_count": 3,
   "metadata": {},
   "outputs": [
    {
     "name": "stdout",
     "output_type": "stream",
     "text": [
      "running a for loop, num = 1\n",
      "running a for loop, num = 2\n",
      "running a for loop, num = 3\n",
      "running a for loop, num = 4\n",
      "running a for loop, num = 5\n"
     ]
    }
   ],
   "source": [
    "# lets do some python examples \n",
    "my_list = [1,2,3,4,5]\n",
    "\n",
    "for num in my_list:\n",
    "    print(f\"running a for loop, num = {num}\")"
   ]
  },
  {
   "cell_type": "code",
   "execution_count": 4,
   "metadata": {},
   "outputs": [
    {
     "name": "stdout",
     "output_type": "stream",
     "text": [
      "Number was 2. 2 squared is : 4\n",
      "3 is the magic number, yes it is, it's the magic number!\n",
      "Number was 4. 4 squared is : 16\n",
      "Number was 6. 6 squared is : 36\n",
      "Number was 8. 8 squared is : 64\n",
      "Number was 10. 10 squared is : 100\n",
      "Number was 12. 12 squared is : 144\n",
      "Number was 14. 14 squared is : 196\n"
     ]
    }
   ],
   "source": [
    "# We can add multiple operations \n",
    "my_list = [1,2,3,4,5,6,7,8,9,10,11,12,13,14,15]\n",
    "\n",
    "for x in my_list:\n",
    "    if x % 2 == 0:\n",
    "        print(f\"Number was {x}. {x} squared is : {x * x}\")\n",
    "    else:\n",
    "        if x == 3:\n",
    "            print(f\"{x} is the magic number, yes it is, it's the magic number!\")\n",
    "        else:\n",
    "            # do nothing\n",
    "            pass"
   ]
  },
  {
   "cell_type": "markdown",
   "metadata": {},
   "source": [
    "We seen that we can use an identifier for each element in an iterable. If you do not need to make reference or act upon that element you can avoid specifying a useless, or confusing name for something unused by simply using an uderscore. "
   ]
  },
  {
   "cell_type": "code",
   "execution_count": 5,
   "metadata": {},
   "outputs": [
    {
     "ename": "NameError",
     "evalue": "name 'team' is not defined",
     "output_type": "error",
     "traceback": [
      "\u001b[0;31m---------------------------------------------------------------------------\u001b[0m",
      "\u001b[0;31mNameError\u001b[0m                                 Traceback (most recent call last)",
      "\u001b[0;32m<ipython-input-5-2c948f0c71cd>\u001b[0m in \u001b[0;36m<module>\u001b[0;34m\u001b[0m\n\u001b[1;32m      1\u001b[0m \u001b[0mteam_numbers\u001b[0m \u001b[0;34m=\u001b[0m \u001b[0;34m[\u001b[0m\u001b[0;36m1\u001b[0m\u001b[0;34m,\u001b[0m\u001b[0;36m2\u001b[0m\u001b[0;34m,\u001b[0m\u001b[0;36m3\u001b[0m\u001b[0;34m,\u001b[0m\u001b[0;36m4\u001b[0m\u001b[0;34m,\u001b[0m\u001b[0;36m5\u001b[0m\u001b[0;34m,\u001b[0m\u001b[0;36m6\u001b[0m\u001b[0;34m,\u001b[0m\u001b[0;36m7\u001b[0m\u001b[0;34m,\u001b[0m\u001b[0;36m8\u001b[0m\u001b[0;34m,\u001b[0m\u001b[0;36m9\u001b[0m\u001b[0;34m,\u001b[0m\u001b[0;36m10\u001b[0m\u001b[0;34m,\u001b[0m\u001b[0;36m11\u001b[0m\u001b[0;34m]\u001b[0m\u001b[0;34m\u001b[0m\u001b[0;34m\u001b[0m\u001b[0m\n\u001b[1;32m      2\u001b[0m \u001b[0;34m\u001b[0m\u001b[0m\n\u001b[0;32m----> 3\u001b[0;31m \u001b[0;32mfor\u001b[0m \u001b[0m_\u001b[0m \u001b[0;32min\u001b[0m \u001b[0mteam\u001b[0m\u001b[0;34m:\u001b[0m\u001b[0;34m\u001b[0m\u001b[0;34m\u001b[0m\u001b[0m\n\u001b[0m\u001b[1;32m      4\u001b[0m     \u001b[0mprint\u001b[0m\u001b[0;34m(\u001b[0m\u001b[0;34m\"counted\"\u001b[0m\u001b[0;34m)\u001b[0m\u001b[0;34m\u001b[0m\u001b[0;34m\u001b[0m\u001b[0m\n",
      "\u001b[0;31mNameError\u001b[0m: name 'team' is not defined"
     ]
    }
   ],
   "source": [
    "team_numbers = [1,2,3,4,5,6,7,8,9,10,11]\n",
    "\n",
    "for _ in team:\n",
    "    print(\"counted\")"
   ]
  },
  {
   "cell_type": "markdown",
   "metadata": {},
   "source": [
    "We can do the same type of looping over other structures. See examples of tuples and dictionaries below.\n",
    "\n",
    "#### 5.02.03 Looping with a tuple"
   ]
  },
  {
   "cell_type": "code",
   "execution_count": 6,
   "metadata": {},
   "outputs": [
    {
     "name": "stdout",
     "output_type": "stream",
     "text": [
      "1\n",
      "3\n",
      "5\n",
      "7\n",
      "9\n"
     ]
    }
   ],
   "source": [
    "tup = (1,3,5,7,9)\n",
    "\n",
    "for i in tup:\n",
    "    print(i)"
   ]
  },
  {
   "cell_type": "markdown",
   "metadata": {},
   "source": [
    "#### 5.02.04 Looping with a dictionary"
   ]
  },
  {
   "cell_type": "code",
   "execution_count": 7,
   "metadata": {},
   "outputs": [
    {
     "name": "stdout",
     "output_type": "stream",
     "text": [
      "name\n",
      "last_name\n",
      "age\n",
      "rap_style\n",
      "Shuggy\n",
      "McShugface\n",
      "108\n",
      "Thug\n",
      "name\n",
      "last_name\n",
      "age\n",
      "rap_style\n"
     ]
    }
   ],
   "source": [
    "my_dict = {\"name\" : \"Shuggy\", \"last_name\" : \"McShugface\", \"age\" : 108, \"rap_style\" : \"Thug\"}\n",
    "\n",
    "# typical layout\n",
    "for key in my_dict.keys():\n",
    "    print(key)\n",
    "    \n",
    "# to get values\n",
    "for val in my_dict.values():\n",
    "    print(val)\n",
    "    \n",
    "# note the possibility to use a more lax syntax here\n",
    "# because keys are the default in dicts\n",
    "for i in my_dict:\n",
    "    print(i)"
   ]
  },
  {
   "cell_type": "code",
   "execution_count": 8,
   "metadata": {},
   "outputs": [
    {
     "name": "stdout",
     "output_type": "stream",
     "text": [
      "k is: name & v is: Shuggy\n",
      "k is: last_name & v is: McShugface\n",
      "k is: age & v is: 108\n",
      "k is: rap_style & v is: Thug\n"
     ]
    }
   ],
   "source": [
    "# we can aso use the .items()\n",
    "for k, v in my_dict.items():\n",
    "    print(f\"k is: {k} & v is: {v}\")"
   ]
  },
  {
   "cell_type": "markdown",
   "metadata": {},
   "source": [
    "#### 5.02.05  Loops with nested structures\n",
    "\n",
    "Let's have a look at a concept called unpacking. This is where we have nested structures"
   ]
  },
  {
   "cell_type": "code",
   "execution_count": 9,
   "metadata": {},
   "outputs": [
    {
     "name": "stdout",
     "output_type": "stream",
     "text": [
      "(1, 2)\n",
      "(3, 4)\n",
      "(5, 6)\n",
      "(7, 8)\n",
      "(9, 10)\n",
      "(11, 12)\n"
     ]
    }
   ],
   "source": [
    "tuplist = [(1,2), (3,4), (5,6), (7,8), (9,10), (11,12)]\n",
    "\n",
    "# loop of list\n",
    "for i in tuplist:\n",
    "    print(i)"
   ]
  },
  {
   "cell_type": "code",
   "execution_count": 10,
   "metadata": {},
   "outputs": [
    {
     "name": "stdout",
     "output_type": "stream",
     "text": [
      "a = 1\n",
      "b = 2\n",
      "-> a * b = 2\n",
      "a = 3\n",
      "b = 4\n",
      "-> a * b = 12\n",
      "a = 5\n",
      "b = 6\n",
      "-> a * b = 30\n",
      "a = 7\n",
      "b = 8\n",
      "-> a * b = 56\n",
      "a = 9\n",
      "b = 10\n",
      "-> a * b = 90\n",
      "a = 11\n",
      "b = 12\n",
      "-> a * b = 132\n"
     ]
    }
   ],
   "source": [
    "# using tuple unpacking, which is very common in python\n",
    "# essentially you're recreting the tuple structure within\n",
    "# the loop controller and therefore unpacking them. This \n",
    "# allows the programmer to use them as desired. \n",
    "for (a,b) in tuplist:\n",
    "    print(f\"a = {a}\")\n",
    "    print(f\"b = {b}\")\n",
    "    print(f\"-> a * b = {a*b}\")"
   ]
  },
  {
   "cell_type": "code",
   "execution_count": 11,
   "metadata": {},
   "outputs": [
    {
     "name": "stdout",
     "output_type": "stream",
     "text": [
      "2\n",
      "4\n",
      "6\n",
      "8\n",
      "10\n",
      "12\n"
     ]
    }
   ],
   "source": [
    "# use same structure to get only the b-values of\n",
    "# each (a,b) tuple structure within our list.\n",
    "for a,b in tuplist:\n",
    "    print(b)"
   ]
  },
  {
   "cell_type": "code",
   "execution_count": null,
   "metadata": {},
   "outputs": [],
   "source": []
  },
  {
   "cell_type": "markdown",
   "metadata": {},
   "source": [
    "## 5.03 While loops in Python"
   ]
  },
  {
   "cell_type": "markdown",
   "metadata": {},
   "source": [
    "While loops are used to keep iterating while a controlling condition is met. This can be a case of `while condition = True` do something.. or `while condition = False` do something else, underneath you can see it's while a specific condition remain the case (true or false) keep repeating the set of actions. "
   ]
  },
  {
   "cell_type": "markdown",
   "metadata": {},
   "source": [
    "#### 5.03.01 while loop syntax and remembering iteration controller\n",
    "\n",
    "poor implementation of a while loop can easily lead to infinite loops. If the loop controller is not updated it means the original condition is never changed and the loop will run until the machine crashes from running out of memory, or another system error is triggered causing a crash. The sheer uncontrollable nature of infinite loops means they are truly undesirable in computer science. "
   ]
  },
  {
   "cell_type": "code",
   "execution_count": 12,
   "metadata": {},
   "outputs": [
    {
     "name": "stdout",
     "output_type": "stream",
     "text": [
      " x = 0\n",
      " x = 1\n",
      " x = 2\n",
      " x = 3\n",
      " x = 4\n",
      " x = 5\n",
      " x = 6\n",
      " x = 7\n"
     ]
    }
   ],
   "source": [
    "x = 0\n",
    "\n",
    "while x < 8:\n",
    "    print(f\" x = {x}\")\n",
    "    x += 1"
   ]
  },
  {
   "cell_type": "markdown",
   "metadata": {},
   "source": [
    "## 5.04 break, continue & pass"
   ]
  },
  {
   "cell_type": "markdown",
   "metadata": {},
   "source": [
    "We can use `break`, `continue` & `pass` in loops to add additional controlling functionalities. \n",
    "\n",
    "- `break` : breaks out of the current closest enclosing loop.\n",
    "- `continue` : goes to the top of the closest enclosing loop\n",
    "- `pass` : does nothing at all, allows passing over without action\n"
   ]
  },
  {
   "cell_type": "code",
   "execution_count": 16,
   "metadata": {},
   "outputs": [
    {
     "name": "stdout",
     "output_type": "stream",
     "text": [
      "3 : Fizz\n",
      "5 : Buzz\n",
      "6 : Fizz\n",
      "9 : Fizz\n",
      "10 : Buzz\n",
      "12 : Fizz\n",
      "15 : FizzBuzz and out\n"
     ]
    }
   ],
   "source": [
    "# demonstrate break, continue and pass with fizzbuzz\n",
    "for i in range(100):\n",
    "    if i == 0:\n",
    "        continue\n",
    "    if i % 3 == 0 and i % 5 == 0: \n",
    "        print(f\"{i} : FizzBuzz and out\")\n",
    "        break\n",
    "    elif i % 3 == 0 and i % 5 != 0: print(f\"{i} : Fizz\")\n",
    "    elif i % 5 == 0 and i % 3 != 0: print(f\"{i} : Buzz\")\n",
    "    else:\n",
    "        pass\n",
    "    "
   ]
  },
  {
   "cell_type": "code",
   "execution_count": null,
   "metadata": {},
   "outputs": [],
   "source": []
  },
  {
   "cell_type": "markdown",
   "metadata": {},
   "source": [
    "## 5.05 Useful operators in Python "
   ]
  },
  {
   "cell_type": "markdown",
   "metadata": {},
   "source": [
    "Additional operators include. \n",
    "\n",
    "- 5.05.01 range(start, stop, step)\n",
    "- 5.05.02 enumerate: a way of implementing an index on a value\n",
    "- 5.05.03 zip: used to zip structures together. \n",
    "- 5.05.04 in : useful for checking of something is present or not\n",
    "- 5.05.05 min : get the minimum value from...\n",
    "- 5.05.06 max : get the maximum value from... \n",
    "- 5.05.07 shuffle : requires an import from random but useful for shuffling a list of values. \n",
    "- 5.05.08 randint : requires an import from random but useful for obtaining a random integer value"
   ]
  },
  {
   "cell_type": "markdown",
   "metadata": {},
   "source": [
    "#### 5.05.01 range function\n",
    "The range function takes a possibility of of 3 inputs, the `start-value`, the `stop-value` & `step-value`. The defaults are that the: \n",
    "- start-value is inclusive (included)\n",
    "- stop value is exclusive (excluded)\n",
    "- step-value if omitted is 1 (if not specified assume 1)"
   ]
  },
  {
   "cell_type": "code",
   "execution_count": 30,
   "metadata": {},
   "outputs": [
    {
     "name": "stdout",
     "output_type": "stream",
     "text": [
      "0\n",
      "1\n",
      "2\n",
      "3\n",
      "4\n"
     ]
    }
   ],
   "source": [
    "# demonstrate the inclusive/exclusive and default increment\n",
    "# omitted in this case.  \n",
    "for i in range(5):\n",
    "    print(i)"
   ]
  },
  {
   "cell_type": "code",
   "execution_count": 31,
   "metadata": {},
   "outputs": [
    {
     "name": "stdout",
     "output_type": "stream",
     "text": [
      "0 x\n",
      "1 y\n",
      "2 z\n"
     ]
    }
   ],
   "source": [
    "# use a range controller (length of another structure)\n",
    "items = ['x','y','z']\n",
    "for item in range(len(items)):\n",
    "    print(item, items[item])"
   ]
  },
  {
   "cell_type": "code",
   "execution_count": 32,
   "metadata": {},
   "outputs": [
    {
     "name": "stdout",
     "output_type": "stream",
     "text": [
      "10\n",
      "12\n",
      "14\n",
      "16\n",
      "18\n",
      "20\n"
     ]
    }
   ],
   "source": [
    "# print all the numbers between 10-21 but count up in 2's\n",
    "for i in range(10, 21, 2):\n",
    "    print(i)"
   ]
  },
  {
   "cell_type": "markdown",
   "metadata": {},
   "source": [
    "#### 5.05.02 Enumerate"
   ]
  },
  {
   "cell_type": "code",
   "execution_count": 17,
   "metadata": {},
   "outputs": [
    {
     "name": "stdout",
     "output_type": "stream",
     "text": [
      "index : 0 - letter: b\n",
      "index : 1 - letter: i\n",
      "index : 2 - letter: g\n",
      "index : 3 - letter: -\n",
      "index : 4 - letter: l\n",
      "index : 5 - letter: o\n",
      "index : 6 - letter: n\n",
      "index : 7 - letter: g\n",
      "index : 8 - letter: -\n",
      "index : 9 - letter: w\n",
      "index : 10 - letter: o\n",
      "index : 11 - letter: r\n",
      "index : 12 - letter: d\n",
      "index : 13 - letter: -\n",
      "index : 14 - letter: v\n",
      "index : 15 - letter: a\n",
      "index : 16 - letter: l\n",
      "index : 17 - letter: u\n",
      "index : 18 - letter: e\n"
     ]
    }
   ],
   "source": [
    "# enumerate example \n",
    "\n",
    "word = \"big-long-word-value\"\n",
    "for index, letter in enumerate(word):\n",
    "    print(f\"index : {index} - letter: {letter}\")"
   ]
  },
  {
   "cell_type": "markdown",
   "metadata": {},
   "source": [
    "#### 5.05.03 zip"
   ]
  },
  {
   "cell_type": "code",
   "execution_count": 22,
   "metadata": {},
   "outputs": [
    {
     "name": "stdout",
     "output_type": "stream",
     "text": [
      "peeps object: <zip object at 0x7fcd68ac1100>\n",
      "unpacking peeps...\n",
      "('ed', 20)\n",
      "('Ted', 30)\n",
      "('Tom', 40)\n",
      "('John', 25)\n",
      "('Abigail', 33)\n",
      "('Leslie', 90)\n"
     ]
    }
   ],
   "source": [
    "# zip\n",
    "names = [\"ed\", \"Ted\", \"Tom\", \"John\", \"Abigail\", \"Leslie\"]\n",
    "ages = [20,30,40,25,33,90]\n",
    "\n",
    "# do the zip operation\n",
    "peeps = zip(names, ages)\n",
    "\n",
    "# but this can't be printed/used directly\n",
    "print(f\"peeps object: {peeps}\")\n",
    "\n",
    "# usable peeps \n",
    "print(f\"unpacking peeps...\")\n",
    "for item in peeps:\n",
    "    print(item)"
   ]
  },
  {
   "cell_type": "markdown",
   "metadata": {},
   "source": [
    "#### 5.05.04 The `in` operator"
   ]
  },
  {
   "cell_type": "code",
   "execution_count": 23,
   "metadata": {},
   "outputs": [
    {
     "data": {
      "text/plain": [
       "False"
      ]
     },
     "execution_count": 23,
     "metadata": {},
     "output_type": "execute_result"
    }
   ],
   "source": [
    "#\n",
    "vals = [100, 500, 300]\n",
    "\n",
    "'John' in vals"
   ]
  },
  {
   "cell_type": "code",
   "execution_count": 24,
   "metadata": {},
   "outputs": [
    {
     "data": {
      "text/plain": [
       "True"
      ]
     },
     "execution_count": 24,
     "metadata": {},
     "output_type": "execute_result"
    }
   ],
   "source": [
    "vals = [1,5,9]\n",
    "\n",
    "9 in vals"
   ]
  },
  {
   "cell_type": "markdown",
   "metadata": {},
   "source": [
    "#### 5.05.05 The `min` operator"
   ]
  },
  {
   "cell_type": "code",
   "execution_count": 35,
   "metadata": {},
   "outputs": [
    {
     "data": {
      "text/plain": [
       "10"
      ]
     },
     "execution_count": 35,
     "metadata": {},
     "output_type": "execute_result"
    }
   ],
   "source": [
    "nums = [10,11,80, 99]\n",
    "min(nums)"
   ]
  },
  {
   "cell_type": "markdown",
   "metadata": {},
   "source": [
    "#### 5.05.06 The `max` operator"
   ]
  },
  {
   "cell_type": "code",
   "execution_count": 36,
   "metadata": {},
   "outputs": [
    {
     "data": {
      "text/plain": [
       "'c'"
      ]
     },
     "execution_count": 36,
     "metadata": {},
     "output_type": "execute_result"
    }
   ],
   "source": [
    "letters = ('a', 'b', 'c')\n",
    "max(letters)"
   ]
  },
  {
   "cell_type": "markdown",
   "metadata": {},
   "source": [
    "#### 5.05.07 using `random.shuffle`"
   ]
  },
  {
   "cell_type": "code",
   "execution_count": 44,
   "metadata": {},
   "outputs": [
    {
     "data": {
      "text/plain": [
       "[15, 11, 17, 9, 21, 1, 13, 19, 5, 7, 3]"
      ]
     },
     "execution_count": 44,
     "metadata": {},
     "output_type": "execute_result"
    }
   ],
   "source": [
    "from random import shuffle\n",
    "nums = [1,3,5,7,9,11,13,15,17,19,21]\n",
    "\n",
    "# the function has a None return as its an \n",
    "# inline operation (repeat cell to see the \n",
    "# differing outcomes of each execution)\n",
    "shuffle(nums)\n",
    "\n",
    "# show values \n",
    "nums"
   ]
  },
  {
   "cell_type": "markdown",
   "metadata": {},
   "source": [
    "#### 5.05.08 using `random.randint`"
   ]
  },
  {
   "cell_type": "code",
   "execution_count": 72,
   "metadata": {},
   "outputs": [
    {
     "data": {
      "text/plain": [
       "20"
      ]
     },
     "execution_count": 72,
     "metadata": {},
     "output_type": "execute_result"
    }
   ],
   "source": [
    "from random import randint\n",
    "\n",
    "num = randint(1, 20)\n",
    "num"
   ]
  },
  {
   "cell_type": "markdown",
   "metadata": {},
   "source": [
    "## 5.06 List comprehension\n",
    "\n",
    "list allow us to store collections of same or different data items that belong in a collection together. A fairly standard programatic approach os to declare an empty list stricture, then iterate over some values or counter and add them to your list structure. A more succinct way of completing his operation is to use a `list comprehension` which facilitates the declaring and populating (with optional conditionals) all in a single line of code. \n",
    "\n",
    "These optimisations should be used where appropriate and witout compromising readability and code understanding. Deeply nested operations can be achieved with list comprehensions but each layer adds a significant overhead to being digestible at a later date, or to other programmers. They can be showy, flashy sttructures or they can be pythonic and helpful. Aim to be pythonic and helpful. "
   ]
  },
  {
   "cell_type": "code",
   "execution_count": null,
   "metadata": {},
   "outputs": [],
   "source": [
    "** explain ** "
   ]
  },
  {
   "cell_type": "code",
   "execution_count": 76,
   "metadata": {},
   "outputs": [
    {
     "data": {
      "text/plain": [
       "['L', 'i', 's', 't', ' ', 'o', 'f', ' ', 'l', 'e', 't', 't', 'e', 'r', 's']"
      ]
     },
     "execution_count": 76,
     "metadata": {},
     "output_type": "execute_result"
    }
   ],
   "source": [
    "# a typical iterative example \n",
    "my_list = []\n",
    "\n",
    "chars = \"List of letters\"\n",
    "\n",
    "for letter in chars:\n",
    "    my_list.append(letter)\n",
    "    \n",
    "my_list"
   ]
  },
  {
   "cell_type": "code",
   "execution_count": 79,
   "metadata": {},
   "outputs": [
    {
     "data": {
      "text/plain": [
       "['L', 'i', 's', 't', ' ', 'o', 'f', ' ', 'l', 'e', 't', 't', 'e', 'r', 's']"
      ]
     },
     "execution_count": 79,
     "metadata": {},
     "output_type": "execute_result"
    }
   ],
   "source": [
    "# a list comprehension of the above example \n",
    "my_list = [letter for letter in chars]\n",
    "my_list"
   ]
  },
  {
   "cell_type": "code",
   "execution_count": 80,
   "metadata": {},
   "outputs": [
    {
     "data": {
      "text/plain": [
       "['l', 'e', 't', 't', 'e', 'r', 's']"
      ]
     },
     "execution_count": 80,
     "metadata": {},
     "output_type": "execute_result"
    }
   ],
   "source": [
    "# can also be done inline \n",
    "letters = [x for x in 'letters']\n",
    "letters"
   ]
  },
  {
   "cell_type": "code",
   "execution_count": 81,
   "metadata": {},
   "outputs": [
    {
     "data": {
      "text/plain": [
       "[0, 1, 2, 3, 4, 5, 6, 7, 8, 9, 10, 11, 12, 13, 14, 15, 16, 17, 18, 19]"
      ]
     },
     "execution_count": 81,
     "metadata": {},
     "output_type": "execute_result"
    }
   ],
   "source": [
    "# makes a good data generator. ie, numbers\n",
    "nums = [x for x in range(20)]\n",
    "nums"
   ]
  },
  {
   "cell_type": "code",
   "execution_count": 86,
   "metadata": {},
   "outputs": [
    {
     "data": {
      "text/plain": [
       "[(0, 0, 0),\n",
       " (1, 1, 1),\n",
       " (2, 4, 8),\n",
       " (3, 9, 27),\n",
       " (4, 16, 64),\n",
       " (5, 25, 125),\n",
       " (6, 36, 216),\n",
       " (7, 49, 343),\n",
       " (8, 64, 512),\n",
       " (9, 81, 729),\n",
       " (10, 100, 1000),\n",
       " (11, 121, 1331),\n",
       " (12, 144, 1728),\n",
       " (13, 169, 2197),\n",
       " (14, 196, 2744),\n",
       " (15, 225, 3375),\n",
       " (16, 256, 4096),\n",
       " (17, 289, 4913),\n",
       " (18, 324, 5832),\n",
       " (19, 361, 6859)]"
      ]
     },
     "execution_count": 86,
     "metadata": {},
     "output_type": "execute_result"
    }
   ],
   "source": [
    "# can be used to perform operations too\n",
    "nums = [(x, x**2, x**3) for x in range(20)]\n",
    "nums"
   ]
  },
  {
   "cell_type": "code",
   "execution_count": 84,
   "metadata": {},
   "outputs": [
    {
     "data": {
      "text/plain": [
       "[(0, 0, 0),\n",
       " (2, 4, 8),\n",
       " (4, 16, 64),\n",
       " (6, 36, 216),\n",
       " (8, 64, 512),\n",
       " (10, 100, 1000),\n",
       " (12, 144, 1728),\n",
       " (14, 196, 2744),\n",
       " (16, 256, 4096),\n",
       " (18, 324, 5832)]"
      ]
     },
     "execution_count": 84,
     "metadata": {},
     "output_type": "execute_result"
    }
   ],
   "source": [
    "# conditionals using if.\n",
    "# can be used to perform operations too\n",
    "nums = [(x, x**2, x**3) for x in range(20) if x % 2 == 0]\n",
    "nums"
   ]
  },
  {
   "cell_type": "markdown",
   "metadata": {},
   "source": [
    "**reminder** conditionals using `if else` come with a warning, although forked conditionals can be done it can compromise readability and understanding of the codes intentions and that is problematic so keep in mind that with great power comes a great responsibility to wield it well. It's easy to fall into the trap of trying to used `list comprehensions` for everything but that would be overkill and lead to poor code overall. Readability above all else, optimise only where it makes sense to do so.  "
   ]
  },
  {
   "cell_type": "code",
   "execution_count": 107,
   "metadata": {},
   "outputs": [
    {
     "data": {
      "text/plain": [
       "[1,\n",
       " 2,\n",
       " 'FIZZ',\n",
       " 4,\n",
       " 'BUZZ',\n",
       " 'FIZZ',\n",
       " 7,\n",
       " 8,\n",
       " 'FIZZ',\n",
       " 'BUZZ',\n",
       " 11,\n",
       " 'FIZZ',\n",
       " 13,\n",
       " 14,\n",
       " 'FIZZBUZZ',\n",
       " 16,\n",
       " 17,\n",
       " 'FIZZ',\n",
       " 19]"
      ]
     },
     "execution_count": 107,
     "metadata": {},
     "output_type": "execute_result"
    }
   ],
   "source": [
    "# whilst a bit showy, this is not good maintainable code. \n",
    "# all it is is a one-line fizzbuzz solution\n",
    "\n",
    "f = ['FIZZBUZZ' if x % 3 ==0 and x % 5 == 0 else 'FIZZ' if (x %3 ==0 and x % 5 !=0) else 'BUZZ' if (x % 3 != 0 and x % 5 == 0) else x for x in range(1,20)]\n",
    "f"
   ]
  },
  {
   "cell_type": "markdown",
   "metadata": {},
   "source": [
    "#### Real world examples of list comprehensions \n",
    "\n",
    "The typical case is to replace `loops`, `map` & `filter` calls. These can make got good cases for a comprehension to be used instead."
   ]
  },
  {
   "cell_type": "code",
   "execution_count": 87,
   "metadata": {},
   "outputs": [
    {
     "data": {
      "text/plain": [
       "[32.0, 50.0, 68.0, 99.5, 212.0, 392.0]"
      ]
     },
     "execution_count": 87,
     "metadata": {},
     "output_type": "execute_result"
    }
   ],
   "source": [
    "# real world example\n",
    "celsius = [0,10,20,37.5, 100, 200]\n",
    "\n",
    "f = [((9/5) *temp + 32) for temp in celsius]\n",
    "f"
   ]
  },
  {
   "cell_type": "markdown",
   "metadata": {},
   "source": [
    "#### Nested loop example "
   ]
  },
  {
   "cell_type": "code",
   "execution_count": 98,
   "metadata": {},
   "outputs": [
    {
     "data": {
      "text/plain": [
       "[100, 200, 300, 200, 400, 600, 300, 600, 900]"
      ]
     },
     "execution_count": 98,
     "metadata": {},
     "output_type": "execute_result"
    }
   ],
   "source": [
    "# nested loop example\n",
    "my_list = []\n",
    "for x in [1,2,3]:\n",
    "    for y in [100,200,300]:\n",
    "        my_list.append(x * y)\n",
    "\n",
    "my_list"
   ]
  },
  {
   "cell_type": "code",
   "execution_count": 106,
   "metadata": {},
   "outputs": [
    {
     "data": {
      "text/plain": [
       "[10, 20, 30, 20, 40, 60, 30, 60, 90, 40, 80, 120, 50, 100, 150]"
      ]
     },
     "execution_count": 106,
     "metadata": {},
     "output_type": "execute_result"
    }
   ],
   "source": [
    "# as a list comp\n",
    "my_list = [x*y for x in range(10,51,10) for y in range(1,4)]\n",
    "my_list"
   ]
  },
  {
   "cell_type": "code",
   "execution_count": null,
   "metadata": {},
   "outputs": [],
   "source": []
  }
 ],
 "metadata": {
  "kernelspec": {
   "display_name": "pykit",
   "language": "python",
   "name": "pykit"
  },
  "language_info": {
   "codemirror_mode": {
    "name": "ipython",
    "version": 3
   },
   "file_extension": ".py",
   "mimetype": "text/x-python",
   "name": "python",
   "nbconvert_exporter": "python",
   "pygments_lexer": "ipython3",
   "version": "3.8.3"
  }
 },
 "nbformat": 4,
 "nbformat_minor": 4
}
