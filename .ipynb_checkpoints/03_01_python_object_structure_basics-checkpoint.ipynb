{
 "cells": [
  {
   "cell_type": "markdown",
   "metadata": {},
   "source": [
    "# Python Object and Data Structure basics\n",
    "\n",
    "### Python data types\n",
    "- int : integers : whole numbers from within the real number set.\n",
    "- float : floating point : numbers with a decimal point from within the real numbers set.\n",
    "- str : Strings : ordered sequence characters, alphanumeric.\n",
    "- list : Lists : Ordered sequence of objects.\n",
    "- dict : Dictionaries : Unordered `key:value` pairings.\n",
    "- tup : tuple : ordered immutable sequence of objects.\n",
    "- set : Sets : unordered collection of unique objects. \n",
    "- bool : Booleans : logical values indicating True or False. "
   ]
  },
  {
   "cell_type": "markdown",
   "metadata": {},
   "source": [
    "### Python numbers\n",
    "\n",
    "Python supports standard numbers operations of add, subtract, multiply divide. It also provides modulo opeations and floor division. "
   ]
  },
  {
   "cell_type": "code",
   "execution_count": 9,
   "metadata": {},
   "outputs": [
    {
     "data": {
      "text/plain": [
       "42"
      ]
     },
     "execution_count": 9,
     "metadata": {},
     "output_type": "execute_result"
    }
   ],
   "source": [
    "20 + 5 + 17"
   ]
  },
  {
   "cell_type": "code",
   "execution_count": 10,
   "metadata": {},
   "outputs": [
    {
     "data": {
      "text/plain": [
       "42"
      ]
     },
     "execution_count": 10,
     "metadata": {},
     "output_type": "execute_result"
    }
   ],
   "source": [
    "50 - 7 - 1"
   ]
  },
  {
   "cell_type": "code",
   "execution_count": 11,
   "metadata": {},
   "outputs": [
    {
     "data": {
      "text/plain": [
       "42"
      ]
     },
     "execution_count": 11,
     "metadata": {},
     "output_type": "execute_result"
    }
   ],
   "source": [
    "21 * 2 + 0"
   ]
  },
  {
   "cell_type": "code",
   "execution_count": 15,
   "metadata": {},
   "outputs": [
    {
     "data": {
      "text/plain": [
       "42.0"
      ]
     },
     "execution_count": 15,
     "metadata": {},
     "output_type": "execute_result"
    }
   ],
   "source": [
    "84 / 2 # Aha... note that we are returning a float here on the division operator"
   ]
  },
  {
   "cell_type": "code",
   "execution_count": 16,
   "metadata": {},
   "outputs": [
    {
     "data": {
      "text/plain": [
       "42"
      ]
     },
     "execution_count": 16,
     "metadata": {},
     "output_type": "execute_result"
    }
   ],
   "source": [
    "84 // 2 # floor division will always return the integer value"
   ]
  },
  {
   "cell_type": "code",
   "execution_count": 17,
   "metadata": {},
   "outputs": [
    {
     "data": {
      "text/plain": [
       "42"
      ]
     },
     "execution_count": 17,
     "metadata": {},
     "output_type": "execute_result"
    }
   ],
   "source": [
    "142 % 50"
   ]
  },
  {
   "cell_type": "markdown",
   "metadata": {},
   "source": [
    "# Variables as value refrerences\n",
    "\n",
    "- Does not allow spaces, underscores are preferred, or more `pythonic`\n",
    "- Does not start with a number, but may contain one.\n",
    "- pep8 (style guide) asks they be lowercase for variables where values may change, fully UPPERCASE for constants which don't. \n",
    "- May not be python reserved words, like list, str, int etc...\n",
    "\n",
    "Python has dynamic typing meaning that you can have a value `x` point to a string, then reassign that to an integer vale, then reassign that to a boolean and so on...\n",
    "If you are unsure you can quickly check the type with the `type()` function."
   ]
  },
  {
   "cell_type": "code",
   "execution_count": 18,
   "metadata": {},
   "outputs": [
    {
     "data": {
      "text/plain": [
       "str"
      ]
     },
     "execution_count": 18,
     "metadata": {},
     "output_type": "execute_result"
    }
   ],
   "source": [
    "# eg.... \n",
    "\n",
    "x = \"string value\"\n",
    "type(x)"
   ]
  },
  {
   "cell_type": "code",
   "execution_count": 23,
   "metadata": {},
   "outputs": [
    {
     "data": {
      "text/plain": [
       "int"
      ]
     },
     "execution_count": 23,
     "metadata": {},
     "output_type": "execute_result"
    }
   ],
   "source": [
    "x = 10\n",
    "type(x)"
   ]
  },
  {
   "cell_type": "code",
   "execution_count": 24,
   "metadata": {},
   "outputs": [
    {
     "data": {
      "text/plain": [
       "bool"
      ]
     },
     "execution_count": 24,
     "metadata": {},
     "output_type": "execute_result"
    }
   ],
   "source": [
    "# getting ahead here we're using conditional checking.\n",
    "# if False is the same as x, not the double equals\n",
    "\n",
    "if False == x:\n",
    "    print(x)\n",
    "else:\n",
    "    x = False\n",
    "    \n",
    "type(x)\n",
    "\n",
    "# as an aside, re-run the cell after it has first been run.  :) "
   ]
  },
  {
   "cell_type": "markdown",
   "metadata": {},
   "source": [
    "# Python Strings\n",
    "\n",
    "A sequence of characters encased in single or double quotes. If you want to include a quote in a string you will have to escape it, or use the opposite quote type. ie, if your string is encased in double quotes you can use a single quote without escaping, if it's encased in single quotes a double quote can be used. Strings can be indexed and sliced, indexed means we can access a particular character from a a string because each character has an index. Python indexing starts at zero, so the first character is [0]. Slicing allows us specify a start and an end and select a substring from a source string. "
   ]
  },
  {
   "cell_type": "code",
   "execution_count": 26,
   "metadata": {},
   "outputs": [
    {
     "name": "stdout",
     "output_type": "stream",
     "text": [
      "Hello \n",
      "F\n",
      "R\n",
      "O\n",
      "M\n",
      "Python\n"
     ]
    }
   ],
   "source": [
    "# we can also include escaped characters\n",
    "x = \"Hello \\nF\\nR\\nO\\nM\\nPython\"\n",
    "print(x)\n"
   ]
  },
  {
   "cell_type": "markdown",
   "metadata": {},
   "source": [
    "### String indexing and slicing"
   ]
  },
  {
   "cell_type": "code",
   "execution_count": 27,
   "metadata": {},
   "outputs": [
    {
     "data": {
      "text/plain": [
       "'o'"
      ]
     },
     "execution_count": 27,
     "metadata": {},
     "output_type": "execute_result"
    }
   ],
   "source": [
    "x = \"You say goodbye, but I say Hello, hello, hello, I don't know why you say goodbye I say hello\"\n",
    "\n",
    "# indexing, let's start with negative index to get the last character. \n",
    "y = x[-1]\n",
    "y"
   ]
  },
  {
   "cell_type": "code",
   "execution_count": 28,
   "metadata": {},
   "outputs": [
    {
     "data": {
      "text/plain": [
       "21"
      ]
     },
     "execution_count": 28,
     "metadata": {},
     "output_type": "execute_result"
    }
   ],
   "source": [
    "# lets grab the index of the first 'I' and check the position\n",
    "z = x.index(\"I\")\n",
    "z"
   ]
  },
  {
   "cell_type": "code",
   "execution_count": 30,
   "metadata": {},
   "outputs": [
    {
     "data": {
      "text/plain": [
       "'I say Hello'"
      ]
     },
     "execution_count": 30,
     "metadata": {},
     "output_type": "execute_result"
    }
   ],
   "source": [
    "# slicing is grabbing a subset, so lets say we want I say Hello.\n",
    "# note we must remembver the inclusive, exclusive rule for slicing\n",
    "# so we start at 21 which is inclusive and set the end index, which \n",
    "# is excluded to one beyond the desired value, in our case here 32. \n",
    "z = x[21:32]\n",
    "z"
   ]
  },
  {
   "cell_type": "code",
   "execution_count": 31,
   "metadata": {},
   "outputs": [
    {
     "data": {
      "text/plain": [
       "'You say goodbye, but I say Hello'"
      ]
     },
     "execution_count": 31,
     "metadata": {},
     "output_type": "execute_result"
    }
   ],
   "source": [
    "# lets say we want to take the whole string but only up \n",
    "# to a certain value, so we want to stop at 32. \n",
    "z = x[:32]\n",
    "z\n",
    "\n",
    "# we use the colon to separate the start, end and step values\n",
    "# nothing specified for the start and then the colon means\n",
    "# take everything. \n",
    "# so we have everything up until character 32, as no step was\n",
    "# prescribed, take everything. "
   ]
  },
  {
   "cell_type": "code",
   "execution_count": 32,
   "metadata": {},
   "outputs": [
    {
     "data": {
      "text/plain": [
       "'Yusygobe u  a el'"
      ]
     },
     "execution_count": 32,
     "metadata": {},
     "output_type": "execute_result"
    }
   ],
   "source": [
    "# lets demo steps\n",
    "z = x [:32:2]\n",
    "z\n",
    "\n",
    "\n",
    "# Now we're only taking every second letter. "
   ]
  },
  {
   "cell_type": "code",
   "execution_count": 34,
   "metadata": {},
   "outputs": [
    {
     "data": {
      "text/plain": [
       "\", hello, hello, I don't know why you say goodbye I say hello\""
      ]
     },
     "execution_count": 34,
     "metadata": {},
     "output_type": "execute_result"
    }
   ],
   "source": [
    "# default values works for each segment\n",
    "# lets grab everything after the first Hello\n",
    "z = x[32:]\n",
    "z"
   ]
  },
  {
   "cell_type": "code",
   "execution_count": 35,
   "metadata": {},
   "outputs": [
    {
     "data": {
      "text/plain": [
       "'hello'"
      ]
     },
     "execution_count": 35,
     "metadata": {},
     "output_type": "execute_result"
    }
   ],
   "source": [
    "# Lets see more negative indexing to grab just the last word. \n",
    "z = x[-5:]\n",
    "z"
   ]
  },
  {
   "cell_type": "markdown",
   "metadata": {},
   "source": [
    "***Point to remember** strings are immutable, reassignment of a string is creating a new strig, because you can't reassign to a string"
   ]
  },
  {
   "cell_type": "code",
   "execution_count": 39,
   "metadata": {},
   "outputs": [
    {
     "data": {
      "text/plain": [
       "\"Iou say goodbye, but I say Hello, hello, hello, I don't know why you say goodbye I say hello\""
      ]
     },
     "execution_count": 39,
     "metadata": {},
     "output_type": "execute_result"
    }
   ],
   "source": [
    "# This would fail\n",
    "# x[0] = \"I\"\n",
    "\n",
    "# to achieve that we need to we cold use\n",
    "x = \"I\" + x[1:]\n",
    "x\n",
    "\n",
    "# Note the result doesn't make much sense grammatically but the point \n",
    "# is to see we have to create a new string as we cannot mutate the old. "
   ]
  },
  {
   "cell_type": "markdown",
   "metadata": {},
   "source": [
    "### Quick mindbender with strings\n",
    "\n",
    "Strings use an `overloaded` operator to allow concatenation, so we see the + syntax used and it joins them. Tgis can be confusing with numbers that are strings"
   ]
  },
  {
   "cell_type": "code",
   "execution_count": 41,
   "metadata": {},
   "outputs": [
    {
     "data": {
      "text/plain": [
       "'253'"
      ]
     },
     "execution_count": 41,
     "metadata": {},
     "output_type": "execute_result"
    }
   ],
   "source": [
    "\"2\" + \"5\" + \"3\" #should be ten, right?"
   ]
  },
  {
   "cell_type": "markdown",
   "metadata": {},
   "source": [
    "So be aware of types when adding/concatenating. In short the `+` syntax does not always mean `+` the way you expect it to."
   ]
  },
  {
   "cell_type": "markdown",
   "metadata": {},
   "source": [
    "### String casing\n",
    "\n",
    "The methods: \n",
    "- upper()\n",
    "- lower()"
   ]
  },
  {
   "cell_type": "code",
   "execution_count": 42,
   "metadata": {},
   "outputs": [
    {
     "data": {
      "text/plain": [
       "'hello'"
      ]
     },
     "execution_count": 42,
     "metadata": {},
     "output_type": "execute_result"
    }
   ],
   "source": [
    "\"HELLO\".lower()"
   ]
  },
  {
   "cell_type": "code",
   "execution_count": 43,
   "metadata": {},
   "outputs": [
    {
     "data": {
      "text/plain": [
       "'I WANT TO SHOUT'"
      ]
     },
     "execution_count": 43,
     "metadata": {},
     "output_type": "execute_result"
    }
   ],
   "source": [
    "\"i want to shout\".upper()"
   ]
  },
  {
   "cell_type": "markdown",
   "metadata": {},
   "source": [
    "### String splitting and joining "
   ]
  },
  {
   "cell_type": "code",
   "execution_count": 44,
   "metadata": {},
   "outputs": [
    {
     "data": {
      "text/plain": [
       "['This', 'is', 'the', 'source', 'string', 'for', 'splitting', 'and', 'joining']"
      ]
     },
     "execution_count": 44,
     "metadata": {},
     "output_type": "execute_result"
    }
   ],
   "source": [
    "source = \"This is the source string for splitting and joining\"\n",
    "words = source.split()\n",
    "words"
   ]
  },
  {
   "cell_type": "markdown",
   "metadata": {},
   "source": [
    "We have split the words into a python list that separated them by a space between each word in the source."
   ]
  },
  {
   "cell_type": "code",
   "execution_count": 45,
   "metadata": {},
   "outputs": [
    {
     "data": {
      "text/plain": [
       "['Th', 's ', 's the source str', 'ng for spl', 'tt', 'ng and jo', 'n', 'ng']"
      ]
     },
     "execution_count": 45,
     "metadata": {},
     "output_type": "execute_result"
    }
   ],
   "source": [
    "# Lets split on the letter i\n",
    "nonsense = source.split(\"i\")\n",
    "nonsense"
   ]
  },
  {
   "cell_type": "markdown",
   "metadata": {},
   "source": [
    "### Print formatting with Python Strings\n",
    "\n",
    "- f-strings  - after python 3.7\n",
    "- .format method - more traditional python3 method"
   ]
  },
  {
   "cell_type": "code",
   "execution_count": 46,
   "metadata": {},
   "outputs": [
    {
     "name": "stdout",
     "output_type": "stream",
     "text": [
      "Hey there, Your name\n",
      "Hey there, Your name\n"
     ]
    }
   ],
   "source": [
    "x = \"Your name\"\n",
    "\n",
    "print(f\"Hey there, {x}\")\n",
    "print(\"Hey there, {}\".format(x))\n",
    "    "
   ]
  },
  {
   "cell_type": "code",
   "execution_count": 53,
   "metadata": {},
   "outputs": [
    {
     "name": "stdout",
     "output_type": "stream",
     "text": [
      "5.68\n",
      "5.68\n"
     ]
    }
   ],
   "source": [
    "# lets see some numeric formatting \n",
    "x = 5.67565989\n",
    "\n",
    "print(f\"{x:.2f}\")\n",
    "print(\"{:.2f}\".format(x))\n"
   ]
  },
  {
   "cell_type": "markdown",
   "metadata": {},
   "source": [
    "# Python Lists"
   ]
  },
  {
   "cell_type": "code",
   "execution_count": null,
   "metadata": {},
   "outputs": [],
   "source": []
  },
  {
   "cell_type": "code",
   "execution_count": null,
   "metadata": {},
   "outputs": [],
   "source": []
  },
  {
   "cell_type": "code",
   "execution_count": null,
   "metadata": {},
   "outputs": [],
   "source": []
  },
  {
   "cell_type": "code",
   "execution_count": null,
   "metadata": {},
   "outputs": [],
   "source": []
  },
  {
   "cell_type": "code",
   "execution_count": null,
   "metadata": {},
   "outputs": [],
   "source": []
  },
  {
   "cell_type": "code",
   "execution_count": null,
   "metadata": {},
   "outputs": [],
   "source": []
  },
  {
   "cell_type": "code",
   "execution_count": null,
   "metadata": {},
   "outputs": [],
   "source": []
  },
  {
   "cell_type": "code",
   "execution_count": null,
   "metadata": {},
   "outputs": [],
   "source": []
  },
  {
   "cell_type": "code",
   "execution_count": null,
   "metadata": {},
   "outputs": [],
   "source": []
  },
  {
   "cell_type": "code",
   "execution_count": null,
   "metadata": {},
   "outputs": [],
   "source": []
  }
 ],
 "metadata": {
  "kernelspec": {
   "display_name": "pykit",
   "language": "python",
   "name": "pykit"
  },
  "language_info": {
   "codemirror_mode": {
    "name": "ipython",
    "version": 3
   },
   "file_extension": ".py",
   "mimetype": "text/x-python",
   "name": "python",
   "nbconvert_exporter": "python",
   "pygments_lexer": "ipython3",
   "version": "3.8.3"
  }
 },
 "nbformat": 4,
 "nbformat_minor": 4
}
